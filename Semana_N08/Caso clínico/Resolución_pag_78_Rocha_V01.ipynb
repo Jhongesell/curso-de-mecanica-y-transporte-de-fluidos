{
 "cells": [
  {
   "cell_type": "markdown",
   "metadata": {},
   "source": [
    "Problema original"
   ]
  },
  {
   "cell_type": "code",
   "execution_count": 1,
   "metadata": {},
   "outputs": [
    {
     "name": "stdout",
     "output_type": "stream",
     "text": [
      "Velocidad promedio es 1.7825353626292277 m/s\n"
     ]
    }
   ],
   "source": [
    "import numpy as np\n",
    "Q_ls = 14\n",
    "Q_m3s = Q_ls/1000\n",
    "D_cm = 10\n",
    "D_m = D_cm/100\n",
    "A_sec = np.pi * (D_m**2) * 0.25\n",
    "Vprom = Q_m3s / A_sec\n",
    "print(\"Velocidad promedio es \"+str(Vprom) + \" m/s\")"
   ]
  },
  {
   "cell_type": "code",
   "execution_count": 2,
   "metadata": {},
   "outputs": [
    {
     "name": "stdout",
     "output_type": "stream",
     "text": [
      "Viscosidad es 1.07 Stokes\n",
      "Viscosidad es 107.0 cSt\n"
     ]
    }
   ],
   "source": [
    "# Viscosidad \n",
    "mu_m2s = 1.07 * (10**-4)\n",
    "mu_stk = mu_m2s * (1/0.0001)\n",
    "print(\"Viscosidad es \" + str(mu_stk) + \" Stokes\")\n",
    "mu_cstk = mu_stk * 100\n",
    "print(\"Viscosidad es \" + str(mu_cstk) + \" cSt\")"
   ]
  },
  {
   "cell_type": "code",
   "execution_count": 3,
   "metadata": {},
   "outputs": [
    {
     "name": "stdout",
     "output_type": "stream",
     "text": [
      "Viscosidad es 0.9813542688910697 Poise\n",
      "Viscosidad es 98.13542688910697 cp\n"
     ]
    }
   ],
   "source": [
    "visco_kgs_m2 = 0.01\n",
    "visco_poise = visco_kgs_m2 * (1/0.01019)\n",
    "print(\"Viscosidad es \" + str(visco_poise) + \" Poise\")\n",
    "visco_cp = visco_poise * 100\n",
    "print(\"Viscosidad es \" + str(visco_cp) + \" cp\")"
   ]
  },
  {
   "cell_type": "code",
   "execution_count": 4,
   "metadata": {},
   "outputs": [
    {
     "name": "stdout",
     "output_type": "stream",
     "text": [
      "Re = 1665.9208996534837 y decimos entonces que es un flujo laminar.\n"
     ]
    }
   ],
   "source": [
    "V = Vprom\n",
    "Re = V * D_m / mu_m2s\n",
    "if Re < 2000:\n",
    "    print(\"Re = \" + str(Re) + \" y decimos entonces que es un flujo laminar.\")\n",
    "else:\n",
    "    print(\"No es un flujo laminar, la hipótesis no se cumple.\")"
   ]
  },
  {
   "cell_type": "code",
   "execution_count": 5,
   "metadata": {},
   "outputs": [
    {
     "name": "stdout",
     "output_type": "stream",
     "text": [
      "Velocidad promedio: 1.7825353626292277\n",
      "Radio: 0.05\n"
     ]
    }
   ],
   "source": [
    "mu_dinamica_kgs_m2 = 0.01\n",
    "print(\"Velocidad promedio: \" +str(V))\n",
    "R_m = D_m/2\n",
    "print(\"Radio: \" + str(R_m))"
   ]
  },
  {
   "cell_type": "code",
   "execution_count": 14,
   "metadata": {},
   "outputs": [
    {
     "name": "stdout",
     "output_type": "stream",
     "text": [
      "Aplicando teorema de Pitágoras:\n",
      "*******************************\n",
      "Cateto adyacente 299.98499962498124 m\n",
      "Le pendiente es 0.010000500037503126\n",
      "Ahora calculamos el valor del ángulo alpha:\n",
      "El ángulo alfa es: 0.01000066673667524\n"
     ]
    }
   ],
   "source": [
    "print(\"Aplicando teorema de Pitágoras:\")\n",
    "print(\"*******************************\")\n",
    "Hipotenusa = 300\n",
    "Cateto_opuesto = 3\n",
    "Cateto_adyacente = ((Hipotenusa**2) - (Cateto_opuesto**2))**0.5\n",
    "print(\"Cateto adyacente \" + str(Cateto_adyacente) + \" m\")\n",
    "S = Cateto_opuesto/Casteto_adyacente\n",
    "print(\"Le pendiente es \" + str(S))\n",
    "\n",
    "print(\"Ahora calculamos el valor del ángulo alpha:\")\n",
    "alpha = np.arcsin(Cateto_opuesto/Cateto_adyacente)\n",
    "print(\"El ángulo alfa es: \" + str(alpha))"
   ]
  },
  {
   "cell_type": "code",
   "execution_count": 20,
   "metadata": {},
   "outputs": [
    {
     "name": "stdout",
     "output_type": "stream",
     "text": [
      "Caso 01: \n",
      "\n",
      "Converción de viscosidad dinámica de [kg.s/m**2] a [N.s/m**2]\n",
      "Primero tenemos la viscosidad dinámica que es 0.01 kgf-s/m2\n",
      "Ahora convertimos haciendo mu_din_Ns/m2 = mu_din_kg.s/m2\n",
      "0.0981N.s/m2\n",
      "Peso específico: 2259.9899072559256\n"
     ]
    }
   ],
   "source": [
    "print(\"Caso 01: \\n\")\n",
    "S = 0.0619\n",
    "print(\"Converción de viscosidad dinámica de [kg.s/m**2] a [N.s/m**2]\")\n",
    "print(\"Primero tenemos la viscosidad dinámica que es \" + str(mu_dinamica_kgs_m2) + \" kgf-s/m2\")\n",
    "mu_dinamica_Ns_m2 = mu_dinamica_kgs_m2 * 9.81\n",
    "print(\"Ahora convertimos haciendo mu_din_Ns/m2 = mu_din_kg.s/m2\")\n",
    "print(str(mu_dinamica_Ns_m2) + \" N.s/m2\")\n",
    "\n",
    "peso_especific = ( 2 * mu_dinamica_Ns_m2 * V ) / ( S * (R_m**2))\n",
    "print(\"Peso específico: \" + str(peso_especific))"
   ]
  },
  {
   "cell_type": "code",
   "execution_count": 21,
   "metadata": {},
   "outputs": [
    {
     "name": "stdout",
     "output_type": "stream",
     "text": [
      "La pendiente es: 0.0618989621539796\n"
     ]
    }
   ],
   "source": [
    "# Situación N01\n",
    "peso_especific = 230.38\n",
    "S = ( 2 * mu_dinamica_kgs_m2 * V ) / (peso_especific * (R_m**2))\n",
    "print(\"La pendiente es: \" + str(S))"
   ]
  },
  {
   "cell_type": "code",
   "execution_count": null,
   "metadata": {},
   "outputs": [],
   "source": [
    "# Situación N02\n"
   ]
  },
  {
   "cell_type": "code",
   "execution_count": 11,
   "metadata": {},
   "outputs": [
    {
     "name": "stdout",
     "output_type": "stream",
     "text": [
      "hf: 0.0309494810769898\n"
     ]
    }
   ],
   "source": [
    "L = 0.5\n",
    "hf = L * S\n",
    "print(\"hf: \" + str(hf))"
   ]
  },
  {
   "cell_type": "code",
   "execution_count": 22,
   "metadata": {},
   "outputs": [
    {
     "data": {
      "text/plain": [
       "0.0981"
      ]
     },
     "execution_count": 22,
     "metadata": {},
     "output_type": "execute_result"
    }
   ],
   "source": [
    "0.01 * 9.81"
   ]
  },
  {
   "cell_type": "code",
   "execution_count": null,
   "metadata": {},
   "outputs": [],
   "source": []
  }
 ],
 "metadata": {
  "kernelspec": {
   "display_name": "Python 3",
   "language": "python",
   "name": "python3"
  },
  "language_info": {
   "codemirror_mode": {
    "name": "ipython",
    "version": 3
   },
   "file_extension": ".py",
   "mimetype": "text/x-python",
   "name": "python",
   "nbconvert_exporter": "python",
   "pygments_lexer": "ipython3",
   "version": "3.6.9"
  }
 },
 "nbformat": 4,
 "nbformat_minor": 2
}
