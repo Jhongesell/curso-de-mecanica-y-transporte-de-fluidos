{
 "cells": [
  {
   "cell_type": "markdown",
   "metadata": {},
   "source": [
    "# PRIMER INFORME DE SESIONES DEMOSTRATIVAS\n",
    "\n",
    "## CFD FOR BEGGINERS; USO DE LOS SOLVERS: ICOFOAM Y SIMPLEFOAM\n",
    "\n",
    "### COMPETENCIA:\n",
    "Desarrollar competencias básicas en el manejo de simulaciones de fluidos en computadora mediante OpenFoam (librería de código escrito en C++). El presente formato deberá ser desarrollado según lo indicado; recuerde citar la bibliografía consultada."
   ]
  },
  {
   "cell_type": "markdown",
   "metadata": {},
   "source": [
    "### I. INTRODUCCIÓN  (2 puntos)\n",
    "\n",
    "+ ¿Cuáles son las etapas del proceso de una simulación?\n",
    "\n",
    "    1. Entender el problema.\n",
    "    2. Definir el dominio computacional.\n",
    "    3. Crear la geometría.\n",
    "    4. Crear la malla.\n",
    "    5. Configurar el dominio discretizado.\n",
    "    6. Iniciar el calculo.\n",
    "    7. Visualizar e interpretar los resultados.\n",
    "    8. Elaborar informe.\n",
    "\n",
    "\n",
    "+ ¿Cuáles son las ventajas de la discretización con volúmenes finitos? Mencionar tres.\n",
    "    1. \n",
    "    2. \n",
    "    3. \n",
    "\n",
    "+ ¿Cuáles son los alcances y restricciones de los solvers IcoFoam y SimpleFoam?\n",
    "    1. IcoFoam: Laminar, incompresible y transitorio.\n",
    "    2. SimpleFoam: Turbulento, estacionario, incompresible.\n"
   ]
  },
  {
   "cell_type": "markdown",
   "metadata": {},
   "source": [
    "### II. OBJETIVO\n",
    "Ejecutar simulaciones de OpenFoam en diferentes modelos evidenciando los campos de velocidades y campos de presiones."
   ]
  },
  {
   "cell_type": "markdown",
   "metadata": {},
   "source": [
    "### III. TEORÍA Y CONCEPTOS BÁSICOS (4 puntos)\n",
    "Desarrolle los conceptos y teorías que se presentan a continuación.\n",
    "\n",
    "#### a. Preliminares:\n",
    "- Campos de velocidades: Es el volumen de control que define la dirección de las velocidades y el valor de su magnitud.\n",
    "- Campos de presiones: Es el volumen de control que define la dirección de las presiones y el valor de su magnitud.\n",
    "- Líneas de corriente: Son líneas imaginarias que se dibujan a lo largo del recorrido de una partícula de un fluido, esta es tangencial al vector velocidad en cada punto del espacio para esa partícula.\n",
    "- Condiciones iniciales: Son los valores que nuestro modelo toma al principio, antes de iniciar el proceso de calculo de la simulación.\n",
    "- Condiciones de borde: Son las restricciones que se le da al dominio computacional que se utiliza para resolver nuestro modelo numérico.\n",
    "- Estabilidad numérica: Define que tan bueno puede ser el resultado que se obtenga, esto depende de los modelos matemáticos que se vengan a utilizar en los algoritmos de solución a nuestro problema a atender; ocurre que un modelo mal implementando comenzará a traer errores que con cada iteración hace que esto se magnifique y por lo tanto la solución cambie; será necesario que pueda encontrar un modelo robusto para que sea estable matemáticamente.\n",
    "- Convergencia: Es la tendencia que se obtienen en las iteraciones de calculo para nuestro proceso de simulación computacional; en dinámica de fluidos computacional se busca ello ya que de esta forma las ecuaciones tienen a valores estables que resuelvan nuestro modelo computacional.\n",
    "- Discretización numérica: Es la traducción que se hacen de nuestras ecuaciones a formas en las que el computador pueda trabajar de forma sencilla.\n",
    "- Malla computacional: Es aquella geometría que se ha dividido en muchas pequeñas geometrías que en su conjunto sigue siendo nuestra geometría inicial; esto sirve para asociar cada uno de los centroides de las geometrías pequeñas y luego a esto le denominaríamos 'nodo', según la posición espacial de cada nodo se asignarán valores en memoria que nos permitirá resolver el modelo computacional.\n",
    "\n",
    "#### b. Tipos de flujo; definición y caracterización:\n",
    "- Flujo laminar: Es cuando las líneas de corriente siguen una trayectoria definida, no se observan perturbaciones en el flujo de fluido.\n",
    "- Flujo turbulento: Es aquel flujo que tiene mucho caos, las líneas de corriente no siguen un patrón determinado.\n",
    "- Flujo incompresible: Se da cuando al flujo no se le puede comprimir.\n",
    "- Flujo transitorio:\n",
    "- Flujo estacionario\n",
    "\n",
    "#### c. Ecuaciones fundamentales de la mecánica de fluidos\n",
    "- Ecuación de energía\n",
    "- Ecuación general de transporte\n",
    "- Ecuación de la conservación de la masa\n",
    "- Ecuación de la cantidad de movimiento\n",
    "\n",
    "#### d. Teoría de la capa límite\n",
    "#### e. Teoría y explicación por término de la ecuación de Navier-Stokes\n",
    "\n"
   ]
  },
  {
   "cell_type": "markdown",
   "metadata": {},
   "source": [
    "### IV. RECURSOS\n",
    "\n",
    "Detalle las características de cada recurso empleado en el desarrollo de la práctica.\n",
    "\n",
    "\n",
    "+ Materiales: Geometría y malla del tutorial de OpenFOAM\n",
    "+ Equipos: Computadora de escritorio o laptop\n",
    "+ Instrumentos o herramientas: OpenFOAM con solvers IcoFoam y SimpleFoam"
   ]
  },
  {
   "cell_type": "markdown",
   "metadata": {},
   "source": [
    "### V. DESARROLLO ( 4 puntos)\n",
    "\n",
    "Escriba las instrucciones en la terminal que utilizaría para correr los modelos Elbow y Airfol2d. Tome como referencia el ejemplo presentado para Cavity.\n",
    "\n",
    "a. Modelo Cavity\n",
    "\n",
    "~~~ bash\n",
    "cd cavity\n",
    "blockMesh\n",
    "icoFoam\n",
    "icoFoam > info\n",
    "paraFoam\n",
    "~~~\n",
    "\n",
    "b. Modelo Elbow\n",
    "\n",
    "~~~ bash\n",
    "cd $FOAM_RUN$\n",
    "cd elbow\n",
    "ls\n",
    "fluentMeshToFoam elbow.msh\n",
    "paraFoam\n",
    "icoFoam\n",
    "paraFoam\n",
    "~~~\n",
    "\n",
    "c. Modelo Airfol2d\n",
    "\n",
    "~~~ bash\n",
    "cd airfol2D\n",
    "paraFoam\n",
    "simpleFoam\n",
    "simpleFoam > info\n",
    "~~~"
   ]
  },
  {
   "cell_type": "markdown",
   "metadata": {},
   "source": [
    "### VI. RESULTADOS Y DISCUSIONES (4 puntos)\n",
    "\n",
    "- Exporte los resultados gráficos en formato “.png“ obtenidos en ParaView correspondientes a la última etapa de la simulación.\n",
    "- Comente sus apreciaciones sobre los campos de velocidades y campos de presiones en las zonas críticas que tenga la geometría de estudio. Señale estas zonas en su gráfica.\n",
    "- Comente las dificultades que se le presentaron en el desarrollo de la práctica."
   ]
  },
  {
   "cell_type": "markdown",
   "metadata": {},
   "source": [
    "### VII. CONCLUSIONES  (4 puntos)\n",
    "\n",
    "- Modelo Cavity\n",
    "\n",
    "![archivo de U crítico no encontrada](imagenes/01_cavity/U_cri.png \"U crítica\")\n",
    "\n",
    "![archivo de p crítica no encontrada](imagenes/01_cavity/p_cri.png \"p crítica\")\n",
    "- Modelo Elbow\n",
    "\n",
    "![archivo de U crítico no encontrada](imagenes/02_elbow/U_cri.png \"U crítica\")\n",
    "\n",
    "![archivo de p crítico no encontrada](imagenes/02_elbow/p_cri.png \"U crítica\")\n",
    "\n",
    "- Modelo Airfol2d\n",
    "\n",
    "![archivo de U crítico no encontrada](imagenes/03_airFoil2D/U_cri.png \"U crítica\")\n",
    "\n",
    "![archivo de p crítico no encontrada](imagenes/03_airFoil2D/p_cri.png \"U crítica\")"
   ]
  },
  {
   "cell_type": "markdown",
   "metadata": {},
   "source": [
    "### VIII. CUESTIONARIO  (2 puntos)\n",
    "\n",
    "Responda las siguientes preguntas:\n",
    "1. Desde la óptica biomédica ¿En qué casos prácticos ejecutaría usted la simulación de fluidos con IcoFoam? Desarrolle un ejemplo.\n",
    "\n",
    "IcoFoam se usa para flujos laminares, incompresibles y transitorios; por lo tanto yo lo usaría en el existan valvulas o compuertas con una apertura o cierre inmediata, pudiendo ser por ejemplo un corazón artificial que cuando se abre y cierra la valvula de la aorta se observa que cumple las condiciones de icoFoam, mejor aún si ubicamos un segmento de la orta con longitud tan pequeña que consideraríamos al flujo laminar por un instante; otra aplicación podría ser si trabajamos con cilindros hidráulicos que se podría lograr por ejemplo para el sistema que permita al paciente tener un sistema de autofrenado instantaneo para una silla de ruedas.\n",
    "\n",
    "\n",
    "2. ¿Cuál es la relación entre la pérdida de velocidad y el diámetro de la sección?\n",
    "\n",
    "Mientras menor sea el diámetro se experimentaran mayores pérdidas de energía.\n",
    "\n",
    "3. ¿Cuáles son los puntos críticos donde conviene estudiar estas geometrías? ¿Por qué estudiar las zonas críticas?\n",
    "\n",
    "Los puntos críticos en las geometrías son aquellos donde se producen cambios bruscos respecto a su la condición inicial dentro del dominio computacional.\n",
    "\n",
    "4. ¿Qué es la cavitación y cuando ocurre?\n",
    "\n",
    "Es el fenómeno físico donde en el agua cambia de estádo líquido a estado gaseoso por un instante, esto suele darse a altas velocidades y como consecuencia trae fallas sobre la estructura."
   ]
  },
  {
   "cell_type": "code",
   "execution_count": null,
   "metadata": {},
   "outputs": [],
   "source": []
  }
 ],
 "metadata": {
  "kernelspec": {
   "display_name": "Python 3",
   "language": "python",
   "name": "python3"
  },
  "language_info": {
   "codemirror_mode": {
    "name": "ipython",
    "version": 3
   },
   "file_extension": ".py",
   "mimetype": "text/x-python",
   "name": "python",
   "nbconvert_exporter": "python",
   "pygments_lexer": "ipython3",
   "version": "3.6.9"
  }
 },
 "nbformat": 4,
 "nbformat_minor": 2
}
