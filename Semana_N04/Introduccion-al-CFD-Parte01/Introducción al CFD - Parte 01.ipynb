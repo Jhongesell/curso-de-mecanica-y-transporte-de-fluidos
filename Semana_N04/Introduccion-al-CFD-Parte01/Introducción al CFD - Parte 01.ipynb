{
 "cells": [
  {
   "cell_type": "markdown",
   "metadata": {},
   "source": [
    "# Introducción a la Dinámica de Fluidos Computacional con el Lenguaje de Programación Python (Clase N01)\n",
    "\n",
    "## Introducción\n",
    "Comenzamos teniendo algunas consideraciones en cuanto a conocimientos y tecnologías que ya tengas instaladas en tu ordenador.\n",
    "\n",
    "* Conocimientos en:\n",
    "    * Ecuaciones diferenciales parciales.\n",
    "    * Fundamentos de la mecánica de fluidos.\n",
    "    * Programación básica en algún lenguaje\n",
    "    * Métodos numéricos.\n",
    "* Tecnologías instaladas:\n",
    "    * Interprete de Python dentro de un entorno virtual (Mediante PIP o anaconda).\n",
    "    * Qt Designer 5.\n",
    "    * Git (Mac , GNU/Linux o Windows).\n",
    "\n",
    "La motivación para este curso ya esta presente en cada uno de ustedes desde el instante que se animaron a llevarlo, constará de varias horas de estudio y posiblmente tengamos que repasar algún concepto, pero ello va bien porque buscamos que el estudiante pueda tener claro los conceptos.\n",
    "\n",
    "# CAPITULO N01 Programación Aplicada:\n",
    "\n",
    "Python es un lenguaje de programación:\n",
    "* Orientado a objetos\n",
    "* Multipropósito\n",
    "* Interpretado\n",
    "* Fácil de aprender\n",
    "* Multiplataforma\n",
    "* Open-source\n",
    "\n",
    "## Mira a Python como un lenguaje \"pegamento\" con otros\n",
    "\n",
    "Con el tiempo notarás que has aprendido un lenguaje moderno y con un campo enorme de aplicación, aunque debo señalar desde un principio que como tal a este lenguaje lo sostiene su enorme comunidad en todo el mundo, siempre que tengas dudas búsca, un buen lugar al que puedes entrar a consultar es a [StackOverFlow](https://stackoverflow.com), pero ojo, preguntar es un privilegio, sugiero la verdad puedas primero leerte esto [\"Cómo hacer preguntas de manera inteligente\"](https://sindominio.net/ayuda/preguntas-inteligentes.html); regresando al titulo de este parrafo lo digo porque Python es fabuloso, pero ojo, \"hay programas que se sobre salen en ciertas áreas y pues Python también podría hacer la tarea, pero tienes que evaluar bien\", conocer Python para mi es como andar sobre un todo-terreno, puedes hacer de todo, incluso hay artificios que podrías llevar, pero al final la decisión vendrá del desarrollador y esto dependerá de su expertís; alguna vez conversando con alguien con mayor experiencia en desarrollo me hizo entender esto; para nuestro curso va bien, así que sigamos adelante.\n",
    "\n",
    "## Conocimientos previos\n",
    "\n",
    "### Python es un lenguaje interpretado\n",
    "\n",
    "Significa que a medida que vayas escribiendo tu código este podrá interactuar directamente con el ordenador, las ventajas pues que vas desarrollando y puedes ir ejecutando; esto es algo que no hacen los lenguajes compilados ya que este último tendría que convertir tu código fuente a un archivo binario que solamente es entendido por la CPU; entonces si sabemos que Python es un lenguaje interpretado significa que es mejor que otros lenguajes ¿verdad?, sinceramente esa es una pregunta difícil de responder ya que depende de tus indicadores que pongas, si te refieres a que es mejor en cuanto a legibilidad de lectura, pues si; te resultará fácil de comprender el código, además que como lenguaje interpretado te tomará menos lineas de código para escribir un programa; los lenguajes compilados suelen tener muchas filas; - oye pero si me dices todo esto sigo pensando que Python es un mejor lenguaje - , no , no he terminado de contarte, Python es cierto que tiene un montón de ventajas, pero en cuanto a velocidad de calculo pues queda corto ante los lenguajes compilados y te guste o no siempre será así y es que es lógico, la tarea de compilar ya dije que trata de que tienes que crear un nuevo archivo en binario y por ser algo que el CPU lo entiende más \"natural\" hace todos sus calculos más rápidos, por ese motivo es que Python queda chico en velocidad, si vas a trabajar resolviendo grandes ecuaciones, meterte a computación de alto rendimiento (HPC) que tal vez puedas pensar que no va tan bien; pero sabes con Python se pueden hacer artificios, podrías por ejemplo escribir cierto código en Fortran y este podría ser ejecutado desde un script principal , llamaríamos a ese archivo Python con [F2PY](https://docs.scipy.org/doc/numpy/f2py/) por ejemplo, o sino podríamos paralizar las tareas en el CPU y la GPU para el lenguaje Python con Numba.\n",
    "\n",
    "### Entornos virtuales\n",
    "\n",
    "Un entorno virtual no es otra cosa que un ambiente de trabajo aislado , te permite contar con una versión del interprete de Python aislado teniendo la opción de poder interactuar con otras librerías que podrás instalar.\n",
    "\n",
    "¿Por qué necesito un crear un entorno virtual?\n",
    "\n",
    "Python nació en 1991, desde esa fecha ha venido evolucionando y teniendo muchas mejoras; pero como tal, es cierto que hay librerías que solamente pueden interactuar con ciertas versiones de otras dependencias, bueno se pueden ocasionar conflictos de versiones y para evitar ello creamos los famosos \"entornos virtuales\", así de simple.\n",
    "\n",
    "Facilitamos enlace para la gestión de los entornos:\n",
    "* [Documentación para entornos virtuales con PIP](https://packaging.python.org/guides/installing-using-pip-and-virtual-environments/)\n",
    "* [Documentación para entornos virtuales con Conda](https://docs.conda.io/projects/conda/en/latest/user-guide/tasks/manage-environments.html)"
   ]
  },
  {
   "cell_type": "code",
   "execution_count": null,
   "metadata": {},
   "outputs": [],
   "source": [
    "from IPython.display import YouTubeVideo\n",
    "# Vídeo en inglés para instalar Anaconda en Ubuntu OS y derivados\n",
    "YouTubeVideo('DY0DB_NwEu0')"
   ]
  },
  {
   "cell_type": "code",
   "execution_count": null,
   "metadata": {},
   "outputs": [],
   "source": [
    "# Vídeo en inglés para instalar Python3-pip en Ubuntu OS y derivados\n",
    "YouTubeVideo('FfkPLekXuL4')"
   ]
  },
  {
   "cell_type": "code",
   "execution_count": null,
   "metadata": {},
   "outputs": [],
   "source": [
    "# Vídeo en inglés para instalar Python3-pip en Ubuntu OS y derivados\n",
    "YouTubeVideo('5mDYijMfSzs')"
   ]
  },
  {
   "cell_type": "code",
   "execution_count": null,
   "metadata": {},
   "outputs": [],
   "source": [
    "# Vídeo en inglés para instalar Python3-pip en Ubuntu OS y derivados\n",
    "YouTubeVideo('gFNApsyhpKk')"
   ]
  },
  {
   "cell_type": "markdown",
   "metadata": {},
   "source": [
    "**Nota:**\n",
    "Los gestores de paquetes para Python más populares son PIP y CONDA, si usas GNU/Linux tu sistema operativo ya tiene todo listo, si eres de Windows necesitarás instalar Python, posiblemente les interese comenzar con Anaconda ya que es relativamente fácil para los \"novatos\".\n",
    "\n",
    "## 01.01. Variables:"
   ]
  },
  {
   "cell_type": "code",
   "execution_count": null,
   "metadata": {},
   "outputs": [],
   "source": [
    "x1 = 96\n",
    "x2 = 17\n",
    "x3 = 35\n",
    "x4 = 96.\n",
    "x5 = 17.0\n",
    "x6 = 17.00\n",
    "x7 = 'avión'\n",
    "x8 = 'casaca'\n",
    "x9 = 'cuaderno'"
   ]
  },
  {
   "cell_type": "markdown",
   "metadata": {},
   "source": [
    "## 01.02. Tipos de objetos"
   ]
  },
  {
   "cell_type": "code",
   "execution_count": null,
   "metadata": {},
   "outputs": [],
   "source": [
    "type(x1)"
   ]
  },
  {
   "cell_type": "code",
   "execution_count": null,
   "metadata": {},
   "outputs": [],
   "source": [
    "print(type(x1))\n",
    "print(type(x2))\n",
    "print(type(x3))\n",
    "print(type(x4))\n",
    "print(type(x5))\n",
    "print(type(x6))\n",
    "print(type(x7))\n",
    "print(type(x8))\n",
    "print(type(x9))"
   ]
  },
  {
   "cell_type": "markdown",
   "metadata": {},
   "source": [
    "## 01.03. Operadores matemáticos"
   ]
  },
  {
   "cell_type": "code",
   "execution_count": null,
   "metadata": {},
   "outputs": [],
   "source": [
    "12 + 12."
   ]
  },
  {
   "cell_type": "code",
   "execution_count": null,
   "metadata": {},
   "outputs": [],
   "source": [
    "12 + 12"
   ]
  },
  {
   "cell_type": "code",
   "execution_count": null,
   "metadata": {},
   "outputs": [],
   "source": [
    "14/7"
   ]
  },
  {
   "cell_type": "code",
   "execution_count": null,
   "metadata": {},
   "outputs": [],
   "source": [
    "14/7."
   ]
  },
  {
   "cell_type": "code",
   "execution_count": null,
   "metadata": {},
   "outputs": [],
   "source": [
    "15/7"
   ]
  },
  {
   "cell_type": "markdown",
   "metadata": {},
   "source": [
    "Para la versión 2 del interprete de Python se tenía que agregar la siguiente línea de comando en caso era de interés ejecutar divisiones entre enteros y estos de manera automática se quisiera presente el resultado como un decimal.\n"
   ]
  },
  {
   "cell_type": "code",
   "execution_count": null,
   "metadata": {},
   "outputs": [],
   "source": [
    "from __future__ import division"
   ]
  },
  {
   "cell_type": "code",
   "execution_count": null,
   "metadata": {},
   "outputs": [],
   "source": [
    "14/7"
   ]
  },
  {
   "cell_type": "markdown",
   "metadata": {},
   "source": [
    "## 01.04. La identación\n",
    "\n",
    "A diferencia de otros lenguajes de programación en Python no se utilizan signos de colección para ejecutar bucles o estructuras repetitivas, esto se logra gracias a que se respeta la identación, la idea es que el programador use o las barras espaciadoras o las tabulaciones pero no en simultaneo ambas ya que el hacer esto traería inconsistencia en el código."
   ]
  },
  {
   "cell_type": "markdown",
   "metadata": {},
   "source": [
    "## 01.05. Esquema For"
   ]
  },
  {
   "cell_type": "code",
   "execution_count": null,
   "metadata": {},
   "outputs": [],
   "source": [
    "for i in range(10):\n",
    "    print(\"Bienvenido a este curso, un saludo.\")"
   ]
  },
  {
   "cell_type": "code",
   "execution_count": null,
   "metadata": {},
   "outputs": [],
   "source": [
    "for i in range(4,10,2):\n",
    "    print(\"Bienvenido a este curso, un saludo.\")"
   ]
  },
  {
   "cell_type": "markdown",
   "metadata": {},
   "source": [
    "## 01.06. Esquema If"
   ]
  },
  {
   "cell_type": "code",
   "execution_count": null,
   "metadata": {},
   "outputs": [],
   "source": [
    "a = int(input(\"Ingrese valor a: \"))\n",
    "b = int(input(\"Ingrese valor b: \"))\n",
    "if a > b:\n",
    "  print(\"a es mayor que b\")\n",
    "if b > a:\n",
    "  print(\"b es mayor que a\")"
   ]
  },
  {
   "cell_type": "code",
   "execution_count": null,
   "metadata": {},
   "outputs": [],
   "source": [
    "# Ejemplo\n",
    "tproyecto = int(input(\"En cuantos meses harás ese proyecto?: \"))\n",
    "if tproyecto <= 6:\n",
    "  print(\"Ese proyecto durará poco tiempo.\")\n",
    "if tproyecto > 6:\n",
    "  print(\"Ese proyecto durará mucho tiempo.\")"
   ]
  },
  {
   "cell_type": "code",
   "execution_count": null,
   "metadata": {},
   "outputs": [],
   "source": [
    "# Cálculo del impuesto\n",
    "salario = float(input(\"Ingrese la cantidad de su salario: \"))\n",
    "x = salario\n",
    "impuesto = 0\n",
    "if x > 1800:\n",
    "  impuesto = impuesto + ((x - 1800) * 0.18)\n",
    "  x = 1800\n",
    "if x > 950:\n",
    "  impuesto = impuesto + ((x - 950) * 0.18)\n",
    "print(\"El salario será: s/.%6.2f , Impuesto a pagar: s/.%6.2f\" %  (salario, impuesto))"
   ]
  },
  {
   "cell_type": "markdown",
   "metadata": {},
   "source": [
    "## 01.07. Esquema If ... else"
   ]
  },
  {
   "cell_type": "code",
   "execution_count": null,
   "metadata": {},
   "outputs": [],
   "source": [
    "precio = float(input(\"Ingrese precio base de la laptop que desea consultar por marca:\"))\n",
    "if precio <= 3600:\n",
    "  print(\"Laptop con procesador core i5, 12 GB de Ram, tarjeta Nvidia\")\n",
    "else:\n",
    "  print(\"Laptop con procesador core i7, 32 GB de Ram, tarjeta Nvidia\")"
   ]
  },
  {
   "cell_type": "markdown",
   "metadata": {},
   "source": [
    "## 01.08. Estructuras anidadas"
   ]
  },
  {
   "cell_type": "code",
   "execution_count": null,
   "metadata": {},
   "outputs": [],
   "source": [
    "# Ejemplo para el recibo del agua:\n",
    "volumen = float(input(\"¿Cuál es el volúmen de agua que se utilizó este mes: \"))\n",
    "if volumen < 100:\n",
    "  precio = 0.20\n",
    "else:\n",
    "  if volumen < 200:\n",
    "    precio = 0.15\n",
    "  else:\n",
    "    precio = 0.10\n",
    "print(\"Este mes tocará pagar: s/.%6.4f\" % (volumen * precio))"
   ]
  },
  {
   "cell_type": "markdown",
   "metadata": {},
   "source": [
    "## 01.09. Esquema if... elif ... else"
   ]
  },
  {
   "cell_type": "code",
   "execution_count": null,
   "metadata": {},
   "outputs": [],
   "source": [
    "zona = int(input(\"Ingrese la zona del evento: \"))\n",
    "if zona == 1:\n",
    "  print(\"Su ingreso es a las 10:00 am por la puerta número 5\")\n",
    "elif zona == 2:\n",
    "  print(\"Su ingreso es a las 10:30 am por la puerta número 8\")\n",
    "elif zona == 3:\n",
    "  print(\"Su ingreso es a las 11:00 am por la puerta número 6\")\n",
    "else:\n",
    "  print(\"Su ingreso es a las 11:30 am por la puerta número 4\")"
   ]
  },
  {
   "cell_type": "markdown",
   "metadata": {},
   "source": [
    "## 01.10. Esquema While"
   ]
  },
  {
   "cell_type": "code",
   "execution_count": null,
   "metadata": {},
   "outputs": [],
   "source": [
    "x = 0\n",
    "while x <= 10:\n",
    "  print(x)\n",
    "  x = x + 1"
   ]
  },
  {
   "cell_type": "markdown",
   "metadata": {},
   "source": [
    "## Guía de estilo al momento de programar en Python PEP - 8\n",
    "\n",
    "El PEP-8 es una sugerencia que se hace a los nuevos, es decir si vas a comenzar algo es mejor que lo hagas de buena manera y aprendas los hábitos que se recomiendan, pasa que en el mundo del desarrollo puede que te toque tocar código ajeno y para ello deberas entender que es lo que hizo la otra persona, aunque si no se pone un guía de como programar gastarás más tiempo en tratar de entender que empezar a programar, son como 88 normas, sugiero que los leas en:\n",
    "\n",
    "[Guía de estilo PEP-8 en ingles](https://www.python.org/dev/peps/pep-0008/ \"titulo\")"
   ]
  },
  {
   "cell_type": "markdown",
   "metadata": {},
   "source": [
    "## 01.11. Matrices\n",
    "Hemos de usar la librería Numpy"
   ]
  },
  {
   "cell_type": "code",
   "execution_count": null,
   "metadata": {},
   "outputs": [],
   "source": [
    "import numpy as np"
   ]
  },
  {
   "cell_type": "code",
   "execution_count": null,
   "metadata": {},
   "outputs": [],
   "source": [
    "var01 = np.array([14, 42, 37, 74])"
   ]
  },
  {
   "cell_type": "code",
   "execution_count": null,
   "metadata": {},
   "outputs": [],
   "source": [
    "print(var01)"
   ]
  },
  {
   "cell_type": "code",
   "execution_count": null,
   "metadata": {},
   "outputs": [],
   "source": [
    "var01[3]"
   ]
  },
  {
   "cell_type": "code",
   "execution_count": null,
   "metadata": {},
   "outputs": [],
   "source": [
    "var01[0:3]"
   ]
  },
  {
   "cell_type": "code",
   "execution_count": null,
   "metadata": {},
   "outputs": [],
   "source": [
    "var01[0], var01[3]"
   ]
  },
  {
   "cell_type": "code",
   "execution_count": null,
   "metadata": {},
   "outputs": [],
   "source": [
    "var02 = np.array([1, -3, 0, 1, -5])"
   ]
  },
  {
   "cell_type": "code",
   "execution_count": null,
   "metadata": {},
   "outputs": [],
   "source": [
    "var02[-1]"
   ]
  },
  {
   "cell_type": "code",
   "execution_count": null,
   "metadata": {},
   "outputs": [],
   "source": [
    "var02[0:-1]"
   ]
  },
  {
   "cell_type": "code",
   "execution_count": null,
   "metadata": {},
   "outputs": [],
   "source": [
    "var02[4:5]"
   ]
  },
  {
   "cell_type": "code",
   "execution_count": null,
   "metadata": {},
   "outputs": [],
   "source": [
    "print(\"Esta es la psoción número \"+str(var02[4]))\n",
    "print(\"Esta es la psoción número \"+str(var02[-1]))"
   ]
  },
  {
   "cell_type": "code",
   "execution_count": null,
   "metadata": {},
   "outputs": [],
   "source": [
    "var02[4:-1]"
   ]
  },
  {
   "cell_type": "code",
   "execution_count": null,
   "metadata": {},
   "outputs": [],
   "source": [
    "var02[-2:-1]"
   ]
  },
  {
   "cell_type": "markdown",
   "metadata": {},
   "source": [
    "## 01.12. Array de una dimensión"
   ]
  },
  {
   "cell_type": "code",
   "execution_count": null,
   "metadata": {},
   "outputs": [],
   "source": [
    "var03 = np.linspace(-10, 10, 5)\n",
    "var03"
   ]
  },
  {
   "cell_type": "code",
   "execution_count": null,
   "metadata": {},
   "outputs": [],
   "source": [
    "print(type(var03))"
   ]
  },
  {
   "cell_type": "code",
   "execution_count": null,
   "metadata": {},
   "outputs": [],
   "source": [
    "print(var03)"
   ]
  },
  {
   "cell_type": "markdown",
   "metadata": {},
   "source": [
    "### Creamos una copia de var04\n",
    "\n",
    "1° Con la sintaxis foo02 = foo01 lo que se está creando es una declaración que referencia los valores de foo01 a foo02, se está haciendo un puntero."
   ]
  },
  {
   "cell_type": "code",
   "execution_count": null,
   "metadata": {},
   "outputs": [],
   "source": [
    "var04 = var03"
   ]
  },
  {
   "cell_type": "code",
   "execution_count": null,
   "metadata": {},
   "outputs": [],
   "source": [
    "var04"
   ]
  },
  {
   "cell_type": "code",
   "execution_count": null,
   "metadata": {},
   "outputs": [],
   "source": [
    "var04[0]"
   ]
  },
  {
   "cell_type": "code",
   "execution_count": null,
   "metadata": {},
   "outputs": [],
   "source": [
    "var04[0] = 0"
   ]
  },
  {
   "cell_type": "code",
   "execution_count": null,
   "metadata": {},
   "outputs": [],
   "source": [
    "var04"
   ]
  },
  {
   "cell_type": "code",
   "execution_count": null,
   "metadata": {},
   "outputs": [],
   "source": [
    "var03"
   ]
  },
  {
   "cell_type": "code",
   "execution_count": null,
   "metadata": {},
   "outputs": [],
   "source": [
    "var03[0]"
   ]
  },
  {
   "cell_type": "code",
   "execution_count": null,
   "metadata": {},
   "outputs": [],
   "source": [
    "var03[0] = 1000"
   ]
  },
  {
   "cell_type": "code",
   "execution_count": null,
   "metadata": {},
   "outputs": [],
   "source": [
    "var03"
   ]
  },
  {
   "cell_type": "code",
   "execution_count": null,
   "metadata": {},
   "outputs": [],
   "source": [
    "var04"
   ]
  },
  {
   "cell_type": "markdown",
   "metadata": {},
   "source": [
    "Observamos que si cambiamos el valor del primer elemento a var03 en consecuencia simulteanea ocurré lo mismo para var04, por ello se identifica la referenciación que existe entre ambos."
   ]
  },
  {
   "cell_type": "code",
   "execution_count": null,
   "metadata": {},
   "outputs": [],
   "source": [
    "print(var03)"
   ]
  },
  {
   "cell_type": "code",
   "execution_count": null,
   "metadata": {},
   "outputs": [],
   "source": [
    "type(var03)"
   ]
  },
  {
   "cell_type": "markdown",
   "metadata": {},
   "source": [
    "Creamos una copia de var03 como var05\n",
    "\n",
    "var05[:] = var03[:] Este es el esquema correcto para crear una copia con todos sus elementos para una matriz, aunque antes deberíamos de contar con una matriz de las mismas dimensiones vacía.\n",
    "\n",
    "Notamos que nos imprime error, ello ocurre porque hacer una copia de esta manera exige que primero se genere una matriz vacía con la misma cantidad de elmeentos de var03, para ello hacemos:"
   ]
  },
  {
   "cell_type": "code",
   "execution_count": null,
   "metadata": {},
   "outputs": [],
   "source": [
    "print(var03)"
   ]
  },
  {
   "cell_type": "code",
   "execution_count": null,
   "metadata": {},
   "outputs": [],
   "source": [
    "print(np.empty_like(var03))"
   ]
  },
  {
   "cell_type": "code",
   "execution_count": null,
   "metadata": {},
   "outputs": [],
   "source": [
    "var05 = np.empty_like(var03)\n",
    "print(var05)"
   ]
  },
  {
   "cell_type": "code",
   "execution_count": null,
   "metadata": {},
   "outputs": [],
   "source": [
    "len(var05)"
   ]
  },
  {
   "cell_type": "markdown",
   "metadata": {},
   "source": [
    "### De la librería Numpy: np.empty_like(varX)\n",
    "\n",
    "Debemos contar con la variable 'a' , esta guarda en memoria a una matriz de dimensiones nxm , lo que se desea es crear una matriz equivalente en las dimensiones, por lo tanto hacemos:"
   ]
  },
  {
   "cell_type": "code",
   "execution_count": null,
   "metadata": {},
   "outputs": [],
   "source": [
    "a = ([418, 7, 3], [-4, -5, 6])\n",
    "print(a)\n",
    "print(type(a))"
   ]
  },
  {
   "cell_type": "code",
   "execution_count": null,
   "metadata": {},
   "outputs": [],
   "source": [
    "np.empty_like(a)"
   ]
  },
  {
   "cell_type": "markdown",
   "metadata": {},
   "source": [
    "La nueva matriz generada a partir de 'a' tiene la misma cantidad de elementos y en las mismas posiciones, aunque los elementos son random"
   ]
  },
  {
   "cell_type": "code",
   "execution_count": null,
   "metadata": {},
   "outputs": [],
   "source": [
    "np.empty_like(var03)"
   ]
  },
  {
   "cell_type": "code",
   "execution_count": null,
   "metadata": {},
   "outputs": [],
   "source": [
    "var003 = [30, 5, 0, 5, 10]"
   ]
  },
  {
   "cell_type": "code",
   "execution_count": null,
   "metadata": {},
   "outputs": [],
   "source": [
    "np.empty_like(var003)"
   ]
  },
  {
   "cell_type": "markdown",
   "metadata": {},
   "source": [
    "Acabamos de descubrir que la función 'np.empty_like(var)' crea una nueva matriz equivalente siempre y cuando sus terminos hayan sido guardados de la forma de números enternos, en el caso sean decimales la nueva matriz será identica a la anterior."
   ]
  },
  {
   "cell_type": "code",
   "execution_count": null,
   "metadata": {},
   "outputs": [],
   "source": [
    "a = np.array([[1., 2., 3.],[4., 5., 6.]])"
   ]
  },
  {
   "cell_type": "code",
   "execution_count": null,
   "metadata": {},
   "outputs": [],
   "source": [
    "np.empty_like(a)"
   ]
  },
  {
   "cell_type": "code",
   "execution_count": null,
   "metadata": {},
   "outputs": [],
   "source": [
    "type(a)"
   ]
  },
  {
   "cell_type": "code",
   "execution_count": null,
   "metadata": {},
   "outputs": [],
   "source": [
    "np.empty_like(var03)"
   ]
  },
  {
   "cell_type": "code",
   "execution_count": null,
   "metadata": {},
   "outputs": [],
   "source": [
    "var05 = np.empty_like(var03)"
   ]
  },
  {
   "cell_type": "code",
   "execution_count": null,
   "metadata": {},
   "outputs": [],
   "source": [
    "print(var05)"
   ]
  },
  {
   "cell_type": "markdown",
   "metadata": {},
   "source": [
    "Para mejor entendimiento de np.empty_like(a) revisar el siguiente enlace: [Documentación desde Scipy](https://docs.scipy.org/doc/numpy/reference/generated/numpy.empty_like.html)"
   ]
  },
  {
   "cell_type": "code",
   "execution_count": null,
   "metadata": {},
   "outputs": [],
   "source": [
    "var05[:] = var03[:]"
   ]
  },
  {
   "cell_type": "code",
   "execution_count": null,
   "metadata": {},
   "outputs": [],
   "source": [
    "print(var05)"
   ]
  },
  {
   "cell_type": "code",
   "execution_count": null,
   "metadata": {},
   "outputs": [],
   "source": [
    "type(var05)"
   ]
  },
  {
   "cell_type": "code",
   "execution_count": null,
   "metadata": {},
   "outputs": [],
   "source": [
    "print(var05)\n",
    "print(var03)"
   ]
  },
  {
   "cell_type": "markdown",
   "metadata": {},
   "source": [
    "## 01.13. Matemática básica con una matriz de 1D en Numpy"
   ]
  },
  {
   "cell_type": "code",
   "execution_count": null,
   "metadata": {},
   "outputs": [],
   "source": [
    "a = [1, 2, 3,]\n",
    "print(a)\n",
    "print(a+a)"
   ]
  },
  {
   "cell_type": "code",
   "execution_count": null,
   "metadata": {},
   "outputs": [],
   "source": [
    "b = a\n",
    "type(b)"
   ]
  },
  {
   "cell_type": "code",
   "execution_count": null,
   "metadata": {},
   "outputs": [],
   "source": [
    "import numpy as np"
   ]
  },
  {
   "cell_type": "code",
   "execution_count": null,
   "metadata": {},
   "outputs": [],
   "source": [
    "b = np.array(a)\n",
    "print(type(b))\n",
    "print(b)\n",
    "print(type(a))"
   ]
  },
  {
   "cell_type": "code",
   "execution_count": null,
   "metadata": {},
   "outputs": [],
   "source": [
    "print(b+b)\n",
    "print(b + 1)\n",
    "print(b**2)\n",
    "print(np.sin(b))"
   ]
  },
  {
   "cell_type": "code",
   "execution_count": null,
   "metadata": {},
   "outputs": [],
   "source": [
    "A = 5\n",
    "print(\"Imprimir los \" + str(A) + \" primeros números usando la función 'range'\")\n",
    "for contador in range(A):\n",
    "    #print( i, end=', ')\n",
    "    print(contador, end=', ')"
   ]
  },
  {
   "cell_type": "markdown",
   "metadata": {},
   "source": [
    "## Framework Qt, el complemento para el desarrollo de software GUI\n",
    "\n",
    "Qt es un framework multiplataforma para el desarrollo de software, también es posible hacer software embebido para vehículos y equipos industriales.\n",
    "\n",
    "La metodología que usaremos para crear aplicaciones será que usaremos el Qt Designer donde se usará para ir creando la interfaz de usuario, es posible luego convertir este archivo a uno con extensión .py, eso se logra bajo la sintaxis:\n",
    "\n",
    "**$ pyuic5 file_GUI.ui -o file_GUI.py**\n",
    "\n",
    "En este curso además tendremos la posibilidad de desarrollar nuestras aplicaciones propias aplicaciones, si hablamos del lenguaje Python existen las librerías PyQt, Tkinter, PySide, WxPython, Glade GTK+; en nuestro caso usaremos PyQt en su versión 5 con el cual daremos la funcionalidad a los archivos en formato .ui que nos brinde el Qt Designer.\n",
    "\n",
    "Para la instalación sugerimos hacerlo desde la página web oficial, prueben la versión open-source."
   ]
  },
  {
   "cell_type": "code",
   "execution_count": null,
   "metadata": {},
   "outputs": [],
   "source": [
    "from IPython.display import YouTubeVideo\n",
    "\n",
    "# En este vídeo se muestra un spot que hace Qt a su librería PySide para trabajar con Python\n",
    "YouTubeVideo('ic0PnF04N-Q')"
   ]
  },
  {
   "cell_type": "markdown",
   "metadata": {},
   "source": [
    "# CAPITULO N02 Convección\n",
    "\n",
    "## 02.01. Ecuación de convección lineal 1D\n",
    "\n",
    "Esta es la ecuación más sencilla con la que podremos aprender sobre dinámica de fluidos computacional, resulta interesante ya que es una ecuación pequeña y nos muestra mucho:\n",
    "\n",
    "$$\\frac{\\partial u}{\\partial t} + c \\frac{\\partial u}{\\partial x} = 0$$\n",
    "\n",
    "La ecuación anterior manifiestaa la onda inicial con una velocidad $c$ para su propagación. Contando con la condición inicial $u(x,0)=u_0(x)$. El resultado exacto de la ecuación es $u(x,t)=u_0(x-ct)$\n",
    "\n",
    "La ecuación para resolverse en el ordenador debe discretizarse, usaremos el método de diferencias finitas donde para el tiempo será diferencias finitas adelantadas y para el caso del espacio serán diferencias finitas retrazadas. Para el espacio en el eje x para los puntos de $i=0$ a $N$, el tiempo tiene un tamaño de paso $\\Delta t$ .\n",
    "\n",
    "La ecuación para la coordenada x resulta:\n",
    "\n",
    "$$\\frac{\\partial u}{\\partial x}\\approx \\frac{u(x+\\Delta x)-u(x)}{\\Delta x}$$\n",
    "\n",
    "Si la discretizamos es:\n",
    "\n",
    "$$\\frac{u_i^{n+1}-u_i^n}{\\Delta t} + c \\frac{u_i^n - u_{i-1}^n}{\\Delta x} = 0 $$\n",
    "\n",
    "Siendo $n$ y $n+1$ puntos consecutivos en el tiempo; $i-1$ y $i$ son aquellos puntos vecinos de la coordenada $x$ discretProgramaciónizada. Si se brindan las condiciones iniciales, entonces la única incógnita en esta discretización queda ser $u_i^{n+1}$. Se logra resolver la incógnita y tener una ecuación que nos permita continuar en el tiempo, de la siguiente manera:\n",
    "\n",
    "$$u_i^{n+1} = u_i^n - c \\frac{\\Delta t}{\\Delta x}(u_i^n-u_{i-1}^n)$$\n",
    "\n",
    "Implementamos esto para el lenguaje Python y así mismo haremos nuestra GUI."
   ]
  },
  {
   "cell_type": "markdown",
   "metadata": {},
   "source": [
    "### Esquema que seguiremos\n",
    "\n",
    "La ecuación lineal de convección 1-D en su forma discretizada habíamos hecho la descomposición para la derivada parcial de $u_i^{n+1}$ con respecto al tiempo ya que de esta manera hacemos diferencias finitas adelantadas, quedando:\n",
    "\n",
    "$$u_i^{n+1} = u_i^n - c \\frac{\\Delta t}{\\Delta x}(u_i^n-u_{i-1}^n)$$\n",
    "\n",
    "Por ello necesitamos como variables de entrada a:\n",
    "\n",
    "```python\n",
    "# Librerías\n",
    "import numpy as np # Numpy contraída como np\n",
    "import matplotlib.pyplot as plt # Matplotlib contraída como plt\n",
    "```"
   ]
  },
  {
   "cell_type": "markdown",
   "metadata": {},
   "source": [
    "Creamos una red de puntos uniforme con lo cual se llega a definir el dominio para 10 unidades de longitud de ancho x = [0,10], nx es el número de puntos para la malla, dx es el espacio entre cada punto de la malla."
   ]
  },
  {
   "cell_type": "code",
   "execution_count": null,
   "metadata": {},
   "outputs": [],
   "source": [
    "import numpy as np # Numpy contraída como np\n",
    "import matplotlib.pyplot as plt # Matplotlib contraída como plt\n",
    "\n",
    "\n",
    "x = 10. # Longitud en el eje X\n",
    "nx = 81 # Número de divisiones que se le hace a x \n",
    "dx = x/(nx-1)\n",
    "nt = 500 #Tiempo t total\n",
    "dt = 0.010 # Paso del tiempo t\n",
    "c = 1. # Velocidad de la onda\n",
    "ue = 4\n",
    "x1 = 0.8\n",
    "x2 = 4.8\n",
    "\n",
    "# Condiciones iniciales\n",
    "u = np.ones(nx)      # numpy función ones() creando un array de 1 con nx elmentos\n",
    "u[int(x1/dx) : int(x2/dx+1)]=ue\n",
    "print(\"Esto es u:\")\n",
    "print(u)\n",
    "print(\"Esto es nuestra función sombrero:\")\n",
    "plt.plot(np.linspace(1,x,nx), u) # Es esquema es para hacer una gráfica simple plot(X,Y)\n",
    "plt.show()"
   ]
  },
  {
   "cell_type": "markdown",
   "metadata": {},
   "source": [
    "La forma de la función sombrero es definida por lineas rectas ya que esta asumiendo valores exactos que hemos asignado al vector $u$, en un principio habíamos dicho que $u$ sería un arreglo conformado por *unos* con la misma cantidad de elementos que *nx*, luego según las condiciones iniciales definimos a $ue$ al cual le dimos un valor mayor que sería reemplezado en *u* para las cotas x1 y x2, derecha e izquierda respectivamente, lo que estamos visualizando ocurre para el instante $t=0$ s.\n",
    "\n",
    "Ahora vamos a implementar la ecuación de convección ya discretizada, esto lo logramos haciendo un *for* que irá desde el *1* hasta el valor de *nx*."
   ]
  },
  {
   "cell_type": "code",
   "execution_count": null,
   "metadata": {},
   "outputs": [],
   "source": [
    "un = np.ones(nx)\n",
    "\n",
    "for n in range(nt):\n",
    "    un[:] = u[:]\n",
    "    for i in range(1,nx):\n",
    "        u[i] = un[i]-c*(dt/dx)*(un[i]-un[i-1])\n",
    "plt.plot(np.linspace(0,x,nx),u)"
   ]
  },
  {
   "cell_type": "code",
   "execution_count": null,
   "metadata": {},
   "outputs": [],
   "source": [
    "# Importando librerías\n",
    "import sys # Función de Python\n",
    "import numpy as np # Numpy contraída como np\n",
    "import matplotlib.pyplot as plt # Matplotlib contraída como plt\n",
    "#from IPython.core.display import clear_output \n",
    "from PyQt5.QtWidgets import QMainWindow, QApplication, QAction, QFileDialog # PyQt5 el binding que hace posible la GUI\n",
    "from UI_N01_V01 import * # GUI convertida de Qt Designer"
   ]
  },
  {
   "cell_type": "code",
   "execution_count": null,
   "metadata": {},
   "outputs": [],
   "source": [
    "# Clase principal\n",
    "class MyForm(QMainWindow): # Clase de la ventana principal\n",
    "    def __init__(self): # Inicializamos el programa\n",
    "        super().__init__()\n",
    "        self.ui = Ui_MainWindow() \n",
    "        self.ui.setupUi(self)\n",
    "        self.ui.pushButton_Paso01_LC_solver.clicked.connect(self.dispsolver_Paso01_LC_01) # El botón es conectado a nuestro método que resolverá la ecuación lineal de convección 1-D\n",
    "        self.show() # Muestra resultados de la tarea ejecutada en la línea anterior\n",
    "        \n",
    "    def dispsolver_Paso01_LC_01(self): # Método que usamos para resolver la ecuación de convección lineal 1-D\n",
    "        Paso01_LC_1D_nx = int(self.ui.lineEdit_Paso01_LC_01_nx.text()) # Input para el número de puntos en el que se divide la distancia en el eje x\n",
    "        Paso01_LC_1D_x = float(self.ui.lineEdit_Paso01_LC_02_x.text()) # Input de la distancia en el eje x\n",
    "        Paso01_LC_1D_dx = Paso01_LC_1D_x/(Paso01_LC_1D_nx-1)\n",
    "        Paso01_LC_1D_nt = int(self.ui.lineEdit_Paso01_LC_03_nt.text()) # Número de veces que el dt se repite\n",
    "        Paso01_LC_1D_dt = float(self.ui.lineEdit_Paso01_LC_04_dt.text()) # dt es el tamaño del paso del tiempo\n",
    "        Paso01_LC_1D_c = float(self.ui.lineEdit_Paso01_LC_05_c.text()) # velocidad de la onda , c = 1\n",
    "        Paso01_LC_1D_ue = float(self.ui.lineEdit_Paso01_LC_06_u.text()) # Es la velocidad inicial u_0 , u=2\n",
    "        Paso01_LC_1D_x1 = float(self.ui.lineEdit_Paso01_LC_07_x1.text()) # es la u inicial u_0 para el tramo izquierdo\n",
    "        Paso01_LC_1D_x2 = float(self.ui.lineEdit_Paso01_LC_08_x2.text()) # Es la u inicial u_0 para el tramo derecho\n",
    "\n",
    "        # Barra de progreso\n",
    "        x = 0\n",
    "        while x < 100:\n",
    "            x += 0.0001\n",
    "            self.ui.progressBar_Paso01_LC_01.setValue(x)\n",
    "\n",
    "        # Ecuación de Convección - Función sombrero\n",
    "        print(\"Ecuación de convección - Función sombrero\")\n",
    "        u = np.ones(Paso01_LC_1D_nx) # Creamos una ecuación de puros unos con la cantidad de elementos de nx\n",
    "        u[int(Paso01_LC_1D_x1/Paso01_LC_1D_dx) : int(Paso01_LC_1D_x2/Paso01_LC_1D_dx)] = Paso01_LC_1D_ue # Remplezamos el valor de u_0 en el tramo de las cotas en el eje x para x1 y x2\n",
    "\n",
    "        # Dominio01:\n",
    "        Paso01_LC_1D_x1 = np.linspace(0,Paso01_LC_1D_x, Paso01_LC_1D_nx)\n",
    "        print(\"Dominio01 x1:\")\n",
    "        print(Paso01_LC_1D_x1)\n",
    "\n",
    "        # Rango01:\n",
    "        print(\"Rango01 u:\")\n",
    "        print(u)\n",
    "\n",
    "        y1 = u\n",
    "        print(\"Rango01 y1:\")\n",
    "        print(y1)\n",
    "\n",
    "        # Gráfico\n",
    "        plt.subplot(2,1,1)\n",
    "        plt.plot(Paso01_LC_1D_x1, y1, 'o-')\n",
    "        plt.title('Resolviendo la ecuación de convección')\n",
    "        plt.ylabel('Veloc. (m/s) - Eje Y1')\n",
    "\n",
    "        self.ui.label_Paso01_LC_response_01.setText(\"uini: \" + str(y1))\n",
    "\n",
    "        #Ecuación de Convección - Discretizada\n",
    "        print(\"Ecuación de convección - Discretizada\")\n",
    "        un = np.ones(Paso01_LC_1D_nx)\n",
    "\n",
    "        for n in range(Paso01_LC_1D_nt):\n",
    "          un[:] = u[:]\n",
    "          for i in range(1,Paso01_LC_1D_nx):\n",
    "              u[i] = un[i]-Paso01_LC_1D_c*Paso01_LC_1D_dt/Paso01_LC_1D_dx*(un[i]-un[i-1])\n",
    "\n",
    "        # Dominio02\n",
    "        print(\"Dominio02 x2:\")\n",
    "        Paso01_LC_1D_x2 = np.linspace(0,Paso01_LC_1D_x, Paso01_LC_1D_nx)\n",
    "        print(Paso01_LC_1D_x2)\n",
    "\n",
    "        # Rango02\n",
    "        print(\"Rango02 u:\")\n",
    "        print(u)\n",
    "        y2 = u\n",
    "        print(\"Rango02 y2:\")\n",
    "        print(y2)\n",
    "\n",
    "        plt.subplot(2,1,2)\n",
    "        plt.plot(Paso01_LC_1D_x2, y2, '.-')\n",
    "        plt.xlabel('distancia (m)')\n",
    "        plt.ylabel('Veloc. (m/s) - Eje Y2')\n",
    "\n",
    "        plt.show()\n",
    "\n",
    "        self.ui.label_Paso01_LC_response_02.setText(\"Ufin : \" + str(y2))\n",
    "\n",
    "if __name__==\"__main__\":\n",
    "    app = QApplication(sys.argv)\n",
    "    w = MyForm()\n",
    "    w.show()\n",
    "    sys.exit(app.exec_())"
   ]
  },
  {
   "cell_type": "markdown",
   "metadata": {},
   "source": [
    "## 02.02. Ecuación de convección no-lineal 1D\n",
    "\n",
    "Es la siguiente ecuación de convección representada en su forma no-lineal:\n",
    "\n",
    "$$\\frac{\\partial u}{\\partial t} + u \\frac{\\partial u}{\\partial x} = 0$$\n",
    "\n",
    "El valor de la velocidad de propagación de la onda $c$ ya no se encuentra disponible, en su lugar se presenta a $u$ quien reemplaza a la constante anterior hablada, ya hemos visto antes como se hace la discretización por lo tanto para este caso nos queda:    \n",
    "  \n",
    "$$\\frac{u_i^{n+1}-u_i^n}{\\Delta t} + u_i^n \\frac{u_i^n - u_{i-1}^n}{\\Delta x} = 0 $$\n",
    "\n",
    "Recordemos que nuestro interés es obtener el valor de $u_i^{n+1}$ , por ello si despejamos queda:\n",
    "\n",
    "$$u_i^{n+1} = u_i^n - u_i^n \\frac{\\Delta t}{\\Delta x}(u_i^n-u_{i-1}^n)$$\n",
    "\n",
    "Para nuestro programa GUI sería lo siguiente:"
   ]
  },
  {
   "cell_type": "code",
   "execution_count": null,
   "metadata": {},
   "outputs": [],
   "source": [
    "# Librerías\n",
    "import numpy as np # Numpy contraída como np\n",
    "import matplotlib.pyplot as plt # Matplotlib contraída como plt\n",
    "\n",
    "x = 10. # Longitud en el eje X\n",
    "nx = 100 # Número de divisiones que se le hace a x \n",
    "dx = x/(nx-1)\n",
    "nt = 500 # Tiempo t total\n",
    "dt = 0.010 # Paso del tiempo t\n",
    "ue = 2\n",
    "x1 = 1\n",
    "x2 = 3\n",
    "\n",
    "# Condiciones iniciales\n",
    "u = np.ones(nx)      # numpy función ones() creando un array de 1 con nx elmentos\n",
    "u[int(x1/dx) : int(x2/dx+1)]=ue\n",
    "print(\"Esto es u:\")\n",
    "print(u)\n",
    "print(\"Esto es nuestra función sombrero:\")\n",
    "plt.plot(np.linspace(1,x,nx), u) # Es esquema es para hacer una gráfica simple plot(X,Y)\n",
    "\n",
    "un = np.ones(nx)\n",
    "\n",
    "for n in range(nt):\n",
    "    un[:] = u[:]\n",
    "    for i in range(1,nx):\n",
    "        u[i] = un[i]-un[i]*(dt/dx)*(un[i]-un[i-1])\n",
    "plt.plot(np.linspace(0,x,nx),u)"
   ]
  },
  {
   "cell_type": "code",
   "execution_count": 1,
   "metadata": {},
   "outputs": [],
   "source": [
    "# Importando librerías\n",
    "import sys # Función de Python\n",
    "import numpy as np # Numpy contraída como np\n",
    "import matplotlib.pyplot as plt # Matplotlib contraída como plt\n",
    "from IPython.core.display import clear_output \n",
    "from PyQt5.QtWidgets import QMainWindow, QApplication, QAction, QFileDialog # PyQt5 el binding que hace posible la GUI\n",
    "from UI_N01_V02 import * # GUI convertida de Qt Designer"
   ]
  },
  {
   "cell_type": "code",
   "execution_count": 2,
   "metadata": {
    "scrolled": true
   },
   "outputs": [
    {
     "name": "stdout",
     "output_type": "stream",
     "text": [
      "Hello\n",
      "Ecuación de convección - Función sombrero\n",
      "Dominio x1:\n",
      "[ 0.   0.1  0.2  0.3  0.4  0.5  0.6  0.7  0.8  0.9  1.   1.1  1.2  1.3\n",
      "  1.4  1.5  1.6  1.7  1.8  1.9  2.   2.1  2.2  2.3  2.4  2.5  2.6  2.7\n",
      "  2.8  2.9  3.   3.1  3.2  3.3  3.4  3.5  3.6  3.7  3.8  3.9  4.   4.1\n",
      "  4.2  4.3  4.4  4.5  4.6  4.7  4.8  4.9  5.   5.1  5.2  5.3  5.4  5.5\n",
      "  5.6  5.7  5.8  5.9  6.   6.1  6.2  6.3  6.4  6.5  6.6  6.7  6.8  6.9\n",
      "  7.   7.1  7.2  7.3  7.4  7.5  7.6  7.7  7.8  7.9  8.   8.1  8.2  8.3\n",
      "  8.4  8.5  8.6  8.7  8.8  8.9  9.   9.1  9.2  9.3  9.4  9.5  9.6  9.7\n",
      "  9.8  9.9 10. ]\n",
      "Rango01 u:\n",
      "[1. 1. 1. 1. 1. 1. 1. 1. 1. 1. 2. 2. 2. 2. 2. 2. 2. 2. 2. 2. 2. 2. 2. 2.\n",
      " 2. 2. 2. 2. 2. 2. 2. 1. 1. 1. 1. 1. 1. 1. 1. 1. 1. 1. 1. 1. 1. 1. 1. 1.\n",
      " 1. 1. 1. 1. 1. 1. 1. 1. 1. 1. 1. 1. 1. 1. 1. 1. 1. 1. 1. 1. 1. 1. 1. 1.\n",
      " 1. 1. 1. 1. 1. 1. 1. 1. 1. 1. 1. 1. 1. 1. 1. 1. 1. 1. 1. 1. 1. 1. 1. 1.\n",
      " 1. 1. 1. 1. 1.]\n",
      "Rango01 y1:\n",
      "[1. 1. 1. 1. 1. 1. 1. 1. 1. 1. 2. 2. 2. 2. 2. 2. 2. 2. 2. 2. 2. 2. 2. 2.\n",
      " 2. 2. 2. 2. 2. 2. 2. 1. 1. 1. 1. 1. 1. 1. 1. 1. 1. 1. 1. 1. 1. 1. 1. 1.\n",
      " 1. 1. 1. 1. 1. 1. 1. 1. 1. 1. 1. 1. 1. 1. 1. 1. 1. 1. 1. 1. 1. 1. 1. 1.\n",
      " 1. 1. 1. 1. 1. 1. 1. 1. 1. 1. 1. 1. 1. 1. 1. 1. 1. 1. 1. 1. 1. 1. 1. 1.\n",
      " 1. 1. 1. 1. 1.]\n",
      "Ecuación de convección - Discretizada\n",
      "Dominio02 x2:\n",
      "[ 0.   0.1  0.2  0.3  0.4  0.5  0.6  0.7  0.8  0.9  1.   1.1  1.2  1.3\n",
      "  1.4  1.5  1.6  1.7  1.8  1.9  2.   2.1  2.2  2.3  2.4  2.5  2.6  2.7\n",
      "  2.8  2.9  3.   3.1  3.2  3.3  3.4  3.5  3.6  3.7  3.8  3.9  4.   4.1\n",
      "  4.2  4.3  4.4  4.5  4.6  4.7  4.8  4.9  5.   5.1  5.2  5.3  5.4  5.5\n",
      "  5.6  5.7  5.8  5.9  6.   6.1  6.2  6.3  6.4  6.5  6.6  6.7  6.8  6.9\n",
      "  7.   7.1  7.2  7.3  7.4  7.5  7.6  7.7  7.8  7.9  8.   8.1  8.2  8.3\n",
      "  8.4  8.5  8.6  8.7  8.8  8.9  9.   9.1  9.2  9.3  9.4  9.5  9.6  9.7\n",
      "  9.8  9.9 10. ]\n",
      "Rango02 u:\n",
      "[1.         1.         1.         1.         1.         1.\n",
      " 1.         1.         1.         1.         1.         1.\n",
      " 1.         1.         1.         1.         1.         1.\n",
      " 1.         1.         1.         1.         1.         1.\n",
      " 1.         1.         1.         1.00000001 1.00000002 1.00000006\n",
      " 1.00000016 1.00000042 1.00000102 1.00000239 1.00000533 1.00001142\n",
      " 1.00002345 1.00004632 1.00008805 1.0001613  1.00028514 1.00048699\n",
      " 1.00080449 1.00128698 1.0019961  1.00300518 1.00439726 1.00626148\n",
      " 1.00868849 1.0117651  1.01556903 1.02016442 1.02559864 1.03190061\n",
      " 1.0390808  1.04713252 1.05603417 1.0657521  1.07624362 1.08745995\n",
      " 1.09934874 1.11185626 1.12492908 1.13851533 1.15256557 1.16703332\n",
      " 1.18187536 1.19705184 1.21252621 1.22826509 1.2442381  1.26041761\n",
      " 1.27677845 1.29329775 1.30995459 1.32672984 1.34360588 1.36056642\n",
      " 1.37759627 1.39468111 1.41180731 1.42896162 1.44613084 1.46330134\n",
      " 1.48045823 1.49758397 1.51465599 1.53164225 1.54849301 1.5651255\n",
      " 1.58139483 1.59703898 1.61157484 1.62410473 1.63296953 1.63517787\n",
      " 1.62564838 1.59678884 1.54009235 1.45208285 1.34242304]\n",
      "Rango02 y2:\n",
      "[1.         1.         1.         1.         1.         1.\n",
      " 1.         1.         1.         1.         1.         1.\n",
      " 1.         1.         1.         1.         1.         1.\n",
      " 1.         1.         1.         1.         1.         1.\n",
      " 1.         1.         1.         1.00000001 1.00000002 1.00000006\n",
      " 1.00000016 1.00000042 1.00000102 1.00000239 1.00000533 1.00001142\n",
      " 1.00002345 1.00004632 1.00008805 1.0001613  1.00028514 1.00048699\n",
      " 1.00080449 1.00128698 1.0019961  1.00300518 1.00439726 1.00626148\n",
      " 1.00868849 1.0117651  1.01556903 1.02016442 1.02559864 1.03190061\n",
      " 1.0390808  1.04713252 1.05603417 1.0657521  1.07624362 1.08745995\n",
      " 1.09934874 1.11185626 1.12492908 1.13851533 1.15256557 1.16703332\n",
      " 1.18187536 1.19705184 1.21252621 1.22826509 1.2442381  1.26041761\n",
      " 1.27677845 1.29329775 1.30995459 1.32672984 1.34360588 1.36056642\n",
      " 1.37759627 1.39468111 1.41180731 1.42896162 1.44613084 1.46330134\n",
      " 1.48045823 1.49758397 1.51465599 1.53164225 1.54849301 1.5651255\n",
      " 1.58139483 1.59703898 1.61157484 1.62410473 1.63296953 1.63517787\n",
      " 1.62564838 1.59678884 1.54009235 1.45208285 1.34242304]\n"
     ]
    },
    {
     "data": {
      "image/png": "[encoded data removed]",
      "text/plain": [
       "<Figure size 432x288 with 2 Axes>"
      ]
     },
     "metadata": {
      "needs_background": "light"
     },
     "output_type": "display_data"
    },
    {
     "name": "stdout",
     "output_type": "stream",
     "text": [
      "Hello\n",
      "Ecuación de convección - Función sombrero\n",
      "Dominio x1:\n",
      "[ 0.   0.2  0.4  0.6  0.8  1.   1.2  1.4  1.6  1.8  2.   2.2  2.4  2.6\n",
      "  2.8  3.   3.2  3.4  3.6  3.8  4.   4.2  4.4  4.6  4.8  5.   5.2  5.4\n",
      "  5.6  5.8  6.   6.2  6.4  6.6  6.8  7.   7.2  7.4  7.6  7.8  8.   8.2\n",
      "  8.4  8.6  8.8  9.   9.2  9.4  9.6  9.8 10. ]\n",
      "Rango01 u:\n",
      "[1. 1. 1. 1. 1. 2. 2. 2. 2. 2. 2. 2. 2. 2. 2. 2. 1. 1. 1. 1. 1. 1. 1. 1.\n",
      " 1. 1. 1. 1. 1. 1. 1. 1. 1. 1. 1. 1. 1. 1. 1. 1. 1. 1. 1. 1. 1. 1. 1. 1.\n",
      " 1. 1. 1.]\n",
      "Rango01 y1:\n",
      "[1. 1. 1. 1. 1. 2. 2. 2. 2. 2. 2. 2. 2. 2. 2. 2. 1. 1. 1. 1. 1. 1. 1. 1.\n",
      " 1. 1. 1. 1. 1. 1. 1. 1. 1. 1. 1. 1. 1. 1. 1. 1. 1. 1. 1. 1. 1. 1. 1. 1.\n",
      " 1. 1. 1.]\n",
      "Ecuación de convección - Discretizada\n",
      "Dominio02 x2:\n",
      "[ 0.   0.2  0.4  0.6  0.8  1.   1.2  1.4  1.6  1.8  2.   2.2  2.4  2.6\n",
      "  2.8  3.   3.2  3.4  3.6  3.8  4.   4.2  4.4  4.6  4.8  5.   5.2  5.4\n",
      "  5.6  5.8  6.   6.2  6.4  6.6  6.8  7.   7.2  7.4  7.6  7.8  8.   8.2\n",
      "  8.4  8.6  8.8  9.   9.2  9.4  9.6  9.8 10. ]\n",
      "Rango02 u:\n",
      "[1.         1.         1.         1.         1.         1.\n",
      " 1.         1.         1.00000001 1.00000007 1.0000004  1.00000176\n",
      " 1.00000669 1.00002216 1.00006518 1.00017233 1.00041371 1.0009096\n",
      " 1.00184531 1.00347743 1.00612507 1.0101437  1.01588544 1.02365573\n",
      " 1.03367764 1.04607207 1.06085612 1.07795606 1.09722883 1.11848576\n",
      " 1.14151392 1.16609291 1.19200634 1.21904856 1.24702715 1.27576214\n",
      " 1.30508189 1.3348151  1.36477729 1.39474794 1.42443127 1.453388\n",
      " 1.48091662 1.50585018 1.52622562 1.53880646 1.53858479 1.51882547\n",
      " 1.47294833 1.39940443 1.30705826]\n",
      "Rango02 y2:\n",
      "[1.         1.         1.         1.         1.         1.\n",
      " 1.         1.         1.00000001 1.00000007 1.0000004  1.00000176\n",
      " 1.00000669 1.00002216 1.00006518 1.00017233 1.00041371 1.0009096\n",
      " 1.00184531 1.00347743 1.00612507 1.0101437  1.01588544 1.02365573\n",
      " 1.03367764 1.04607207 1.06085612 1.07795606 1.09722883 1.11848576\n",
      " 1.14151392 1.16609291 1.19200634 1.21904856 1.24702715 1.27576214\n",
      " 1.30508189 1.3348151  1.36477729 1.39474794 1.42443127 1.453388\n",
      " 1.48091662 1.50585018 1.52622562 1.53880646 1.53858479 1.51882547\n",
      " 1.47294833 1.39940443 1.30705826]\n"
     ]
    },
    {
     "data": {
      "image/png": "[encoded data removed]",
      "text/plain": [
       "<Figure size 432x288 with 2 Axes>"
      ]
     },
     "metadata": {
      "needs_background": "light"
     },
     "output_type": "display_data"
    },
    {
     "name": "stdout",
     "output_type": "stream",
     "text": [
      "Hello\n",
      "Ecuación de convección - Función sombrero\n",
      "Dominio x1:\n",
      "[ 0.          0.33333333  0.66666667  1.          1.33333333  1.66666667\n",
      "  2.          2.33333333  2.66666667  3.          3.33333333  3.66666667\n",
      "  4.          4.33333333  4.66666667  5.          5.33333333  5.66666667\n",
      "  6.          6.33333333  6.66666667  7.          7.33333333  7.66666667\n",
      "  8.          8.33333333  8.66666667  9.          9.33333333  9.66666667\n",
      " 10.        ]\n",
      "Rango01 u:\n",
      "[1. 1. 1. 2. 2. 2. 2. 2. 2. 2. 1. 1. 1. 1. 1. 1. 1. 1. 1. 1. 1. 1. 1. 1.\n",
      " 1. 1. 1. 1. 1. 1. 1.]\n",
      "Rango01 y1:\n",
      "[1. 1. 1. 2. 2. 2. 2. 2. 2. 2. 1. 1. 1. 1. 1. 1. 1. 1. 1. 1. 1. 1. 1. 1.\n",
      " 1. 1. 1. 1. 1. 1. 1.]\n",
      "Ecuación de convección - Discretizada\n",
      "Dominio02 x2:\n",
      "[ 0.          0.33333333  0.66666667  1.          1.33333333  1.66666667\n",
      "  2.          2.33333333  2.66666667  3.          3.33333333  3.66666667\n",
      "  4.          4.33333333  4.66666667  5.          5.33333333  5.66666667\n",
      "  6.          6.33333333  6.66666667  7.          7.33333333  7.66666667\n",
      "  8.          8.33333333  8.66666667  9.          9.33333333  9.66666667\n",
      " 10.        ]\n",
      "Rango02 u:\n",
      "[1.         1.         1.         1.00000012 1.0000019  1.00001513\n",
      " 1.00008034 1.00031976 1.00101812 1.00270445 1.00617633 1.01241581\n",
      " 1.0224042  1.03691115 1.05634983 1.08074405 1.10978941 1.1429564\n",
      " 1.17958708 1.21895629 1.2602847  1.30269606 1.34510421 1.3860013\n",
      " 1.42310443 1.4528346  1.469738   1.46640243 1.43522644 1.37344716\n",
      " 1.28920445]\n",
      "Rango02 y2:\n",
      "[1.         1.         1.         1.00000012 1.0000019  1.00001513\n",
      " 1.00008034 1.00031976 1.00101812 1.00270445 1.00617633 1.01241581\n",
      " 1.0224042  1.03691115 1.05634983 1.08074405 1.10978941 1.1429564\n",
      " 1.17958708 1.21895629 1.2602847  1.30269606 1.34510421 1.3860013\n",
      " 1.42310443 1.4528346  1.469738   1.46640243 1.43522644 1.37344716\n",
      " 1.28920445]\n"
     ]
    },
    {
     "data": {
      "image/png": "[encoded data removed]",
      "text/plain": [
       "<Figure size 432x288 with 2 Axes>"
      ]
     },
     "metadata": {
      "needs_background": "light"
     },
     "output_type": "display_data"
    },
    {
     "name": "stdout",
     "output_type": "stream",
     "text": [
      "Hello\n",
      "Ecuación de convección - Función sombrero\n",
      "Dominio x1:\n",
      "[ 0.  1.  2.  3.  4.  5.  6.  7.  8.  9. 10.]\n",
      "Rango01 u:\n",
      "[1. 2. 2. 2. 1. 1. 1. 1. 1. 1. 1.]\n",
      "Rango01 y1:\n",
      "[1. 2. 2. 2. 1. 1. 1. 1. 1. 1. 1.]\n",
      "Ecuación de convección - Discretizada\n",
      "Dominio02 x2:\n",
      "[ 0.  1.  2.  3.  4.  5.  6.  7.  8.  9. 10.]\n",
      "Rango02 u:\n",
      "[1.         1.00327305 1.01849752 1.05448054 1.11340685 1.18948588\n",
      " 1.27052169 1.33853488 1.37079239 1.3480211  1.2727561 ]\n",
      "Rango02 y2:\n",
      "[1.         1.00327305 1.01849752 1.05448054 1.11340685 1.18948588\n",
      " 1.27052169 1.33853488 1.37079239 1.3480211  1.2727561 ]\n"
     ]
    },
    {
     "data": {
      "image/png": "[encoded data removed]",
      "text/plain": [
       "<Figure size 432x288 with 2 Axes>"
      ]
     },
     "metadata": {
      "needs_background": "light"
     },
     "output_type": "display_data"
    },
    {
     "name": "stdout",
     "output_type": "stream",
     "text": [
      "Hello\n",
      "Ecuación de convección - Función sombrero\n",
      "Dominio x1:\n",
      "[ 0.   0.1  0.2  0.3  0.4  0.5  0.6  0.7  0.8  0.9  1.   1.1  1.2  1.3\n",
      "  1.4  1.5  1.6  1.7  1.8  1.9  2.   2.1  2.2  2.3  2.4  2.5  2.6  2.7\n",
      "  2.8  2.9  3.   3.1  3.2  3.3  3.4  3.5  3.6  3.7  3.8  3.9  4.   4.1\n",
      "  4.2  4.3  4.4  4.5  4.6  4.7  4.8  4.9  5.   5.1  5.2  5.3  5.4  5.5\n",
      "  5.6  5.7  5.8  5.9  6.   6.1  6.2  6.3  6.4  6.5  6.6  6.7  6.8  6.9\n",
      "  7.   7.1  7.2  7.3  7.4  7.5  7.6  7.7  7.8  7.9  8.   8.1  8.2  8.3\n",
      "  8.4  8.5  8.6  8.7  8.8  8.9  9.   9.1  9.2  9.3  9.4  9.5  9.6  9.7\n",
      "  9.8  9.9 10. ]\n",
      "Rango01 u:\n",
      "[1. 1. 1. 1. 1. 1. 1. 1. 1. 1. 2. 2. 2. 2. 2. 2. 2. 2. 2. 2. 2. 2. 2. 2.\n",
      " 2. 2. 2. 2. 2. 2. 2. 1. 1. 1. 1. 1. 1. 1. 1. 1. 1. 1. 1. 1. 1. 1. 1. 1.\n",
      " 1. 1. 1. 1. 1. 1. 1. 1. 1. 1. 1. 1. 1. 1. 1. 1. 1. 1. 1. 1. 1. 1. 1. 1.\n",
      " 1. 1. 1. 1. 1. 1. 1. 1. 1. 1. 1. 1. 1. 1. 1. 1. 1. 1. 1. 1. 1. 1. 1. 1.\n",
      " 1. 1. 1. 1. 1.]\n",
      "Rango01 y1:\n",
      "[1. 1. 1. 1. 1. 1. 1. 1. 1. 1. 2. 2. 2. 2. 2. 2. 2. 2. 2. 2. 2. 2. 2. 2.\n",
      " 2. 2. 2. 2. 2. 2. 2. 1. 1. 1. 1. 1. 1. 1. 1. 1. 1. 1. 1. 1. 1. 1. 1. 1.\n",
      " 1. 1. 1. 1. 1. 1. 1. 1. 1. 1. 1. 1. 1. 1. 1. 1. 1. 1. 1. 1. 1. 1. 1. 1.\n",
      " 1. 1. 1. 1. 1. 1. 1. 1. 1. 1. 1. 1. 1. 1. 1. 1. 1. 1. 1. 1. 1. 1. 1. 1.\n",
      " 1. 1. 1. 1. 1.]\n",
      "Ecuación de convección - Discretizada\n",
      "Dominio02 x2:\n",
      "[ 0.   0.1  0.2  0.3  0.4  0.5  0.6  0.7  0.8  0.9  1.   1.1  1.2  1.3\n",
      "  1.4  1.5  1.6  1.7  1.8  1.9  2.   2.1  2.2  2.3  2.4  2.5  2.6  2.7\n",
      "  2.8  2.9  3.   3.1  3.2  3.3  3.4  3.5  3.6  3.7  3.8  3.9  4.   4.1\n",
      "  4.2  4.3  4.4  4.5  4.6  4.7  4.8  4.9  5.   5.1  5.2  5.3  5.4  5.5\n",
      "  5.6  5.7  5.8  5.9  6.   6.1  6.2  6.3  6.4  6.5  6.6  6.7  6.8  6.9\n",
      "  7.   7.1  7.2  7.3  7.4  7.5  7.6  7.7  7.8  7.9  8.   8.1  8.2  8.3\n",
      "  8.4  8.5  8.6  8.7  8.8  8.9  9.   9.1  9.2  9.3  9.4  9.5  9.6  9.7\n",
      "  9.8  9.9 10. ]\n",
      "Rango02 u:\n",
      "[  1.   1.   1.   1.   1.   1.   1.   1.   1.   1.   0. -inf  nan  nan\n",
      "  nan  nan  nan  nan  nan  nan  nan  nan  nan  nan  nan  nan  nan  nan\n",
      "  nan  nan  nan  nan  nan  nan  nan  nan  nan  nan  nan  nan  nan  nan\n",
      "  nan  nan  nan  nan  nan  nan  nan  nan  nan  nan  nan  nan  nan  nan\n",
      "  nan  nan  nan  nan  nan  nan  nan  nan  nan  nan  nan  nan  nan  nan\n",
      "  nan  nan  nan  nan  nan  nan  nan  nan  nan  nan  nan  nan  nan  nan\n",
      "  nan  nan  nan  nan  nan  nan  nan  nan  nan  nan  nan  nan  nan  nan\n",
      "  nan  nan  nan]\n",
      "Rango02 y2:\n",
      "[  1.   1.   1.   1.   1.   1.   1.   1.   1.   1.   0. -inf  nan  nan\n",
      "  nan  nan  nan  nan  nan  nan  nan  nan  nan  nan  nan  nan  nan  nan\n",
      "  nan  nan  nan  nan  nan  nan  nan  nan  nan  nan  nan  nan  nan  nan\n",
      "  nan  nan  nan  nan  nan  nan  nan  nan  nan  nan  nan  nan  nan  nan\n",
      "  nan  nan  nan  nan  nan  nan  nan  nan  nan  nan  nan  nan  nan  nan\n",
      "  nan  nan  nan  nan  nan  nan  nan  nan  nan  nan  nan  nan  nan  nan\n",
      "  nan  nan  nan  nan  nan  nan  nan  nan  nan  nan  nan  nan  nan  nan\n",
      "  nan  nan  nan]\n"
     ]
    },
    {
     "name": "stderr",
     "output_type": "stream",
     "text": [
      "/home/jhongesell/Documentos/Informatica/Entornos_virtuales/Entornos_pip_venv/entorno01N01/lib/python3.6/site-packages/ipykernel_launcher.py:133: RuntimeWarning: overflow encountered in double_scalars\n",
      "/home/jhongesell/Documentos/Informatica/Entornos_virtuales/Entornos_pip_venv/entorno01N01/lib/python3.6/site-packages/ipykernel_launcher.py:133: RuntimeWarning: invalid value encountered in double_scalars\n"
     ]
    },
    {
     "data": {
      "image/png": "[encoded data removed]",
      "text/plain": [
       "<Figure size 432x288 with 2 Axes>"
      ]
     },
     "metadata": {
      "needs_background": "light"
     },
     "output_type": "display_data"
    },
    {
     "name": "stdout",
     "output_type": "stream",
     "text": [
      "Hello\n",
      "Ecuación de convección - Función sombrero\n",
      "Dominio x1:\n",
      "[ 0.   0.1  0.2  0.3  0.4  0.5  0.6  0.7  0.8  0.9  1.   1.1  1.2  1.3\n",
      "  1.4  1.5  1.6  1.7  1.8  1.9  2.   2.1  2.2  2.3  2.4  2.5  2.6  2.7\n",
      "  2.8  2.9  3.   3.1  3.2  3.3  3.4  3.5  3.6  3.7  3.8  3.9  4.   4.1\n",
      "  4.2  4.3  4.4  4.5  4.6  4.7  4.8  4.9  5.   5.1  5.2  5.3  5.4  5.5\n",
      "  5.6  5.7  5.8  5.9  6.   6.1  6.2  6.3  6.4  6.5  6.6  6.7  6.8  6.9\n",
      "  7.   7.1  7.2  7.3  7.4  7.5  7.6  7.7  7.8  7.9  8.   8.1  8.2  8.3\n",
      "  8.4  8.5  8.6  8.7  8.8  8.9  9.   9.1  9.2  9.3  9.4  9.5  9.6  9.7\n",
      "  9.8  9.9 10. ]\n",
      "Rango01 u:\n",
      "[1. 1. 1. 1. 1. 1. 1. 1. 1. 1. 2. 2. 2. 2. 2. 2. 2. 2. 2. 2. 2. 2. 2. 2.\n",
      " 2. 2. 2. 2. 2. 2. 2. 1. 1. 1. 1. 1. 1. 1. 1. 1. 1. 1. 1. 1. 1. 1. 1. 1.\n",
      " 1. 1. 1. 1. 1. 1. 1. 1. 1. 1. 1. 1. 1. 1. 1. 1. 1. 1. 1. 1. 1. 1. 1. 1.\n",
      " 1. 1. 1. 1. 1. 1. 1. 1. 1. 1. 1. 1. 1. 1. 1. 1. 1. 1. 1. 1. 1. 1. 1. 1.\n",
      " 1. 1. 1. 1. 1.]\n",
      "Rango01 y1:\n",
      "[1. 1. 1. 1. 1. 1. 1. 1. 1. 1. 2. 2. 2. 2. 2. 2. 2. 2. 2. 2. 2. 2. 2. 2.\n",
      " 2. 2. 2. 2. 2. 2. 2. 1. 1. 1. 1. 1. 1. 1. 1. 1. 1. 1. 1. 1. 1. 1. 1. 1.\n",
      " 1. 1. 1. 1. 1. 1. 1. 1. 1. 1. 1. 1. 1. 1. 1. 1. 1. 1. 1. 1. 1. 1. 1. 1.\n",
      " 1. 1. 1. 1. 1. 1. 1. 1. 1. 1. 1. 1. 1. 1. 1. 1. 1. 1. 1. 1. 1. 1. 1. 1.\n",
      " 1. 1. 1. 1. 1.]\n",
      "Ecuación de convección - Discretizada\n",
      "Dominio02 x2:\n",
      "[ 0.   0.1  0.2  0.3  0.4  0.5  0.6  0.7  0.8  0.9  1.   1.1  1.2  1.3\n",
      "  1.4  1.5  1.6  1.7  1.8  1.9  2.   2.1  2.2  2.3  2.4  2.5  2.6  2.7\n",
      "  2.8  2.9  3.   3.1  3.2  3.3  3.4  3.5  3.6  3.7  3.8  3.9  4.   4.1\n",
      "  4.2  4.3  4.4  4.5  4.6  4.7  4.8  4.9  5.   5.1  5.2  5.3  5.4  5.5\n",
      "  5.6  5.7  5.8  5.9  6.   6.1  6.2  6.3  6.4  6.5  6.6  6.7  6.8  6.9\n",
      "  7.   7.1  7.2  7.3  7.4  7.5  7.6  7.7  7.8  7.9  8.   8.1  8.2  8.3\n",
      "  8.4  8.5  8.6  8.7  8.8  8.9  9.   9.1  9.2  9.3  9.4  9.5  9.6  9.7\n",
      "  9.8  9.9 10. ]\n",
      "Rango02 u:\n",
      "[1.         1.         1.         1.         1.         1.\n",
      " 1.         1.         1.         1.         1.         1.\n",
      " 1.         1.         1.         1.         1.         1.\n",
      " 1.         1.         1.         1.         1.         1.\n",
      " 1.         1.         1.         1.00000001 1.00000002 1.00000006\n",
      " 1.00000016 1.00000042 1.00000102 1.00000239 1.00000533 1.00001142\n",
      " 1.00002345 1.00004632 1.00008805 1.0001613  1.00028514 1.00048699\n",
      " 1.00080449 1.00128698 1.0019961  1.00300518 1.00439726 1.00626148\n",
      " 1.00868849 1.0117651  1.01556903 1.02016442 1.02559864 1.03190061\n",
      " 1.0390808  1.04713252 1.05603417 1.0657521  1.07624362 1.08745995\n",
      " 1.09934874 1.11185626 1.12492908 1.13851533 1.15256557 1.16703332\n",
      " 1.18187536 1.19705184 1.21252621 1.22826509 1.2442381  1.26041761\n",
      " 1.27677845 1.29329775 1.30995459 1.32672984 1.34360588 1.36056642\n",
      " 1.37759627 1.39468111 1.41180731 1.42896162 1.44613084 1.46330134\n",
      " 1.48045823 1.49758397 1.51465599 1.53164225 1.54849301 1.5651255\n",
      " 1.58139483 1.59703898 1.61157484 1.62410473 1.63296953 1.63517787\n",
      " 1.62564838 1.59678884 1.54009235 1.45208285 1.34242304]\n",
      "Rango02 y2:\n",
      "[1.         1.         1.         1.         1.         1.\n",
      " 1.         1.         1.         1.         1.         1.\n",
      " 1.         1.         1.         1.         1.         1.\n",
      " 1.         1.         1.         1.         1.         1.\n",
      " 1.         1.         1.         1.00000001 1.00000002 1.00000006\n",
      " 1.00000016 1.00000042 1.00000102 1.00000239 1.00000533 1.00001142\n",
      " 1.00002345 1.00004632 1.00008805 1.0001613  1.00028514 1.00048699\n",
      " 1.00080449 1.00128698 1.0019961  1.00300518 1.00439726 1.00626148\n",
      " 1.00868849 1.0117651  1.01556903 1.02016442 1.02559864 1.03190061\n",
      " 1.0390808  1.04713252 1.05603417 1.0657521  1.07624362 1.08745995\n",
      " 1.09934874 1.11185626 1.12492908 1.13851533 1.15256557 1.16703332\n",
      " 1.18187536 1.19705184 1.21252621 1.22826509 1.2442381  1.26041761\n",
      " 1.27677845 1.29329775 1.30995459 1.32672984 1.34360588 1.36056642\n",
      " 1.37759627 1.39468111 1.41180731 1.42896162 1.44613084 1.46330134\n",
      " 1.48045823 1.49758397 1.51465599 1.53164225 1.54849301 1.5651255\n",
      " 1.58139483 1.59703898 1.61157484 1.62410473 1.63296953 1.63517787\n",
      " 1.62564838 1.59678884 1.54009235 1.45208285 1.34242304]\n"
     ]
    },
    {
     "data": {
      "image/png": "[encoded data removed]",
      "text/plain": [
       "<Figure size 432x288 with 2 Axes>"
      ]
     },
     "metadata": {
      "needs_background": "light"
     },
     "output_type": "display_data"
    },
    {
     "name": "stdout",
     "output_type": "stream",
     "text": [
      "Hello\n",
      "Ecuación de convección - Función sombrero\n",
      "Dominio x1:\n",
      "[ 0.   0.1  0.2  0.3  0.4  0.5  0.6  0.7  0.8  0.9  1.   1.1  1.2  1.3\n",
      "  1.4  1.5  1.6  1.7  1.8  1.9  2.   2.1  2.2  2.3  2.4  2.5  2.6  2.7\n",
      "  2.8  2.9  3.   3.1  3.2  3.3  3.4  3.5  3.6  3.7  3.8  3.9  4.   4.1\n",
      "  4.2  4.3  4.4  4.5  4.6  4.7  4.8  4.9  5.   5.1  5.2  5.3  5.4  5.5\n",
      "  5.6  5.7  5.8  5.9  6.   6.1  6.2  6.3  6.4  6.5  6.6  6.7  6.8  6.9\n",
      "  7.   7.1  7.2  7.3  7.4  7.5  7.6  7.7  7.8  7.9  8.   8.1  8.2  8.3\n",
      "  8.4  8.5  8.6  8.7  8.8  8.9  9.   9.1  9.2  9.3  9.4  9.5  9.6  9.7\n",
      "  9.8  9.9 10. ]\n",
      "Rango01 u:\n",
      "[1. 1. 1. 1. 1. 1. 1. 1. 1. 1. 2. 2. 2. 2. 2. 2. 2. 2. 2. 2. 2. 2. 2. 2.\n",
      " 2. 2. 2. 2. 2. 2. 2. 1. 1. 1. 1. 1. 1. 1. 1. 1. 1. 1. 1. 1. 1. 1. 1. 1.\n",
      " 1. 1. 1. 1. 1. 1. 1. 1. 1. 1. 1. 1. 1. 1. 1. 1. 1. 1. 1. 1. 1. 1. 1. 1.\n",
      " 1. 1. 1. 1. 1. 1. 1. 1. 1. 1. 1. 1. 1. 1. 1. 1. 1. 1. 1. 1. 1. 1. 1. 1.\n",
      " 1. 1. 1. 1. 1.]\n",
      "Rango01 y1:\n",
      "[1. 1. 1. 1. 1. 1. 1. 1. 1. 1. 2. 2. 2. 2. 2. 2. 2. 2. 2. 2. 2. 2. 2. 2.\n",
      " 2. 2. 2. 2. 2. 2. 2. 1. 1. 1. 1. 1. 1. 1. 1. 1. 1. 1. 1. 1. 1. 1. 1. 1.\n",
      " 1. 1. 1. 1. 1. 1. 1. 1. 1. 1. 1. 1. 1. 1. 1. 1. 1. 1. 1. 1. 1. 1. 1. 1.\n",
      " 1. 1. 1. 1. 1. 1. 1. 1. 1. 1. 1. 1. 1. 1. 1. 1. 1. 1. 1. 1. 1. 1. 1. 1.\n",
      " 1. 1. 1. 1. 1.]\n",
      "Ecuación de convección - Discretizada\n",
      "Dominio02 x2:\n",
      "[ 0.   0.1  0.2  0.3  0.4  0.5  0.6  0.7  0.8  0.9  1.   1.1  1.2  1.3\n",
      "  1.4  1.5  1.6  1.7  1.8  1.9  2.   2.1  2.2  2.3  2.4  2.5  2.6  2.7\n",
      "  2.8  2.9  3.   3.1  3.2  3.3  3.4  3.5  3.6  3.7  3.8  3.9  4.   4.1\n",
      "  4.2  4.3  4.4  4.5  4.6  4.7  4.8  4.9  5.   5.1  5.2  5.3  5.4  5.5\n",
      "  5.6  5.7  5.8  5.9  6.   6.1  6.2  6.3  6.4  6.5  6.6  6.7  6.8  6.9\n",
      "  7.   7.1  7.2  7.3  7.4  7.5  7.6  7.7  7.8  7.9  8.   8.1  8.2  8.3\n",
      "  8.4  8.5  8.6  8.7  8.8  8.9  9.   9.1  9.2  9.3  9.4  9.5  9.6  9.7\n",
      "  9.8  9.9 10. ]\n",
      "Rango02 u:\n",
      "[1.         1.         1.         1.         1.         1.\n",
      " 1.         1.         1.         1.         1.00327305 1.01849752\n",
      " 1.05448054 1.11394073 1.19338397 1.2864401  1.386493   1.48774558\n",
      " 1.58541048 1.67565153 1.75555586 1.82319525 1.87772303 1.91940635\n",
      " 1.94950494 1.96997514 1.9830677  1.99094151 1.99539848 1.99777744\n",
      " 1.99897759 1.99946808 1.99879444 1.99355997 1.97284836 1.91256307\n",
      " 1.77989899 1.56912809 1.34023619 1.16890257 1.07292873 1.02852385\n",
      " 1.01034221 1.00351428 1.00112474 1.00033997 1.00009725 1.00002637\n",
      " 1.00000679 1.00000166 1.00000039 1.00000009 1.00000002 1.\n",
      " 1.         1.         1.         1.         1.         1.\n",
      " 1.         1.         1.         1.         1.         1.\n",
      " 1.         1.         1.         1.         1.         1.\n",
      " 1.         1.         1.         1.         1.         1.\n",
      " 1.         1.         1.         1.         1.         1.\n",
      " 1.         1.         1.         1.         1.         1.\n",
      " 1.         1.         1.         1.         1.         1.\n",
      " 1.         1.         1.         1.         1.        ]\n",
      "Rango02 y2:\n",
      "[1.         1.         1.         1.         1.         1.\n",
      " 1.         1.         1.         1.         1.00327305 1.01849752\n",
      " 1.05448054 1.11394073 1.19338397 1.2864401  1.386493   1.48774558\n",
      " 1.58541048 1.67565153 1.75555586 1.82319525 1.87772303 1.91940635\n",
      " 1.94950494 1.96997514 1.9830677  1.99094151 1.99539848 1.99777744\n",
      " 1.99897759 1.99946808 1.99879444 1.99355997 1.97284836 1.91256307\n",
      " 1.77989899 1.56912809 1.34023619 1.16890257 1.07292873 1.02852385\n",
      " 1.01034221 1.00351428 1.00112474 1.00033997 1.00009725 1.00002637\n",
      " 1.00000679 1.00000166 1.00000039 1.00000009 1.00000002 1.\n",
      " 1.         1.         1.         1.         1.         1.\n",
      " 1.         1.         1.         1.         1.         1.\n",
      " 1.         1.         1.         1.         1.         1.\n",
      " 1.         1.         1.         1.         1.         1.\n",
      " 1.         1.         1.         1.         1.         1.\n",
      " 1.         1.         1.         1.         1.         1.\n",
      " 1.         1.         1.         1.         1.         1.\n",
      " 1.         1.         1.         1.         1.        ]\n"
     ]
    },
    {
     "data": {
      "image/png": "[encoded data removed]",
      "text/plain": [
       "<Figure size 432x288 with 2 Axes>"
      ]
     },
     "metadata": {
      "needs_background": "light"
     },
     "output_type": "display_data"
    },
    {
     "name": "stdout",
     "output_type": "stream",
     "text": [
      "Hello\n",
      "Ecuación de convección - Función sombrero\n",
      "Dominio x1:\n",
      "[ 0.   0.1  0.2  0.3  0.4  0.5  0.6  0.7  0.8  0.9  1.   1.1  1.2  1.3\n",
      "  1.4  1.5  1.6  1.7  1.8  1.9  2.   2.1  2.2  2.3  2.4  2.5  2.6  2.7\n",
      "  2.8  2.9  3.   3.1  3.2  3.3  3.4  3.5  3.6  3.7  3.8  3.9  4.   4.1\n",
      "  4.2  4.3  4.4  4.5  4.6  4.7  4.8  4.9  5.   5.1  5.2  5.3  5.4  5.5\n",
      "  5.6  5.7  5.8  5.9  6.   6.1  6.2  6.3  6.4  6.5  6.6  6.7  6.8  6.9\n",
      "  7.   7.1  7.2  7.3  7.4  7.5  7.6  7.7  7.8  7.9  8.   8.1  8.2  8.3\n",
      "  8.4  8.5  8.6  8.7  8.8  8.9  9.   9.1  9.2  9.3  9.4  9.5  9.6  9.7\n",
      "  9.8  9.9 10. ]\n",
      "Rango01 u:\n",
      "[1. 1. 1. 1. 1. 1. 1. 1. 1. 1. 1. 1. 1. 1. 1. 1. 1. 1. 1. 1. 1. 1. 1. 1.\n",
      " 1. 4. 4. 4. 4. 4. 4. 4. 4. 4. 4. 4. 4. 4. 4. 4. 4. 4. 4. 4. 4. 4. 4. 4.\n",
      " 4. 4. 4. 1. 1. 1. 1. 1. 1. 1. 1. 1. 1. 1. 1. 1. 1. 1. 1. 1. 1. 1. 1. 1.\n",
      " 1. 1. 1. 1. 1. 1. 1. 1. 1. 1. 1. 1. 1. 1. 1. 1. 1. 1. 1. 1. 1. 1. 1. 1.\n",
      " 1. 1. 1. 1. 1.]\n",
      "Rango01 y1:\n",
      "[1. 1. 1. 1. 1. 1. 1. 1. 1. 1. 1. 1. 1. 1. 1. 1. 1. 1. 1. 1. 1. 1. 1. 1.\n",
      " 1. 4. 4. 4. 4. 4. 4. 4. 4. 4. 4. 4. 4. 4. 4. 4. 4. 4. 4. 4. 4. 4. 4. 4.\n",
      " 4. 4. 4. 1. 1. 1. 1. 1. 1. 1. 1. 1. 1. 1. 1. 1. 1. 1. 1. 1. 1. 1. 1. 1.\n",
      " 1. 1. 1. 1. 1. 1. 1. 1. 1. 1. 1. 1. 1. 1. 1. 1. 1. 1. 1. 1. 1. 1. 1. 1.\n",
      " 1. 1. 1. 1. 1.]\n",
      "Ecuación de convección - Discretizada\n",
      "Dominio02 x2:\n",
      "[ 0.   0.1  0.2  0.3  0.4  0.5  0.6  0.7  0.8  0.9  1.   1.1  1.2  1.3\n",
      "  1.4  1.5  1.6  1.7  1.8  1.9  2.   2.1  2.2  2.3  2.4  2.5  2.6  2.7\n",
      "  2.8  2.9  3.   3.1  3.2  3.3  3.4  3.5  3.6  3.7  3.8  3.9  4.   4.1\n",
      "  4.2  4.3  4.4  4.5  4.6  4.7  4.8  4.9  5.   5.1  5.2  5.3  5.4  5.5\n",
      "  5.6  5.7  5.8  5.9  6.   6.1  6.2  6.3  6.4  6.5  6.6  6.7  6.8  6.9\n",
      "  7.   7.1  7.2  7.3  7.4  7.5  7.6  7.7  7.8  7.9  8.   8.1  8.2  8.3\n",
      "  8.4  8.5  8.6  8.7  8.8  8.9  9.   9.1  9.2  9.3  9.4  9.5  9.6  9.7\n",
      "  9.8  9.9 10. ]\n",
      "Rango02 u:\n",
      "[1.         1.         1.         1.         1.         1.\n",
      " 1.         1.         1.         1.         1.         1.\n",
      " 1.         1.         1.         1.         1.         1.\n",
      " 1.         1.         1.         1.         1.         1.\n",
      " 1.         1.00488289 1.02657581 1.07586558 1.15526166 1.26052363\n",
      " 1.38520917 1.52341847 1.67057595 1.82332715 1.97921831 2.13639982\n",
      " 2.29340476 2.4489948  2.60205542 2.75152576 2.89635326 3.03546841\n",
      " 3.16777788 3.29217662 3.40758047 3.51298003 3.60751385 3.69055424\n",
      " 3.76179326 3.82131094 3.86960653 3.90757807 3.93644655 3.95763318\n",
      " 3.97259441 3.98254348 3.98762197 3.98356144 3.94795813 3.79118429\n",
      " 3.2686215  2.26845793 1.44743078 1.12090969 1.02965862 1.00701087\n",
      " 1.00161872 1.00036533 1.00008044 1.00001724 1.00000359 1.00000072\n",
      " 1.00000014 1.00000003 1.         1.         1.         1.\n",
      " 1.         1.         1.         1.         1.         1.\n",
      " 1.         1.         1.         1.         1.         1.\n",
      " 1.         1.         1.         1.         1.         1.\n",
      " 1.         1.         1.         1.         1.        ]\n",
      "Rango02 y2:\n",
      "[1.         1.         1.         1.         1.         1.\n",
      " 1.         1.         1.         1.         1.         1.\n",
      " 1.         1.         1.         1.         1.         1.\n",
      " 1.         1.         1.         1.         1.         1.\n",
      " 1.         1.00488289 1.02657581 1.07586558 1.15526166 1.26052363\n",
      " 1.38520917 1.52341847 1.67057595 1.82332715 1.97921831 2.13639982\n",
      " 2.29340476 2.4489948  2.60205542 2.75152576 2.89635326 3.03546841\n",
      " 3.16777788 3.29217662 3.40758047 3.51298003 3.60751385 3.69055424\n",
      " 3.76179326 3.82131094 3.86960653 3.90757807 3.93644655 3.95763318\n",
      " 3.97259441 3.98254348 3.98762197 3.98356144 3.94795813 3.79118429\n",
      " 3.2686215  2.26845793 1.44743078 1.12090969 1.02965862 1.00701087\n",
      " 1.00161872 1.00036533 1.00008044 1.00001724 1.00000359 1.00000072\n",
      " 1.00000014 1.00000003 1.         1.         1.         1.\n",
      " 1.         1.         1.         1.         1.         1.\n",
      " 1.         1.         1.         1.         1.         1.\n",
      " 1.         1.         1.         1.         1.         1.\n",
      " 1.         1.         1.         1.         1.        ]\n"
     ]
    },
    {
     "data": {
      "image/png": "[encoded data removed]",
      "text/plain": [
       "<Figure size 432x288 with 2 Axes>"
      ]
     },
     "metadata": {
      "needs_background": "light"
     },
     "output_type": "display_data"
    },
    {
     "ename": "SystemExit",
     "evalue": "0",
     "output_type": "error",
     "traceback": [
      "An exception has occurred, use %tb to see the full traceback.\n",
      "\u001b[0;31mSystemExit\u001b[0m\u001b[0;31m:\u001b[0m 0\n"
     ]
    },
    {
     "name": "stderr",
     "output_type": "stream",
     "text": [
      "/home/jhongesell/Documentos/Informatica/Entornos_virtuales/Entornos_pip_venv/entorno01N01/lib/python3.6/site-packages/IPython/core/interactiveshell.py:3334: UserWarning: To exit: use 'exit', 'quit', or Ctrl-D.\n",
      "  warn(\"To exit: use 'exit', 'quit', or Ctrl-D.\", stacklevel=1)\n"
     ]
    }
   ],
   "source": [
    "# Clase principal\n",
    "class MyForm(QMainWindow):\n",
    "    def __init__(self):\n",
    "        super().__init__()\n",
    "        self.ui = Ui_MainWindow()\n",
    "        self.ui.setupUi(self)\n",
    "        self.ui.pushButton_Paso01_LC_solver.clicked.connect(self.dispsolver_Paso01_LC)\n",
    "        self.ui.pushButton_Paso01_NLC_solver.clicked.connect(self.dispsolver_Paso01_NCL)\n",
    "        self.show()\n",
    "        \n",
    "    def dispsolver_Paso01_LC(self):\n",
    "        Paso01_LC_1D_nx = int(self.ui.lineEdit_Paso01_LC_01_nx.text())\n",
    "        Paso01_LC_1D_x = float(self.ui.lineEdit_Paso01_LC_02_x.text())\n",
    "        Paso01_LC_1D_dx = Paso01_LC_1D_x/(Paso01_LC_1D_nx-1)\n",
    "        Paso01_LC_1D_nt = int(self.ui.lineEdit_Paso01_LC_03_nt.text())\n",
    "        Paso01_LC_1D_dt = float(self.ui.lineEdit_Paso01_LC_04_dt.text())\n",
    "        Paso01_LC_1D_c = float(self.ui.lineEdit_Paso01_LC_05_c.text())\n",
    "        Paso01_LC_1D_ue = float(self.ui.lineEdit_Paso01_LC_06_u.text())\n",
    "        Paso01_LC_1D_x1 = float(self.ui.lineEdit_Paso01_LC_07_x1.text())\n",
    "        Paso01_LC_1D_x2 = float(self.ui.lineEdit_Paso01_LC_08_x2.text())\n",
    "\n",
    "        # Barra de progreso\n",
    "        x = 0\n",
    "        while x < 100:\n",
    "            x += 0.0001\n",
    "            self.ui.progressBar_Paso01_LC_01.setValue(x)\n",
    "\n",
    "        # Ecuación de Convección - Función sombrero\n",
    "        print(\"Ecuación de convección - Función sombrero\")\n",
    "        u = np.ones(Paso01_LC_1D_nx)\n",
    "        u[int(Paso01_LC_1D_x1/Paso01_LC_1D_dx) : int(Paso01_LC_1D_x2/Paso01_LC_1D_dx+1)] = Paso01_LC_1D_ue \n",
    "\n",
    "        # Dominio01:\n",
    "        Paso01_LC_1D_x1 = np.linspace(0,Paso01_LC_1D_x, Paso01_LC_1D_nx)\n",
    "        print(\"Dominio01 x1:\")\n",
    "        print(Paso01_LC_1D_x1)\n",
    "\n",
    "        # Rango01:\n",
    "        print(\"Rango01 u:\")\n",
    "        print(u)\n",
    "\n",
    "        y1 = u\n",
    "        print(\"Rango01 y1:\")\n",
    "        print(y1)\n",
    "\n",
    "        # Gráfico\n",
    "        plt.subplot(2,1,1)\n",
    "        plt.plot(Paso01_LC_1D_x1, y1, 'o-')\n",
    "        plt.title('Resolviendo la ecuación de convección')\n",
    "        plt.ylabel('Veloc. (m/s) - Eje Y1')\n",
    "\n",
    "        self.ui.label_Paso01_LC_response_01.setText(\"uini: \" + str(y1))\n",
    "\n",
    "        #Ecuación de Convección - Discretizada\n",
    "        print(\"Ecuación de convección - Discretizada\")\n",
    "        un = np.ones(Paso01_LC_1D_nx)\n",
    "\n",
    "        for n in range(Paso01_LC_1D_nt):\n",
    "          un[:] = u[:]\n",
    "          for i in range(1,Paso01_LC_1D_nx):\n",
    "              u[i] = un[i]-Paso01_LC_1D_c*Paso01_LC_1D_dt/Paso01_LC_1D_dx*(un[i]-un[i-1])\n",
    "\n",
    "        # Dominio02\n",
    "        print(\"Dominio02 x2:\")\n",
    "        Paso01_LC_1D_x2 = np.linspace(0,Paso01_LC_1D_x, Paso01_LC_1D_nx)\n",
    "        print(Paso01_LC_1D_x2)\n",
    "\n",
    "        # Rango02\n",
    "        print(\"Rango02 u:\")\n",
    "        print(u)\n",
    "        y2 = u\n",
    "        print(\"Rango02 y2:\")\n",
    "        print(y2)\n",
    "\n",
    "        plt.subplot(2,1,2)\n",
    "        plt.plot(Paso01_LC_1D_x2, y2, '.-')\n",
    "        plt.xlabel('distancia (m)')\n",
    "        plt.ylabel('Veloc. (m/s) - Eje Y2')\n",
    "\n",
    "        plt.show()\n",
    "\n",
    "        self.ui.label_Paso01_LC_response_02.setText(\"Ufin : \" + str(y2))\n",
    "    def dispsolver_Paso01_NCL(self):\n",
    "        print(\"Hello\")\n",
    "        Paso01_NLC_1D_nx = int(self.ui.lineEdit_Paso01_NLC_01_nx.text())\n",
    "        Paso01_NLC_1D_x = float(self.ui.lineEdit_Paso01_NLC_02_x.text())\n",
    "        Paso01_NLC_1D_dx = Paso01_NLC_1D_x/(Paso01_NLC_1D_nx-1)\n",
    "        Paso01_NLC_1D_nt = int(self.ui.lineEdit_Paso01_NLC_03_nt.text())\n",
    "        Paso01_NLC_1D_dt = float(self.ui.lineEdit_Paso01_NLC_04_dt.text())\n",
    "        Paso01_NLC_1D_ue = float(self.ui.lineEdit_Paso01_NLC_06_ue.text())\n",
    "        Paso01_NLC_1D_x1 = float(self.ui.lineEdit_Paso01_NLC_07_x1.text())\n",
    "        Paso01_NLC_1D_x2 = float(self.ui.lineEdit_Paso01_NLC_08_x2.text())\n",
    "\n",
    "        # Barra de progreso\n",
    "        x = 0\n",
    "        while x < 100:\n",
    "            x += 0.0001\n",
    "            self.ui.progressBar_Paso01_NLC_01.setValue(x)\n",
    "\n",
    "        # Ecuación de COnvección - Función sombrero\n",
    "        print(\"Ecuación de convección - Función sombrero\")\n",
    "        u = np.ones(Paso01_NLC_1D_nx)\n",
    "        u[int(Paso01_NLC_1D_x1/Paso01_NLC_1D_dx) : int(Paso01_NLC_1D_x2/Paso01_NLC_1D_dx+1)] = Paso01_NLC_1D_ue\n",
    "\n",
    "        # Dominio01:\n",
    "        Paso01_NLC_1D_x1 = np.linspace(0,Paso01_NLC_1D_x, Paso01_NLC_1D_nx)\n",
    "        print(\"Dominio x1:\")\n",
    "        print(Paso01_NLC_1D_x1)\n",
    "\n",
    "        # Rango01:\n",
    "        print(\"Rango01 u:\")\n",
    "        print(u)\n",
    "\n",
    "        y1 = u\n",
    "        print(\"Rango01 y1:\")\n",
    "        print(y1)\n",
    "\n",
    "        # Gráfico\n",
    "        plt.subplot(2,1,1)\n",
    "        plt.plot(Paso01_NLC_1D_x1, y1, 'o-')\n",
    "        plt.title('Resolviendo la ecuación de convección')\n",
    "        plt.ylabel('Veloc. (m/s) - Eje Y1')\n",
    "\n",
    "        self.ui.label_Paso01_NLC_response_01.setText(\"uini: \" + str(y1))\n",
    "\n",
    "        # Ecuación de convección - Discretizada\n",
    "        print(\"Ecuación de convección - Discretizada\")\n",
    "        un = np.ones(Paso01_NLC_1D_nx)\n",
    "\n",
    "        for n in range(Paso01_NLC_1D_nt):\n",
    "            un[:] = u[:]\n",
    "            for i in range(1,Paso01_NLC_1D_nx):\n",
    "                u[i] = un[i]-un[i]*Paso01_NLC_1D_dt/Paso01_NLC_1D_dx*(un[i]-un[i-1])\n",
    "\n",
    "        # Dominio02\n",
    "        print(\"Dominio02 x2:\")\n",
    "        Paso01_NLC_1D_x2 = np.linspace(0,Paso01_NLC_1D_x, Paso01_NLC_1D_nx)\n",
    "        print(Paso01_NLC_1D_x2)\n",
    "\n",
    "        # Rango02\n",
    "        print(\"Rango02 u:\")\n",
    "        print(u)\n",
    "        y2 = u\n",
    "        print(\"Rango02 y2:\")\n",
    "        print(y2)\n",
    "\n",
    "        plt.subplot(2,1,2)\n",
    "        plt.plot(Paso01_NLC_1D_x2, y2, '.-')\n",
    "        plt.ylabel('Veloc. (m/s) - Eje Y2')\n",
    "\n",
    "        plt.show()\n",
    "\n",
    "        self.ui.label_Paso01_NLC_response_02.setText(\"Ufin : \" + str(y2))\n",
    "\n",
    "\n",
    "if __name__==\"__main__\":\n",
    "    app = QApplication(sys.argv)\n",
    "    w = MyForm()\n",
    "    w.show()\n",
    "    sys.exit(app.exec_())"
   ]
  },
  {
   "cell_type": "markdown",
   "metadata": {},
   "source": [
    "## 02.03. Convergencia y condición CFL\n",
    "\n",
    "Si bien en este curso tenemos la posibilidad de cambiar los parámetros de nuestras ecuaciones, en algunos casos se pueden llegar a ver como estos hacen que la gráfica sea inestable, vamos a crear una función o método para una sola variable, recordemos que además de definir el espacio de trabajo en el eje *x* también señalamos el número de nodos o puntos *nx* en el cual este se divide, vamos a analizar ello creando métodos:"
   ]
  },
  {
   "cell_type": "code",
   "execution_count": 3,
   "metadata": {},
   "outputs": [
    {
     "name": "stdout",
     "output_type": "stream",
     "text": [
      "Populating the interactive namespace from numpy and matplotlib\n"
     ]
    }
   ],
   "source": [
    "%pylab inline\n",
    "#función mágica que hace que los gráficos se muestren en la misma celda de resultados\n",
    "\n",
    "import numpy as np\n",
    "import matplotlib.pyplot as plt\n",
    "\n",
    "def conveccionlineal1D(nx):\n",
    "    x = 2.\n",
    "    dx = x/(nx-1)\n",
    "    nt = 20\n",
    "    dt = 0.025\n",
    "    c = 1\n",
    "    x1 = 0.5\n",
    "    x2 = 1.\n",
    "    ue = 2\n",
    "    \n",
    "    u = np.ones(nx)\n",
    "    u[int(x1/dx) : int(x2/dx+1)]=ue\n",
    "    \n",
    "    un = np.ones(nx)\n",
    "    \n",
    "    for n in range(nt):\n",
    "        un[:] = u[:]\n",
    "        for i in range(1,nx):\n",
    "            u[i] = un[i]-c*(dt/dx)*(un[i]-un[i-1])\n",
    "    plt.plot(np.linspace(0,x,nx),u)"
   ]
  },
  {
   "cell_type": "code",
   "execution_count": 4,
   "metadata": {},
   "outputs": [
    {
     "data": {
      "image/png": "[encoded data removed]",
      "text/plain": [
       "<Figure size 432x288 with 1 Axes>"
      ]
     },
     "metadata": {
      "needs_background": "light"
     },
     "output_type": "display_data"
    }
   ],
   "source": [
    "conveccionlineal1D(0)"
   ]
  },
  {
   "cell_type": "code",
   "execution_count": 5,
   "metadata": {},
   "outputs": [
    {
     "data": {
      "image/png": "[encoded data removed]",
      "text/plain": [
       "<Figure size 432x288 with 1 Axes>"
      ]
     },
     "metadata": {
      "needs_background": "light"
     },
     "output_type": "display_data"
    }
   ],
   "source": [
    "conveccionlineal1D(2)"
   ]
  },
  {
   "cell_type": "code",
   "execution_count": 6,
   "metadata": {},
   "outputs": [
    {
     "data": {
      "image/png": "[encoded data removed]",
      "text/plain": [
       "<Figure size 432x288 with 1 Axes>"
      ]
     },
     "metadata": {
      "needs_background": "light"
     },
     "output_type": "display_data"
    }
   ],
   "source": [
    "conveccionlineal1D(3)"
   ]
  },
  {
   "cell_type": "code",
   "execution_count": 7,
   "metadata": {},
   "outputs": [
    {
     "data": {
      "image/png": "[encoded data removed]",
      "text/plain": [
       "<Figure size 432x288 with 1 Axes>"
      ]
     },
     "metadata": {
      "needs_background": "light"
     },
     "output_type": "display_data"
    }
   ],
   "source": [
    "conveccionlineal1D(4)"
   ]
  },
  {
   "cell_type": "code",
   "execution_count": 8,
   "metadata": {},
   "outputs": [
    {
     "data": {
      "image/png": "[encoded data removed]",
      "text/plain": [
       "<Figure size 432x288 with 1 Axes>"
      ]
     },
     "metadata": {
      "needs_background": "light"
     },
     "output_type": "display_data"
    }
   ],
   "source": [
    "conveccionlineal1D(5)"
   ]
  },
  {
   "cell_type": "code",
   "execution_count": 9,
   "metadata": {},
   "outputs": [
    {
     "data": {
      "image/png": "[encoded data removed]",
      "text/plain": [
       "<Figure size 432x288 with 1 Axes>"
      ]
     },
     "metadata": {
      "needs_background": "light"
     },
     "output_type": "display_data"
    }
   ],
   "source": [
    "conveccionlineal1D(10)"
   ]
  },
  {
   "cell_type": "code",
   "execution_count": 10,
   "metadata": {},
   "outputs": [
    {
     "data": {
      "image/png": "[encoded data removed]",
      "text/plain": [
       "<Figure size 432x288 with 1 Axes>"
      ]
     },
     "metadata": {
      "needs_background": "light"
     },
     "output_type": "display_data"
    }
   ],
   "source": [
    "conveccionlineal1D(20)"
   ]
  },
  {
   "cell_type": "code",
   "execution_count": 11,
   "metadata": {},
   "outputs": [
    {
     "data": {
      "image/png": "[encoded data removed]",
      "text/plain": [
       "<Figure size 432x288 with 1 Axes>"
      ]
     },
     "metadata": {
      "needs_background": "light"
     },
     "output_type": "display_data"
    }
   ],
   "source": [
    "conveccionlineal1D(40)"
   ]
  },
  {
   "cell_type": "code",
   "execution_count": 12,
   "metadata": {},
   "outputs": [
    {
     "data": {
      "image/png": "[encoded data removed]",
      "text/plain": [
       "<Figure size 432x288 with 1 Axes>"
      ]
     },
     "metadata": {
      "needs_background": "light"
     },
     "output_type": "display_data"
    }
   ],
   "source": [
    "conveccionlineal1D(60)"
   ]
  },
  {
   "cell_type": "code",
   "execution_count": 13,
   "metadata": {},
   "outputs": [
    {
     "data": {
      "image/png": "[encoded data removed]",
      "text/plain": [
       "<Figure size 432x288 with 1 Axes>"
      ]
     },
     "metadata": {
      "needs_background": "light"
     },
     "output_type": "display_data"
    }
   ],
   "source": [
    "conveccionlineal1D(70)"
   ]
  },
  {
   "cell_type": "code",
   "execution_count": 14,
   "metadata": {},
   "outputs": [
    {
     "data": {
      "image/png": "[encoded data removed]",
      "text/plain": [
       "<Figure size 432x288 with 1 Axes>"
      ]
     },
     "metadata": {
      "needs_background": "light"
     },
     "output_type": "display_data"
    }
   ],
   "source": [
    "conveccionlineal1D(80)"
   ]
  },
  {
   "cell_type": "code",
   "execution_count": 15,
   "metadata": {},
   "outputs": [
    {
     "data": {
      "image/png": "[encoded data removed]",
      "text/plain": [
       "<Figure size 432x288 with 1 Axes>"
      ]
     },
     "metadata": {
      "needs_background": "light"
     },
     "output_type": "display_data"
    }
   ],
   "source": [
    "conveccionlineal1D(81)"
   ]
  },
  {
   "cell_type": "code",
   "execution_count": 16,
   "metadata": {},
   "outputs": [
    {
     "data": {
      "image/png": "[encoded data removed]",
      "text/plain": [
       "<Figure size 432x288 with 1 Axes>"
      ]
     },
     "metadata": {
      "needs_background": "light"
     },
     "output_type": "display_data"
    }
   ],
   "source": [
    "conveccionlineal1D(82)"
   ]
  },
  {
   "cell_type": "code",
   "execution_count": 17,
   "metadata": {},
   "outputs": [
    {
     "data": {
      "image/png": "[encoded data removed]",
      "text/plain": [
       "<Figure size 432x288 with 1 Axes>"
      ]
     },
     "metadata": {
      "needs_background": "light"
     },
     "output_type": "display_data"
    }
   ],
   "source": [
    "conveccionlineal1D(83)"
   ]
  },
  {
   "cell_type": "code",
   "execution_count": 18,
   "metadata": {},
   "outputs": [
    {
     "data": {
      "image/png": "[encoded data removed]",
      "text/plain": [
       "<Figure size 432x288 with 1 Axes>"
      ]
     },
     "metadata": {
      "needs_background": "light"
     },
     "output_type": "display_data"
    }
   ],
   "source": [
    "conveccionlineal1D(84)"
   ]
  },
  {
   "cell_type": "code",
   "execution_count": 19,
   "metadata": {},
   "outputs": [
    {
     "data": {
      "image/png": "[encoded data removed]",
      "text/plain": [
       "<Figure size 432x288 with 1 Axes>"
      ]
     },
     "metadata": {
      "needs_background": "light"
     },
     "output_type": "display_data"
    }
   ],
   "source": [
    "conveccionlineal1D(85)"
   ]
  },
  {
   "cell_type": "code",
   "execution_count": 20,
   "metadata": {},
   "outputs": [
    {
     "data": {
      "image/png": "[encoded data removed]",
      "text/plain": [
       "<Figure size 432x288 with 1 Axes>"
      ]
     },
     "metadata": {
      "needs_background": "light"
     },
     "output_type": "display_data"
    }
   ],
   "source": [
    "conveccionlineal1D(90)"
   ]
  },
  {
   "cell_type": "code",
   "execution_count": 21,
   "metadata": {},
   "outputs": [
    {
     "data": {
      "image/png": "[encoded data removed]",
      "text/plain": [
       "<Figure size 432x288 with 1 Axes>"
      ]
     },
     "metadata": {
      "needs_background": "light"
     },
     "output_type": "display_data"
    }
   ],
   "source": [
    "conveccionlineal1D(95)"
   ]
  },
  {
   "cell_type": "code",
   "execution_count": 22,
   "metadata": {},
   "outputs": [
    {
     "data": {
      "image/png": "[encoded data removed]",
      "text/plain": [
       "<Figure size 432x288 with 1 Axes>"
      ]
     },
     "metadata": {
      "needs_background": "light"
     },
     "output_type": "display_data"
    }
   ],
   "source": [
    "conveccionlineal1D(100)"
   ]
  },
  {
   "cell_type": "code",
   "execution_count": 23,
   "metadata": {},
   "outputs": [
    {
     "data": {
      "image/png": "[encoded data removed]",
      "text/plain": [
       "<Figure size 432x288 with 1 Axes>"
      ]
     },
     "metadata": {
      "needs_background": "light"
     },
     "output_type": "display_data"
    }
   ],
   "source": [
    "conveccionlineal1D(300)"
   ]
  },
  {
   "cell_type": "markdown",
   "metadata": {},
   "source": [
    "La inestabilidad que vemos que se produce es más notorio a la medida que aumentamos el número de puntos, en un principio con los primeros valores que asignabamos a *nx* eramos concientes que se parecía a función sombrero, pero conforme fue creciendo *nx* para un valor de 80 este iba alejandose a lo que habíamos visto hasta ese instante; lo que vemos que ocurre es que comienza a haber mayor difusión numérica y por ello la onda toma esas formas, consideraciones:\n",
    "\n",
    "* La Convergencia y estabilidad de un esquema explícito dependerá del tamaño de los intervalos de tiempo y espacio.\n",
    "\n",
    "* Para un método explícito luego de cierto tiempo si el error disminuye o ya no aumenta al pasar otra etapa de tiempo se dice que el esquema es estable.\n",
    "\n",
    "**Nota:** Para el método implícito de Crack-Nicolson lo que se llegará a ver que es incondicionalmente estable.\n",
    "\n",
    " "
   ]
  },
  {
   "cell_type": "markdown",
   "metadata": {},
   "source": [
    "## 02.04. Condición de Courant-Friedrichs-Lewys (CFL)\n",
    "\n",
    "El CFL o también conocido como número de Courant se utiliza como una restricción para que exista una convergencia de las ecuaciones diferenciales parciales, es diferente a la estabilidad numérica. El CFL hace que el paso del tiempo deba ser menos a un valor ya que si no, la solución falla.\n",
    "\n",
    "$$\\sigma = \\frac{u \\Delta t}{\\Delta x} \\leq \\sigma_{max}$$\n",
    "\n",
    "$\\sigma$ : Número de Courant\n",
    "$u$ : Velocidad de la onda\n",
    "\n",
    "Ahora vamos a implementar un código el cual incluya al número de Courant con la finalidad de que converga a una solución estable.\n"
   ]
  },
  {
   "cell_type": "code",
   "execution_count": 9,
   "metadata": {},
   "outputs": [],
   "source": [
    "import numpy as np\n",
    "import matplotlib.pyplot as plt\n",
    "\n",
    "def conveccionlineal1D(nx):\n",
    "    x = 2.\n",
    "    dx = x/(nx-1)\n",
    "    nt = 20\n",
    "    c = 1\n",
    "    sigma = .9\n",
    "    \n",
    "    dt = sigma*dx\n",
    "    \n",
    "    ue = 2\n",
    "    x1 = .5\n",
    "    x2 = 1\n",
    "    \n",
    "    u = np.ones(nx)\n",
    "    u[int(x1/dx) : int(x2/dx+1)] = ue\n",
    "    \n",
    "    un = np.ones(nx)\n",
    "    \n",
    "    for n in range(nt):  # teración a través del tiempo\n",
    "        un[:] = u[:] ## copia los valores existentes de 'u' en 'un'\n",
    "        for i in range(1,nx):\n",
    "            u[i] = un[i]-c*dt/dx*(un[i]-un[i-1])\n",
    "        \n",
    "    plt.plot(np.linspace(0,x,nx),u)"
   ]
  },
  {
   "cell_type": "code",
   "execution_count": 10,
   "metadata": {},
   "outputs": [
    {
     "data": {
      "image/png": "[encoded data removed]",
      "text/plain": [
       "<Figure size 432x288 with 1 Axes>"
      ]
     },
     "metadata": {
      "needs_background": "light"
     },
     "output_type": "display_data"
    }
   ],
   "source": [
    "conveccionlineal1D(31)"
   ]
  },
  {
   "cell_type": "code",
   "execution_count": 11,
   "metadata": {},
   "outputs": [
    {
     "data": {
      "image/png": "[encoded data removed]",
      "text/plain": [
       "<Figure size 432x288 with 1 Axes>"
      ]
     },
     "metadata": {
      "needs_background": "light"
     },
     "output_type": "display_data"
    }
   ],
   "source": [
    "conveccionlineal1D(41)"
   ]
  },
  {
   "cell_type": "code",
   "execution_count": 12,
   "metadata": {},
   "outputs": [
    {
     "data": {
      "image/png": "[encoded data removed]",
      "text/plain": [
       "<Figure size 432x288 with 1 Axes>"
      ]
     },
     "metadata": {
      "needs_background": "light"
     },
     "output_type": "display_data"
    }
   ],
   "source": [
    "conveccionlineal1D(71)"
   ]
  },
  {
   "cell_type": "code",
   "execution_count": 13,
   "metadata": {},
   "outputs": [
    {
     "data": {
      "image/png": "[encoded data removed]",
      "text/plain": [
       "<Figure size 432x288 with 1 Axes>"
      ]
     },
     "metadata": {
      "needs_background": "light"
     },
     "output_type": "display_data"
    }
   ],
   "source": [
    "conveccionlineal1D(101)"
   ]
  },
  {
   "cell_type": "code",
   "execution_count": 14,
   "metadata": {},
   "outputs": [
    {
     "data": {
      "image/png": "[encoded data removed]",
      "text/plain": [
       "<Figure size 432x288 with 1 Axes>"
      ]
     },
     "metadata": {
      "needs_background": "light"
     },
     "output_type": "display_data"
    }
   ],
   "source": [
    "conveccionlineal1D(121)"
   ]
  },
  {
   "cell_type": "code",
   "execution_count": 15,
   "metadata": {},
   "outputs": [
    {
     "data": {
      "image/png": "[encoded data removed]",
      "text/plain": [
       "<Figure size 432x288 with 1 Axes>"
      ]
     },
     "metadata": {
      "needs_background": "light"
     },
     "output_type": "display_data"
    }
   ],
   "source": [
    "conveccionlineal1D(501)"
   ]
  },
  {
   "cell_type": "markdown",
   "metadata": {},
   "source": []
  },
  {
   "cell_type": "markdown",
   "metadata": {},
   "source": [
    "# CAPITULO N03 Difusión\n",
    "\n",
    "## 03.01. Ecuación de Difusión en 1-D\n",
    "\n",
    "Se puede expresar de la siguiente forma la ecuación unidimensional:\n",
    "\n",
    "$$\\frac{\\partial u}{\\partial t} - \\nu \\frac{\\partial^2 u}{\\partial x^2} = 0$$\n",
    "\n",
    "Para este caso al contar con una ecuación de segundo orden deberíamos saber como proceder para su discretización.\n",
    "\n",
    "### 03.02. Discretizando entonces $\\frac{\\partial ^2 u}{\\partial x^2}$\n",
    "\n",
    "Partiendo de la serie de expansión de Taylor de $u_{i+1}$ y $u_{i-1}$ en torno a $u_i$ para la derivada de segundo orden  tenemos:\n",
    "\n",
    "$u_{i+1} = u_i + \\Delta x \\frac{\\partial u}{\\partial x}\\bigg|_i + \\frac{\\Delta x^2}{2} \\frac{\\partial ^2 u}{\\partial x^2}\\bigg|_i + \\frac{\\Delta x^3}{3} \\frac{\\partial ^3 u}{\\partial x^3}\\bigg|_i + O(\\Delta x^4)$\n",
    "\n",
    "$u_{i-1} = u_i - \\Delta x \\frac{\\partial u}{\\partial x}\\bigg|_i + \\frac{\\Delta x^2}{2} \\frac{\\partial ^2 u}{\\partial x^2}\\bigg|_i - \\frac{\\Delta x^3}{3} \\frac{\\partial ^3 u}{\\partial x^3}\\bigg|_i + O(\\Delta x^4)$\n",
    "\n",
    "Si hacemos la adición de estas dos ecuaciones notamos que las expresiones donde los terminos se encuentran en una posición par son anuladas por los signos que llevan y al final para el caso de la $O(\\Delta x^4)$ el valor que de su suma es muy pequeño por lo que no lo tomamos en cuenta, quedando:\n",
    "\n",
    "$u_{i+1} + u_{i-1} = 2u_i+\\Delta x^2 \\frac{\\partial ^2 u}{\\partial x^2}\\bigg|_i + O(\\Delta x^4)$\n",
    "\n",
    "De lo anterior queríamos discretizar $\\frac{\\partial ^2 u}{\\partial x^2}\\bigg|_i$ así que:\n",
    "\n",
    "$$\\frac{\\partial ^2 u}{\\partial x^2}=\\frac{u_{i+1}-2u_{i}+u_{i-1}}{\\Delta x^2} + O(\\Delta x^2)$$\n",
    "\n",
    "### 03.03. Regresando a la ecuación de difusión lineal en 1-D\n",
    "\n",
    "Escribimos la ecuación de difusión lineal en 1-D en su forma discretizada:\n",
    "\n",
    "$$\\frac{u_{i}^{n+1}-u_{i}^{n}}{\\Delta t}=\\nu\\frac{u_{i+1}^{n}-2u_{i}^{n}+u_{i-1}^{n}}{\\Delta x^2}$$\n",
    "\n",
    "Observando esta ecuación nos queda por encontrar el valor de $O(\\Delta x^4)$ , para lo cual comenzamos despejando:\n",
    "\n",
    "$$u_{i}^{n+1}=u_{i}^{n}+\\frac{\\nu\\Delta t}{\\Delta x^2}(u_{i+1}^{n}-2u_{i}^{n}+u_{i-1}^{n})$$\n",
    "\n",
    "Vamos a implementar esta ecuación en nuestro código, las condiciones iniciales son $t=0$, $u=2$ para el intervalo $0.5\\le x\\le 1$ y $u=1$ para todo lo demás."
   ]
  },
  {
   "cell_type": "code",
   "execution_count": 41,
   "metadata": {},
   "outputs": [
    {
     "name": "stdout",
     "output_type": "stream",
     "text": [
      "Populating the interactive namespace from numpy and matplotlib\n"
     ]
    },
    {
     "data": {
      "text/plain": [
       "[<matplotlib.lines.Line2D at 0x7fe91c300e80>]"
      ]
     },
     "execution_count": 41,
     "metadata": {},
     "output_type": "execute_result"
    },
    {
     "data": {
      "image/png": "[encoded data removed]",
      "text/plain": [
       "<Figure size 432x288 with 1 Axes>"
      ]
     },
     "metadata": {
      "needs_background": "light"
     },
     "output_type": "display_data"
    }
   ],
   "source": [
    "%pylab inline\n",
    "\n",
    "import numpy as np\n",
    "import matplotlib.pyplot as plt\n",
    "\n",
    "nx = 41\n",
    "x = 2.\n",
    "dx = x/(nx-1)\n",
    "nt = 200\n",
    "nu = 0.3\n",
    "sigma = .3\n",
    "dt = sigma*(dx**2)/nu\n",
    "\n",
    "x1 = 0.5\n",
    "x2 = 1\n",
    "ue = 2\n",
    "\n",
    "u = np.ones(nx)\n",
    "u[int(x1/dx) : int(x2/dx+1)] = ue\n",
    "\n",
    "un = np.ones(nx)\n",
    "\n",
    "for n in range(nt):\n",
    "    un[:] = u[:]\n",
    "    for i in range(1, nx - 1):\n",
    "        u[i] = un[i] + nu*(dt/dx**2)*(un[i+1]-2*un[i]+un[i-1])\n",
    "        \n",
    "plt.plot(np.linspace(0, x, nx), u)"
   ]
  },
  {
   "cell_type": "markdown",
   "metadata": {},
   "source": [
    "# CAPITULO N04: Ecuación de Burgers\n",
    "\n",
    "Para una dimensión espacial la ecuación de Burgers es:\n",
    "\n",
    "$$\\frac{\\partial u}{\\partial t} + u \\frac{\\partial u}{\\partial x} = \\nu \\frac{\\partial ^2u}{\\partial x^2}$$\n",
    "\n",
    "Como se vé esta entonces viene a ser resultado de la mezcla de las ecuaciones de convección y difusión, en este momento estamos viendo para el caso de 1 dimensión.\n",
    "\n",
    "La discretizamos con diferencias delantadas en el tiempo y retrazadas para el espacio para las derivadas de orden 1º, para la derivada de orden 2º hacemos diferencias centradas como vimos en las celdas anteriores, logrando:\n",
    "\n",
    "$$\\frac{u_i^{n+1}-u_i^n}{\\Delta t} + u_i^n \\frac{u_i^n - u_{i-1}^n}{\\Delta x} = \\nu \\frac{u_{i+1}^n - 2u_i^n + u_{i-1}^n}{\\Delta x^2}$$\n",
    "\n",
    "Es nuestra tarea hallar el valor de $u_i^{n+1}$ por lo que la despejamos:\n",
    "\n",
    "$$u_i^{n+1} = u_i^n - u_i^n \\frac{\\Delta t}{\\Delta x} (u_i^n - u_{i-1}^n) + \\nu \\frac{\\Delta t}{\\Delta x^2}(u_{i+1}^n - 2u_i^n + u_{i-1}^n)$$\n",
    "\n",
    "## 04.02. Condiciones iniciales y de contorno\n",
    "\n",
    "Vamos a explorar algunos atributos de la ecuación de Burgers con diferentes condiciones iniciales y de contorno respecto a las que ya hemos visto.\n",
    "\n",
    "Para esta demostración usaremos:\n",
    "\n",
    "\\begin{eqnarray}\n",
    "u &=& -\\frac{2 \\nu}{\\phi} \\frac{\\partial \\phi}{\\partial x} + 4 \\\\\\\n",
    "\\phi &=& \\exp \\bigg(\\frac{-x^2}{4 \\nu} \\bigg) + \\exp \\bigg(\\frac{-(x-2 \\pi)^2}{4 \\nu} \\bigg)\n",
    "\\end{eqnarray}\n",
    "\n",
    "La solución anaística es:\n",
    "\n",
    "\\begin{eqnarray}\n",
    "u &=& -\\frac{2 \\nu}{\\phi} \\frac{\\partial \\phi}{\\partial x} + 4 \\\\\\\n",
    "\\phi &=& \\exp \\bigg(\\frac{-(x-4t)^2}{4 \\nu (t+1)} \\bigg) + \\exp \\bigg(\\frac{-(x-4t -2 \\pi)^2}{4 \\nu(t+1)} \\bigg)\n",
    "\\end{eqnarray}\n",
    "\n",
    "La condición de frontera:\n",
    "\n",
    "$$u(0) = u(2\\pi)$$\n",
    "\n",
    "A esto se le denomina condición de frontera *periódica*.\n",
    "\n",
    "## 04.03. Sympy para matemática simbólica\n",
    "\n",
    "Vamos a utilizar la librería Sympy la cuál nos ayudará a evaluar la confición inicial dada por $\\frac{\\partial \\phi}{\\partial x}$ , esto con fines de ágilidad de calculo.\n"
   ]
  },
  {
   "cell_type": "code",
   "execution_count": 1,
   "metadata": {},
   "outputs": [
    {
     "data": {
      "image/png": "[encoded data removed]",
      "text/latex": [
       "$\\displaystyle e^{- \\frac{\\left(- 4 t + x - 6.28318530717959\\right)^{2}}{4 \\nu \\left(t + 1\\right)}} + e^{- \\frac{\\left(- 4 t + x\\right)^{2}}{4 \\nu \\left(t + 1\\right)}}$"
      ],
      "text/plain": [
       "                               2                2 \n",
       " -(-4⋅t + x - 6.28318530717959)      -(-4⋅t + x)  \n",
       " ────────────────────────────────    ─────────────\n",
       "           4⋅ν⋅(t + 1)                4⋅ν⋅(t + 1) \n",
       "ℯ                                 + ℯ             "
      ]
     },
     "execution_count": 1,
     "metadata": {},
     "output_type": "execute_result"
    }
   ],
   "source": [
    "import numpy as np\n",
    "import sympy\n",
    "from sympy import init_printing\n",
    "init_printing(use_latex=True)\n",
    "\n",
    "x, nu, t = sympy.symbols('x nu t')\n",
    "phi = sympy.exp(-(x-4*t)**2/(4*nu*(t+1))) + sympy.exp(-(x-4*t-2*np.pi)**2/(4*nu*(t+1)))\n",
    "phi"
   ]
  },
  {
   "cell_type": "code",
   "execution_count": 2,
   "metadata": {},
   "outputs": [
    {
     "data": {
      "image/png": "[encoded data removed]",
      "text/latex": [
       "$\\displaystyle - \\frac{\\left(- 8 t + 2 x\\right) e^{- \\frac{\\left(- 4 t + x\\right)^{2}}{4 \\nu \\left(t + 1\\right)}}}{4 \\nu \\left(t + 1\\right)} - \\frac{\\left(- 8 t + 2 x - 12.5663706143592\\right) e^{- \\frac{\\left(- 4 t + x - 6.28318530717959\\right)^{2}}{4 \\nu \\left(t + 1\\right)}}}{4 \\nu \\left(t + 1\\right)}$"
      ],
      "text/plain": [
       "                           2                                                  \n",
       "                -(-4⋅t + x)                                      -(-4⋅t + x - \n",
       "                ─────────────                                    ─────────────\n",
       "                 4⋅ν⋅(t + 1)                                               4⋅ν\n",
       "  (-8⋅t + 2⋅x)⋅ℯ                (-8⋅t + 2⋅x - 12.5663706143592)⋅ℯ             \n",
       "- ─────────────────────────── - ──────────────────────────────────────────────\n",
       "          4⋅ν⋅(t + 1)                                      4⋅ν⋅(t + 1)        \n",
       "\n",
       "                 2 \n",
       "6.28318530717959)  \n",
       "───────────────────\n",
       "⋅(t + 1)           \n",
       "                   \n",
       "───────────────────\n",
       "                   "
      ]
     },
     "execution_count": 2,
     "metadata": {},
     "output_type": "execute_result"
    }
   ],
   "source": [
    "phiprime = phi.diff(x)\n",
    "phiprime"
   ]
  },
  {
   "cell_type": "code",
   "execution_count": 3,
   "metadata": {},
   "outputs": [
    {
     "name": "stdout",
     "output_type": "stream",
     "text": [
      "-(-8*t + 2*x)*exp(-(-4*t + x)**2/(4*nu*(t + 1)))/(4*nu*(t + 1)) - (-8*t + 2*x - 12.5663706143592)*exp(-(-4*t + x - 6.28318530717959)**2/(4*nu*(t + 1)))/(4*nu*(t + 1))\n"
     ]
    }
   ],
   "source": [
    "print(phiprime)"
   ]
  },
  {
   "cell_type": "code",
   "execution_count": 4,
   "metadata": {},
   "outputs": [
    {
     "data": {
      "image/png": "[encoded data removed]",
      "text/latex": [
       "$\\displaystyle - \\frac{2 \\nu \\left(- \\frac{\\left(- 8 t + 2 x\\right) e^{- \\frac{\\left(- 4 t + x\\right)^{2}}{4 \\nu \\left(t + 1\\right)}}}{4 \\nu \\left(t + 1\\right)} - \\frac{\\left(- 8 t + 2 x - 12.5663706143592\\right) e^{- \\frac{\\left(- 4 t + x - 6.28318530717959\\right)^{2}}{4 \\nu \\left(t + 1\\right)}}}{4 \\nu \\left(t + 1\\right)}\\right)}{e^{- \\frac{\\left(- 4 t + x - 6.28318530717959\\right)^{2}}{4 \\nu \\left(t + 1\\right)}} + e^{- \\frac{\\left(- 4 t + x\\right)^{2}}{4 \\nu \\left(t + 1\\right)}}} + 4$"
      ],
      "text/plain": [
       "      ⎛                           2                                           \n",
       "      ⎜                -(-4⋅t + x)                                      -(-4⋅t\n",
       "      ⎜                ─────────────                                    ──────\n",
       "      ⎜                 4⋅ν⋅(t + 1)                                           \n",
       "      ⎜  (-8⋅t + 2⋅x)⋅ℯ                (-8⋅t + 2⋅x - 12.5663706143592)⋅ℯ      \n",
       "  2⋅ν⋅⎜- ─────────────────────────── - ───────────────────────────────────────\n",
       "      ⎝          4⋅ν⋅(t + 1)                                      4⋅ν⋅(t + 1) \n",
       "- ────────────────────────────────────────────────────────────────────────────\n",
       "                                                            2                2\n",
       "                              -(-4⋅t + x - 6.28318530717959)      -(-4⋅t + x) \n",
       "                              ────────────────────────────────    ────────────\n",
       "                                        4⋅ν⋅(t + 1)                4⋅ν⋅(t + 1)\n",
       "                             ℯ                                 + ℯ            \n",
       "\n",
       "                        2 ⎞    \n",
       " + x - 6.28318530717959)  ⎟    \n",
       "──────────────────────────⎟    \n",
       "    4⋅ν⋅(t + 1)           ⎟    \n",
       "                          ⎟    \n",
       "──────────────────────────⎟    \n",
       "                          ⎠    \n",
       "─────────────────────────── + 4\n",
       "                               \n",
       "                               \n",
       "─                              \n",
       "                               \n",
       "                               "
      ]
     },
     "execution_count": 4,
     "metadata": {},
     "output_type": "execute_result"
    }
   ],
   "source": [
    "from sympy.utilities.lambdify import lambdify\n",
    "\n",
    "u = -2*nu*(phiprime/phi)+4\n",
    "u"
   ]
  },
  {
   "cell_type": "markdown",
   "metadata": {},
   "source": [
    "**Lambdify**\n",
    "\n",
    "Lambdify transforma la experesión a una función que se pueda usar, solo bastará con decirle a lambdify qué variables son las de entrada y las de salida.\n",
    "\n",
    "* Variables de entrada:\n",
    "  * (t,x,nu)\n",
    "* Variables de salida:\n",
    "  * (u)"
   ]
  },
  {
   "cell_type": "code",
   "execution_count": 5,
   "metadata": {},
   "outputs": [
    {
     "data": {
      "image/png": "[encoded data removed]",
      "text/latex": [
       "$\\displaystyle 3.4917066420644494$"
      ],
      "text/plain": [
       "3.4917066420644494"
      ]
     },
     "execution_count": 5,
     "metadata": {},
     "output_type": "execute_result"
    }
   ],
   "source": [
    "ufunc = lambdify((t, x, nu), u)\n",
    "ufunc(1,4,3)"
   ]
  },
  {
   "cell_type": "markdown",
   "metadata": {},
   "source": [
    "Nuevamente viendo la ecuación de Burgers\n",
    "\n",
    "Ya contamos con las condiciones iniciales defindas y se puede continuar para finalizar el problema con su solución."
   ]
  },
  {
   "cell_type": "code",
   "execution_count": 6,
   "metadata": {},
   "outputs": [
    {
     "data": {
      "text/plain": [
       "array([4.        , 4.06283185, 4.12566371, 4.18849556, 4.25132741,\n",
       "       4.31415927, 4.37699112, 4.43982297, 4.50265482, 4.56548668,\n",
       "       4.62831853, 4.69115038, 4.75398224, 4.81681409, 4.87964594,\n",
       "       4.9424778 , 5.00530965, 5.0681415 , 5.13097336, 5.19380521,\n",
       "       5.25663706, 5.31946891, 5.38230077, 5.44513262, 5.50796447,\n",
       "       5.57079633, 5.63362818, 5.69646003, 5.75929189, 5.82212374,\n",
       "       5.88495559, 5.94778745, 6.0106193 , 6.07345115, 6.136283  ,\n",
       "       6.19911486, 6.26194671, 6.32477856, 6.38761042, 6.45044227,\n",
       "       6.51327412, 6.57610598, 6.63893783, 6.70176967, 6.76460125,\n",
       "       6.82742866, 6.89018589, 6.95176632, 6.99367964, 6.72527549,\n",
       "       4.        , 1.27472451, 1.00632036, 1.04823368, 1.10981411,\n",
       "       1.17257134, 1.23539875, 1.29823033, 1.36106217, 1.42389402,\n",
       "       1.48672588, 1.54955773, 1.61238958, 1.67522144, 1.73805329,\n",
       "       1.80088514, 1.863717  , 1.92654885, 1.9893807 , 2.05221255,\n",
       "       2.11504441, 2.17787626, 2.24070811, 2.30353997, 2.36637182,\n",
       "       2.42920367, 2.49203553, 2.55486738, 2.61769923, 2.68053109,\n",
       "       2.74336294, 2.80619479, 2.86902664, 2.9318585 , 2.99469035,\n",
       "       3.0575222 , 3.12035406, 3.18318591, 3.24601776, 3.30884962,\n",
       "       3.37168147, 3.43451332, 3.49734518, 3.56017703, 3.62300888,\n",
       "       3.68584073, 3.74867259, 3.81150444, 3.87433629, 3.93716815,\n",
       "       4.        ])"
      ]
     },
     "execution_count": 6,
     "metadata": {},
     "output_type": "execute_result"
    }
   ],
   "source": [
    "import matplotlib.pyplot as plt\n",
    "\n",
    "x = 2.\n",
    "nx = 101\n",
    "nt = 100\n",
    "dx = x*np.pi/(nx-2)\n",
    "nu = 0.07\n",
    "dt = dx*nu\n",
    "\n",
    "x = np.linspace(0, x*np.pi, nx)\n",
    "un = np.empty(nx)\n",
    "t = 0\n",
    "\n",
    "u = np.asarray([ufunc(t, x0, nu) for x0 in x])\n",
    "u"
   ]
  },
  {
   "cell_type": "code",
   "execution_count": 7,
   "metadata": {},
   "outputs": [
    {
     "data": {
      "image/png": "[encoded data removed]",
      "text/latex": [
       "$\\displaystyle \\left( 0, \\  10\\right)$"
      ],
      "text/plain": [
       "(0, 10)"
      ]
     },
     "execution_count": 7,
     "metadata": {},
     "output_type": "execute_result"
    },
    {
     "data": {
      "image/png": "[encoded data removed]",
      "text/plain": [
       "<Figure size 1100x700 with 1 Axes>"
      ]
     },
     "metadata": {
      "needs_background": "light"
     },
     "output_type": "display_data"
    }
   ],
   "source": [
    "plt.figure(figsize=(11,7), dpi=100)\n",
    "plt.plot(x,u, marker='o', lw=2)\n",
    "plt.xlim([0,2*np.pi])\n",
    "plt.ylim([0,10])"
   ]
  },
  {
   "cell_type": "markdown",
   "metadata": {},
   "source": [
    "Nos habíamos acostumbrado a ver a la función sombrero y esta es alejada a ella, le llamaremos \"función de diente de sierra\".\n",
    "\n",
    "### Condiciones de contorno periódicas\n",
    "\n",
    "Las condiciones de contorno periódica hacen que nuestra función sombrero al llegar al extremo de la derecha pueda retornar hacia la izquierda, en los casos anteriores cuando aumentadabamos el *nt* simplemente nuestra función se desplazaba hacia la derecha hasta que esta dejaba de figurar en la pantalla, con las funciones de contorno esto ya no sucede sino que hay un retorno, un cambio de dirección.\n",
    "\n",
    "Del capítulo 4 respecto a la ecuación de Burguer que combina a las ecuaciones de convección y difusión en su forma discretizada y despejada para $u_i^{n+1}$ tenemos:\n",
    "\n",
    "$$u_i^{n+1} = u_i^n - u_i^n \\frac{\\Delta t}{\\Delta x} (u_i^n - u_{i-1}^n) + \\nu \\frac{\\Delta t}{\\Delta x^2}(u_{i+1}^n - 2u_i^n + u_{i-1}^n)$$"
   ]
  },
  {
   "cell_type": "code",
   "execution_count": 8,
   "metadata": {},
   "outputs": [],
   "source": [
    "for n in range(nt):\n",
    "    un[:]=u[:]\n",
    "    for i in range(nx-1):\n",
    "        u[i] = un[i] - un[i] * dt/dx *(un[i] - un[i-1]) + nu*dt/dx**2*\\\n",
    "                (un[i+1]-2*un[i]+un[i-1])\n",
    "    u[-1] = un[-1] - un[-1] * dt/dx * (un[-1] - un[-2]) + nu*dt/dx**2*\\\n",
    "                (un[0]-2*un[-1]+un[-2])\n",
    "        \n",
    "u_analytical = np.asarray([ufunc(nt*dt, xi, nu) for xi in x])"
   ]
  },
  {
   "cell_type": "code",
   "execution_count": 9,
   "metadata": {},
   "outputs": [
    {
     "data": {
      "text/plain": [
       "<matplotlib.legend.Legend at 0x7fefae0315f8>"
      ]
     },
     "execution_count": 9,
     "metadata": {},
     "output_type": "execute_result"
    },
    {
     "data": {
      "image/png": "[encoded data removed]",
      "text/plain": [
       "<Figure size 1100x700 with 1 Axes>"
      ]
     },
     "metadata": {
      "needs_background": "light"
     },
     "output_type": "display_data"
    }
   ],
   "source": [
    "plt.figure(figsize=(11,7), dpi=100)\n",
    "plt.plot(x,u, marker='o', lw=2, label='Computacional')\n",
    "plt.plot(x, u_analytical, label='Analítica')\n",
    "plt.xlim([0,2*np.pi])\n",
    "plt.ylim([0,10])\n",
    "plt.legend()"
   ]
  },
  {
   "cell_type": "markdown",
   "metadata": {},
   "source": [
    "# Bibliografía:\n",
    "* Este es un contenido adaptado del curso de la Dra. Lorena Barba denominado [\"12 Steps to Navier-Stokes\"](https://lorenabarba.com/blog/cfd-python-12-steps-to-navier-stokes/)"
   ]
  },
  {
   "cell_type": "code",
   "execution_count": null,
   "metadata": {},
   "outputs": [],
   "source": []
  }
 ],
 "metadata": {
  "kernelspec": {
   "display_name": "Python 3",
   "language": "python",
   "name": "python3"
  },
  "language_info": {
   "codemirror_mode": {
    "name": "ipython",
    "version": 3
   },
   "file_extension": ".py",
   "mimetype": "text/x-python",
   "name": "python",
   "nbconvert_exporter": "python",
   "pygments_lexer": "ipython3",
   "version": "3.6.9"
  }
 },
 "nbformat": 4,
 "nbformat_minor": 2
}
