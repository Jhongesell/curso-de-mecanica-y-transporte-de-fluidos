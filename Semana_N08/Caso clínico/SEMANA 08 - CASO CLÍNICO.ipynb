{
 "cells": [
  {
   "cell_type": "markdown",
   "metadata": {},
   "source": [
    "\n",
    "\n",
    "\n",
    "# PROBLEMA APLICADO A LA ARTERIA AORTA:\n",
    "\n",
    "Situación, tenemos a una persona que llega a un centro de atención de salud.\n",
    "\n",
    "<img src=\"imagenes/imagen02.png\">\n",
    "\n",
    "*Figura 01: Paciente en observación*\n",
    "\n",
    "Se ha de considerar las siguientes:\n",
    "+ Posición 01: Inclinación con ángulo de elevación 37º.\n",
    "+ Posición 02: Inclinación con ángulo de elevación aproximado a 0º.\n",
    "\n",
    "Considere la siguiente imagen referencial para una vista frontal, es un caso ideal el que estamos proponiendo ya que solamente consideramos en el recorrido del fluido una entrada y una salida, serán dos casos que se estudien y a su vez estos se desglosan en dos posiciones, nos interesa calcular y comparar la diferencia de presiones para cada caso según su posición:\n",
    "\n",
    "<img src=\"imagenes/bitmap.png\">\n",
    "\n",
    "*Figura 02: Zona de estudio para el problema.*\n",
    "\n",
    "Puede tomar valores de las siguientes gráficas, en realidad nos interesa en este problema el esquema numérico, en cuanto a usted siempre búsque trabajar en las mismas unidades y según las condiciones agregar las magnitudes a cada una de las variables de interés.\n",
    "\n",
    "---\n",
    "__Recursos adicionales:__\n",
    "\n",
    "*Viscosidad Dinámica o Absoluta:*\n",
    "<img src=\"imagenes/viscosidad.jpeg\">\n",
    "\n",
    "*Figura 03: Curva referencial de la viscosidad dinámica tomada de Internet*\n",
    "\n",
    "*Viscosidad Cinemática:*\n",
    "\n",
    "Viscosidad cinemática (ν) de soluciones del aditivo sanguíneo (HP3Hb) en solución AE y en plasma sanguíneo fresco en función del contenido de hemoglobina a 37 ° C, cmHb = concentración de hemoglobina; νBL = viscosidad cinemática de la sangre.\n",
    "\n",
    "( [Cinematic viscosity (ν) of solutions of the blood additive (HP3Hb) in AE solution and in fresh blood plasma as a function of haemoglobin content at 37 °C, cmHb = Haemoglobin concentration; νBL = cinematic viscosity of blood.](https://www.researchgate.net/figure/Cinematic-viscosity-n-of-solutions-of-the-blood-additive-HP3Hb-in-AE-solution-and-in_fig4_8086815) )\n",
    "\n",
    "<img src=\"imagenes/viscosidad_cinematica.png\">\n",
    "\n",
    "*Figura 04: Curva referencial de la viscosidad cinemática tomada de Internet*\n",
    "\n",
    "---\n",
    "\n",
    "## Caso 01\n",
    "\n",
    "### Teoría: Flujo uniforme en tubería\n",
    "\n",
    "Este movimiento uniforme es el más común que se desarrolla frecuentemente.\n",
    "\n",
    "\n",
    "<img src=\"imagenes/Fig01.png\">\n",
    "\n",
    "<img src=\"imagenes/Fig02.png\">\n",
    "\n",
    "Son constantes para este caso el área, el caudal y la velocidad para un fluido uniforme en una tubería, la línea de energía es paralela a la línea piezométrica. La línea piezométrica es también conocida como línea de gradiente hidráulica y se le conoce como $S_w$.\n",
    "\n",
    "En una tubería se le conoce a la línea de energía como $S_e$ , esta es a su vez la relación entre la diferencia de dos puntos de energía sobre su distancia.\n",
    "\n",
    "<img src=\"imagenes/Fig03.png\">\n",
    "\n",
    "<img src=\"imagenes/Fig04.png\">\n",
    "\n",
    "En el movimiento uniforme, por ser la velocidad constante, se considera como diferencia de energía la correspondiente a la diferencia entre las cotas piezométricas. La línea de energía y la línea piezométrica son paralelas.\n",
    "\n",
    "<img src=\"imagenes/Fig05.png\">\n",
    "\n",
    "El fluido en movimiento ejerce fricción sobre el contorno. Para la obtención de las ecuaciones de distribución de velocidades se buscará, en primer lugar, establecer una relación entre el esfuerzo de corte y la inclinación de la línea de energía. Luego, una relación entre la\n",
    "velocidad y el esfuerzo de corte, para obtener finalmente, eliminando el corte, una función que relacione la velocidad con la inclinación de la línea de energía. En este desarrollo se sigue el método presentado por el Profesor Thijsse, en Delft (Holanda).\n",
    "\n",
    "\n",
    "\n",
    "Fragmento extraído de: Hidráulica de tuberías y canales y Arturo Rocha.\n",
    "\n",
    "---\n",
    "PROBLEMA: \n",
    "\n",
    "Consideraciones para el problema: La persona se encuentra en un ambiente a condiciones normales , su aorta abdominal es sana, sin ninguna presentación de aneurisma, estamos considerando a la sangre para un instante como flujo no pulsatil, fluido no-newtoneano, con paredes de la arteria rígida y sin expansión.\n",
    "\n",
    "<img src=\"imagenes/Diagrama_01.png\">\n",
    "\n",
    "*Figura 05: Paciente en las dos posiciones del caso 01 para el problema. Imagen utoría propia*\n",
    "\n",
    "El corazón bombea a la sangre a razón de $0.075 l/s$ , en la arteria aorta abdominal se sabe que el diámetro en la naciente de esta es de $2.5 cm$ de diámetro. La densidad relativa de la sangre es de $1.06$ y la viscosidad es $4.0 * 10**-3 Pa.s$. ¿Cuantifique la diferencia de presiones del punto __A__ al punto __B__ como se muestra la gráfica anterior?, ¿Cuál es la velocidad máxima que se presentará en esta arteria abdominal?"
   ]
  },
  {
   "cell_type": "code",
   "execution_count": 1,
   "metadata": {},
   "outputs": [],
   "source": [
    "# Usaremos numpy para el valor de pi.\n",
    "import numpy as np"
   ]
  },
  {
   "cell_type": "markdown",
   "metadata": {},
   "source": [
    "**01. Datos:**\n",
    "\n",
    "01.01. Declaración de variables:"
   ]
  },
  {
   "cell_type": "code",
   "execution_count": 2,
   "metadata": {},
   "outputs": [],
   "source": [
    "pho_relelativo = 1.06 # La densidad relativa es un número adimencional\n",
    "visco_dinam_Ns_m2 = 4.0 * 10**-3 # De la figura 3, viscosidad dinámica o absoluta | Convertir unidad\n",
    "visco_cinem_centi_stokes = 3.5 # De la figura 4\n",
    "Q_ls = 0.075 # Convertir unidad a S.I. en {m3/s}\n",
    "# Q_ls = 0.75\n",
    "D_cm = 2.5 # Convertir unidad a S.I. en {m}"
   ]
  },
  {
   "cell_type": "code",
   "execution_count": 3,
   "metadata": {},
   "outputs": [],
   "source": [
    "# También sabemos:\n",
    "L_m = 0.05  # Longitud de la aorta {m}\n",
    "# L_m = 500\n",
    "g = 9.81 # Gravedad {m/s2}\n",
    "peso_especifico_n_m3 = 1.06  # Sangre humana (37°C)\t1,06\t1,06 {N/m3}"
   ]
  },
  {
   "cell_type": "markdown",
   "metadata": {},
   "source": [
    "[Se llama peso específico a la relación entre el peso de una sustancia y su volumen.](https://es.wikipedia.org/wiki/Peso_espec%C3%ADfico)"
   ]
  },
  {
   "cell_type": "code",
   "execution_count": 4,
   "metadata": {},
   "outputs": [],
   "source": [
    "elevacion = 0.03 # Longitud del cateto opuesto al vertice de elevacion\n",
    "\n",
    "# elevacion = 3"
   ]
  },
  {
   "cell_type": "markdown",
   "metadata": {},
   "source": [
    "Conversión de unidades para la viscosidad.\n",
    "\n",
    "* Viscosidad cinemática {m2s}"
   ]
  },
  {
   "cell_type": "code",
   "execution_count": 5,
   "metadata": {},
   "outputs": [],
   "source": [
    "# visco_cinem_stokes = visco_cinem_m2s * (1/0.0001)\n",
    "# visco_cinem_centi_stokes = visco_cinem_stokes * 100\n",
    "visco_cinem_stokes = visco_cinem_centi_stokes / 100 # OK\n",
    "visco_cinem_m2s = visco_cinem_stokes * 0.0001 # Esto para número de Reynolds"
   ]
  },
  {
   "cell_type": "markdown",
   "metadata": {},
   "source": [
    "* Viscosidad dinámica o absoluta {kgf.s/m2}:"
   ]
  },
  {
   "cell_type": "code",
   "execution_count": 6,
   "metadata": {},
   "outputs": [],
   "source": [
    "visco_dinam_kgs_m2 = visco_dinam_Ns_m2 / 9.81 # Ok --> Esto para S\n",
    "visco_dinam_kg_sm = visco_dinam_Ns_m2 # Ok\n",
    "visco_dinam_poise = visco_dinam_kgs_m2 * (1/0.01019) # Ok\n",
    "visco_dinam_centi_poise = visco_dinam_poise * 100 # Ok"
   ]
  },
  {
   "cell_type": "markdown",
   "metadata": {},
   "source": [
    "Densidad:"
   ]
  },
  {
   "cell_type": "code",
   "execution_count": 25,
   "metadata": {
    "scrolled": true
   },
   "outputs": [
    {
     "name": "stdout",
     "output_type": "stream",
     "text": [
      "La densidad de la sangre calculada es: 1.06\n"
     ]
    }
   ],
   "source": [
    "Densidad = 1.06\n",
    "# Densidad = visco_cinem_centi_stokes / visco_dinam_centi_poise\n",
    "print(\"La densidad de la sangre calculada es: \"+str(Densidad))\n",
    "# print(\"La densidad de la sangre según tablas es: 1.06\")"
   ]
  },
  {
   "cell_type": "markdown",
   "metadata": {},
   "source": [
    "Caudal"
   ]
  },
  {
   "cell_type": "code",
   "execution_count": 8,
   "metadata": {},
   "outputs": [],
   "source": [
    "Q_m3s = Q_ls/1000 # ok {m3/s}"
   ]
  },
  {
   "cell_type": "markdown",
   "metadata": {},
   "source": [
    "Diámetro"
   ]
  },
  {
   "cell_type": "code",
   "execution_count": 9,
   "metadata": {},
   "outputs": [],
   "source": [
    "D_m = D_cm/100 # ok {m}"
   ]
  },
  {
   "cell_type": "code",
   "execution_count": 10,
   "metadata": {},
   "outputs": [],
   "source": [
    "# Radio de la circunferencia\n",
    "R_m = D_m/2\n",
    "# Radio hidraúlico para una sección circulr completamente llena\n",
    "Rh_m = D_m/4\n",
    "R = Rh_m\n",
    "# Àrea de la entrada del flujo\n",
    "A_sec_m2 = np.pi * (D_m**2) / 4"
   ]
  },
  {
   "cell_type": "markdown",
   "metadata": {},
   "source": [
    "ALGORITMO A SEGUIR PAR LA SOLUCIÓN:\n",
    "\n",
    "Supongamos que el flujo es laminar, entonces\n",
    "\n",
    "<img src=\"imagenes/Formula01.png\">\n",
    "\n",
    "Para aplicar esta ecuación tenemos los siguientes datos\n",
    "\n",
    "<img src=\"imagenes/Formula02.png\">\n",
    "\n",
    "Ha este punto hemos calculado la velocidad promedio del fluido.\n",
    "\n",
    "También contamos con la viscosidad cinemática en {m2/s}\n",
    "\n",
    "Luego,\n",
    "\n",
    "<img src=\"imagenes/Formula03.png\">\n",
    "\n",
    "con lo que se confirma o no si el flujo es laminar. Se despeja ahora la pendiente S.\n",
    "\n",
    "<img src=\"imagenes/Formula04.png\">\n",
    "\n",
    "o bien,\n",
    "\n",
    "hf/L = S\n",
    "\n",
    "De donde despejamos y tenemos el valor de hf.\n",
    "\n",
    "Diferencia de cotas piezometricas es $hf = S*L$. Como la diferencia de elevaciones es $elevacion$ m se concluye que la diferencia de presiones debe equivaler a $hf - elevacion$ m, luego,\n",
    "\n",
    "$ delta-p = pho-relativa * (hf - elevacion) * 10**-4 $\n",
    "\n",
    "$ delta-p $ --> Unidades: {kg/cm2} \n"
   ]
  },
  {
   "cell_type": "markdown",
   "metadata": {},
   "source": [
    "### Del enunciado para la posición 01 del caso 01:\n",
    "Considerando elevación: 0.03 m"
   ]
  },
  {
   "cell_type": "markdown",
   "metadata": {},
   "source": [
    "**02. Operación:**"
   ]
  },
  {
   "cell_type": "code",
   "execution_count": 11,
   "metadata": {},
   "outputs": [
    {
     "name": "stdout",
     "output_type": "stream",
     "text": [
      "Calculamos la velocidad para la sangre en esa sección unifome\n",
      "su valor es de: 0.15278874536821951m/s \n",
      "\n",
      "\n",
      "\n",
      "Número de Reynolds:\n",
      "Re = 1091.348181201568 y decimos entonces que es un flujo laminar.\n",
      "S: 29.519938727746556, S=S_c1p1: Es la pendiente hidráulica\n",
      "hf: 1.475996936387328 m \n",
      "\n",
      "**************************************\n",
      "hf1_c1p1: 1.475996936387328\n",
      "elevacion: 0.03\n",
      "hf2_c1p1 = hf1_c1p1-elevacion = 1.445996936387328\n",
      "**************************************\n",
      "La diferencia de cotas piezométricas es, pues, de 1.475996936387328 m. Como la diferencia de elevaciones es de 0.03 m se concluye que la diferencia de presiones debe equivaler a 1.445996936387328m. Luego,\n",
      "delta_p = 0.00015327567525705678 kg/cm**2 \n",
      "\n",
      "Velocidad máxima = (g*S*D**2)/(visco_cinematica*16)\n",
      "Velocidad máxima = 0.32320379343660016 m/s\n"
     ]
    }
   ],
   "source": [
    "# Calculos:\n",
    "# Velocidad promedio\n",
    "Velocidad_prom_m_s = Q_m3s / A_sec_m2\n",
    "print(\"Calculamos la velocidad para la sangre en esa sección unifome\")\n",
    "print(\"su valor es de: \"+str(Velocidad_prom_m_s)+ \"m/s \\n\")\n",
    "# Número de Reynolds\n",
    "V_m_s = Velocidad_prom_m_s\n",
    "Re = V_m_s * D_m / visco_cinem_m2s\n",
    "print(\"\\n\")\n",
    "print(\"Número de Reynolds:\")\n",
    "if Re < 2300:\n",
    "    print(\"Re = \" + str(Re) + \" y decimos entonces que es un flujo laminar.\")\n",
    "else:\n",
    "    print(\"No es un flujo laminar, la hipótesis no se cumple.\")\n",
    "# Calculo de la pendiente hidráulica\n",
    "# S1 = (2*visco_dinam_kgs_m2*V_m_s)/(peso_especifico_n_m3*(R_m**2))\n",
    "# S1 = (2*visco_dinam_Ns_m2*V_m_s)/(peso_especifico_n_m3*(R**2))\n",
    "S_c1p1 = (2*visco_dinam_Ns_m2*V_m_s)/(peso_especifico_n_m3*(R**2))\n",
    "print(\"S: \" + str(S_c1p1) + \", S=S_c1p1: Es la pendiente hidráulica\")\n",
    "# Calculo de hf\n",
    "hf1_c1p1 = S_c1p1 * L_m\n",
    "print(\"hf: \"+str(hf1_c1p1) + \" m \\n\")\n",
    "hf2_c1p1 = hf1_c1p1-elevacion\n",
    "print(\"**************************************\")\n",
    "print(\"hf1_c1p1: \"+str(hf1_c1p1))\n",
    "print(\"elevacion: \"+str(elevacion))\n",
    "print(\"hf2_c1p1 = hf1_c1p1-elevacion = \"+str(hf2_c1p1))\n",
    "print(\"**************************************\")\n",
    "print(\"La diferencia de cotas piezométricas es, pues, de \"+str(hf1_c1p1)+\" m. Como la diferencia de elevaciones es de \"+str(elevacion)+\" m se concluye que la diferencia de presiones debe equivaler a \"+str(hf1_c1p1-elevacion)+\"m. Luego,\")\n",
    "delta_p_c1p1 = pho_relelativo * hf2_c1p1 * 10**-4\n",
    "\n",
    "delta_p_c1p1_prima = pho_relelativo * hf2_c1p1 * 10**5\n",
    "print(\"delta_p = \"+str(delta_p_c1p1)+\" kg/cm**2 \\n\")\n",
    "\n",
    "print(\"Velocidad máxima = (g*S*D**2)/(visco_cinematica*16)\")\n",
    "# Velocidad_maxima = (g*S1*D_m**2)/(visco_cinem_m2s*16)\n",
    "# Velocidad_maxima = (g*S1*D_m**2)/(visco_cinem_centi_stokes*16)\n",
    "Velocidad_maxima_c1p1 = (g*S_c1p1*D_m**2)/(visco_cinem_stokes*16)\n",
    "\n",
    "print(\"Velocidad máxima = \"+str(Velocidad_maxima_c1p1)+\" m/s\")"
   ]
  },
  {
   "cell_type": "markdown",
   "metadata": {},
   "source": [
    "### Enunciado para la posición 02 del caso 01:\n",
    "\n",
    "Elevación: 0 m"
   ]
  },
  {
   "cell_type": "markdown",
   "metadata": {},
   "source": [
    "Supongamos que el flujo es laminar"
   ]
  },
  {
   "cell_type": "code",
   "execution_count": 12,
   "metadata": {},
   "outputs": [],
   "source": [
    "elevacion = 0.00 # Longitud del cateto opuesto al vertice de elevacion"
   ]
  },
  {
   "cell_type": "code",
   "execution_count": 13,
   "metadata": {},
   "outputs": [
    {
     "name": "stdout",
     "output_type": "stream",
     "text": [
      "Calculamos la velocidad para la sangre en esa sección unifome\n",
      "su valor es de: 0.15278874536821951m/s \n",
      "\n",
      "\n",
      "\n",
      "Número de Reynolds:\n",
      "Re = 1091.348181201568 y decimos entonces que es un flujo laminar.\n",
      "S: 29.519938727746556, S=S_c1p1: Es la pendiente hidráulica\n",
      "hf: 1.475996936387328 m\n",
      "**************************************\n",
      "hf1_c1p2: 1.475996936387328\n",
      "elevacion: 0.0\n",
      "hf2_c1p2 = hf1_c1p2-elevacion = 1.475996936387328\n",
      "**************************************\n",
      "La diferencia de cotas piezométricas es, pues, de 1.475996936387328 m. Como la diferencia de elevaciones es de 0.0 m se concluye que la diferencia de presiones debe equivaler a 1.475996936387328m. Luego,\n",
      "delta_p = 0.00015645567525705676 kg/cm**2 \n",
      "\n",
      "Velocidad máxima = (g*S*D**2)/(visco_cinematica*16)\n",
      "Velocidad máxima = 0.32320379343660016 m/s\n"
     ]
    }
   ],
   "source": [
    "# Calculos:\n",
    "# Velocidad promedio\n",
    "Velocidad_prom_m_s = Q_m3s / A_sec_m2\n",
    "print(\"Calculamos la velocidad para la sangre en esa sección unifome\")\n",
    "print(\"su valor es de: \"+str(Velocidad_prom_m_s)+ \"m/s \\n\")\n",
    "# Número de Reynolds\n",
    "V_m_s = Velocidad_prom_m_s\n",
    "Re = V_m_s * D_m / visco_cinem_m2s\n",
    "print(\"\\n\")\n",
    "print(\"Número de Reynolds:\")\n",
    "if Re < 2300:\n",
    "    print(\"Re = \" + str(Re) + \" y decimos entonces que es un flujo laminar.\")\n",
    "else:\n",
    "    print(\"No es un flujo laminar, la hipótesis no se cumple.\")\n",
    "# Calculo de la pendiente hidráulica\n",
    "# S1 = (2*visco_dinam_kgs_m2*V_m_s)/(peso_especifico_n_m3*(R_m**2))\n",
    "# S1 = (2*visco_dinam_Ns_m2*V_m_s)/(peso_especifico_n_m3*(R**2))\n",
    "S_c1p2 = (2*visco_dinam_Ns_m2*V_m_s)/(peso_especifico_n_m3*(R**2))\n",
    "print(\"S: \" + str(S_c1p1) + \", S=S_c1p1: Es la pendiente hidráulica\")\n",
    "# Calculo de hf\n",
    "hf1_c1p2 = S_c1p2 * L_m\n",
    "print(\"hf1_c1p1: \"+str(hf1_c1p1) + \" m\")\n",
    "hf2_c1p2 = hf1_c1p2-elevacion\n",
    "print(\"**************************************\")\n",
    "print(\"hf1_c1p2: \"+str(hf1_c1p2))\n",
    "print(\"elevacion: \"+str(elevacion))\n",
    "print(\"hf2_c1p2 = hf1_c1p2-elevacion = \"+str(hf2_c1p2))\n",
    "print(\"**************************************\")\n",
    "print(\"La diferencia de cotas piezométricas es, pues, de \"+str(hf1_c1p1)+\" m. Como la diferencia de elevaciones es de \"+str(elevacion)+\" m se concluye que la diferencia de presiones debe equivaler a \"+str(hf1_c1p2-elevacion)+\"m. Luego,\")\n",
    "delta_p_c1p2 = pho_relelativo * hf2_c1p2 * 10**-4\n",
    "delta_p_c1p2_prima = pho_relelativo * hf2_c1p2 * 10**5\n",
    "print(\"delta_p = \"+str(delta_p_c1p2)+\" kg/cm**2 \\n\")\n",
    "\n",
    "print(\"Velocidad máxima = (g*S*D**2)/(visco_cinematica*16)\")\n",
    "# Velocidad_maxima = (g*S1*D_m**2)/(visco_cinem_m2s*16)\n",
    "# Velocidad_maxima = (g*S1*D_m**2)/(visco_cinem_centi_stokes*16)\n",
    "Velocidad_maxima_c1p2 = (g*S_c1p1*D_m**2)/(visco_cinem_stokes*16)\n",
    "\n",
    "print(\"Velocidad máxima = \"+str(Velocidad_maxima_c1p2)+\" m/s\")"
   ]
  },
  {
   "cell_type": "code",
   "execution_count": 16,
   "metadata": {},
   "outputs": [
    {
     "name": "stdout",
     "output_type": "stream",
     "text": [
      "COMPARACIÓN DE DIFERENCIA DE PRESIONES:\n",
      "Valor del delta de presiones para C1P1: 0.00015327567525705678\n",
      "Valor del delta de presiones para C1P2: 0.00015645567525705676\n",
      "Se verifica que cuando la persona se encuentra echada la diferencia de presiones es menor.\n",
      "Se verifica que cuando la persona se encuentra echada la diferencia de presiones es menor.\n",
      "\n",
      "\n",
      "COMPARACIÓN DE VELOCIDADES MÁXIMAS:\n",
      "Vel. max. para c1p1: 0.32320379343660016 m/s\n",
      "Vel. max. para c1p2: 0.32320379343660016 m/s\n"
     ]
    }
   ],
   "source": [
    "# Resultados\n",
    "\n",
    "print(\"COMPARACIÓN DE DIFERENCIA DE PRESIONES:\")\n",
    "print(\"Valor del delta de presiones para C1P1: \"+str(delta_p_c1p1))\n",
    "print(\"Valor del delta de presiones para C1P2: \"+str(delta_p_c1p2))\n",
    "if (delta_p_c1p1-delta_p_c1p2<0):\n",
    "    print(\"Se verifica que cuando la persona se encuentra echada la diferencia de presiones es menor.\")\n",
    "else:\n",
    "    print(\"Probablemente las magnitudes son tan pequeñas que el ordenador no ha llegado a encontrar diferencia entre ambas magnitudes por ello no imprime esta demostración.\")\n",
    "    \n",
    "if (delta_p_c1p1_prima-delta_p_c1p2_prima<0):\n",
    "    print(\"Se verifica que cuando la persona se encuentra echada la diferencia de presiones es menor.\")\n",
    "else:\n",
    "    print(\"Probablemente las magnitudes son tan pequeñas que el ordenador no ha llegado a encontrar diferencia entre ambas magnitudes por ello no imprime esta demostración.\")\n",
    "    \n",
    "\n",
    "print(\"\\n\")\n",
    "print(\"COMPARACIÓN DE VELOCIDADES MÁXIMAS:\")\n",
    "print(\"Vel. max. para c1p1: \" + str(Velocidad_maxima_c1p1) + \" m/s\")\n",
    "print(\"Vel. max. para c1p2: \" + str(Velocidad_maxima_c1p2) + \" m/s\")\n",
    "    "
   ]
  },
  {
   "cell_type": "markdown",
   "metadata": {},
   "source": [
    "---\n",
    "## Caso 02\n",
    "\n",
    "Consideraciones para el problema: La persona se encuentra en un ambiente a condiciones normales , su aorta abdominal no es sana, presenta un aneurisma con expansión máxima en el punto __B__, estamos considerando a la sangre para un instante como flujo no pulsatil, fluido no-newtoneano, con paredes de la arteria rígida y sin expansión.\n",
    "\n",
    "<img src=\"imagenes/Diagrama_02.png\">\n",
    "\n",
    "*Figura 06: Paciente en las dos posiciones del caso 02 para el problema. Imagen utoría propia*\n",
    "\n",
    "### Enunciado para la posición 01 del caso 02:\n",
    "\n",
    "* Cuantifique la diferencia de presiones del punto __A__ al punto __B__ , piden hf2\n",
    "* ¿Cuál es la velocidad máxima que se presentará en esta arteria abdominal?"
   ]
  },
  {
   "cell_type": "code",
   "execution_count": 21,
   "metadata": {},
   "outputs": [],
   "source": [
    "elevacion_c2p1 = 0.03 # Longitud del cateto opuesto al vertice de elevacion\n",
    "# elevacion_c2p1 = 3"
   ]
  },
  {
   "cell_type": "code",
   "execution_count": 19,
   "metadata": {},
   "outputs": [
    {
     "name": "stdout",
     "output_type": "stream",
     "text": [
      "Diametro en A = 0.025\n",
      "Diametro en B = 0.025\n",
      "La velocidad en A es: 0.15278874536821951 m/s\n",
      "La velocidad en B es: 0.06790610905254199 m/s\n"
     ]
    }
   ],
   "source": [
    "# Punto A\n",
    "Q1 = Q_m3s\n",
    "r1 = (D_m/2)\n",
    "A1 = np.pi*(r1**2)\n",
    "print(\"Diametro en A = \" +str(D_m))\n",
    "V1 = Q1/A1\n",
    "\n",
    "# Punto B\n",
    "r2 = (D_m/2)*1.5\n",
    "A2 = np.pi * r2**2\n",
    "print(\"Diametro en B = \" +str(D_m))\n",
    "\n",
    "# Por continuidad se sabe:\n",
    "# Q1 = Q2\n",
    "\n",
    "# V1*A1 = V2*A2\n",
    "# Deseamos calclular V2\n",
    "V2 = Q1/A2\n",
    "print(\"La velocidad en A es: \" + str(V1) + \" m/s\")\n",
    "print(\"La velocidad en B es: \" + str(V2) + \" m/s\")\n"
   ]
  },
  {
   "cell_type": "markdown",
   "metadata": {},
   "source": [
    "Ahora aplicamos la fórmula de Bernoulli:\n",
    "<img src=\"imagenes/bernoulli.png\">"
   ]
  },
  {
   "cell_type": "code",
   "execution_count": 30,
   "metadata": {},
   "outputs": [
    {
     "ename": "ZeroDivisionError",
     "evalue": "float division by zero",
     "output_type": "error",
     "traceback": [
      "\u001b[0;31m---------------------------------------------------------------------------\u001b[0m",
      "\u001b[0;31mZeroDivisionError\u001b[0m                         Traceback (most recent call last)",
      "\u001b[0;32m<ipython-input-30-6850b6995ce2>\u001b[0m in \u001b[0;36m<module>\u001b[0;34m\u001b[0m\n\u001b[1;32m      3\u001b[0m \u001b[0mh2\u001b[0m \u001b[0;34m=\u001b[0m \u001b[0;36m0\u001b[0m\u001b[0;34m\u001b[0m\u001b[0;34m\u001b[0m\u001b[0m\n\u001b[1;32m      4\u001b[0m \u001b[0;31m# P2 = (P1 + (0.5*Densidad*(visco_cinem_m2s**2) + (Densidad*g*h1)))/(0.5*Densidad*(visco_cinem_m2s**2) + (Densidad*g*h2))\u001b[0m\u001b[0;34m\u001b[0m\u001b[0;34m\u001b[0m\u001b[0;34m\u001b[0m\u001b[0m\n\u001b[0;32m----> 5\u001b[0;31m \u001b[0mP2\u001b[0m \u001b[0;34m=\u001b[0m \u001b[0;34m(\u001b[0m\u001b[0;34m(\u001b[0m\u001b[0mP1\u001b[0m\u001b[0;34m)\u001b[0m \u001b[0;34m+\u001b[0m \u001b[0;34m(\u001b[0m\u001b[0mDensidad\u001b[0m\u001b[0;34m*\u001b[0m\u001b[0mg\u001b[0m\u001b[0;34m*\u001b[0m\u001b[0mh1\u001b[0m\u001b[0;34m)\u001b[0m\u001b[0;34m)\u001b[0m\u001b[0;34m/\u001b[0m\u001b[0;34m(\u001b[0m\u001b[0mDensidad\u001b[0m\u001b[0;34m*\u001b[0m\u001b[0mg\u001b[0m\u001b[0;34m*\u001b[0m\u001b[0mh2\u001b[0m\u001b[0;34m)\u001b[0m\u001b[0;34m\u001b[0m\u001b[0;34m\u001b[0m\u001b[0m\n\u001b[0m\u001b[1;32m      6\u001b[0m \u001b[0mprint\u001b[0m\u001b[0;34m(\u001b[0m\u001b[0;34m\"P1 = \"\u001b[0m\u001b[0;34m+\u001b[0m\u001b[0mstr\u001b[0m\u001b[0;34m(\u001b[0m\u001b[0mP1\u001b[0m\u001b[0;34m)\u001b[0m\u001b[0;34m)\u001b[0m\u001b[0;34m\u001b[0m\u001b[0;34m\u001b[0m\u001b[0m\n\u001b[1;32m      7\u001b[0m \u001b[0mprint\u001b[0m\u001b[0;34m(\u001b[0m\u001b[0;34m\"P2 = \"\u001b[0m\u001b[0;34m+\u001b[0m\u001b[0mstr\u001b[0m\u001b[0;34m(\u001b[0m\u001b[0mP2\u001b[0m\u001b[0;34m)\u001b[0m\u001b[0;34m)\u001b[0m\u001b[0;34m\u001b[0m\u001b[0;34m\u001b[0m\u001b[0m\n",
      "\u001b[0;31mZeroDivisionError\u001b[0m: float division by zero"
     ]
    }
   ],
   "source": [
    "P1 = hf1_c1p1\n",
    "h1 = elevacion_c2p1\n",
    "h2 = 0\n",
    "# P2 = (P1 + (0.5*Densidad*(visco_cinem_m2s**2) + (Densidad*g*h1)))/(0.5*Densidad*(visco_cinem_m2s**2) + (Densidad*g*h2))\n",
    "P2 = ((P1) + (Densidad*g*h1))/(Densidad*g*h2)\n",
    "print(\"P1 = \"+str(P1))\n",
    "print(\"P2 = \"+str(P2))"
   ]
  },
  {
   "cell_type": "markdown",
   "metadata": {},
   "source": [
    "### Enunciado para la posición 02 del caso 02:\n",
    "El corazón bombea a la sangre a razón de $0.1 l/s$ , en la arteria aorta abdominal se sabe que el diámetro en la naciente de esta es de $0.025 m$ de diámetro. La densidad relativa de la sangre es de $1.06$ y la viscosidad es de $0.01 N-s/m²$. ¿Cuantifique la diferencia de presiones del punto __A__ al punto __B__ como se muestra la gráfica anterior?, ¿Cuál es la velocidad máxima que se presentará en esta arteria abdominal?"
   ]
  },
  {
   "cell_type": "code",
   "execution_count": null,
   "metadata": {},
   "outputs": [],
   "source": [
    "# Por continuidad se sabe:\n",
    "# Q1 = Q2\n",
    "V1=Velocidad_prom_m_s\n",
    "A1=np.pi*(D_m/2)**2\n",
    "# V1*A1 = V2*A2\n",
    "print(\"Velocidad en la entrada: \"+str(V1)+\" m/s\")\n",
    "print(\"Área en la entrada: \"+str(A1)+ \" m**2\")"
   ]
  },
  {
   "cell_type": "code",
   "execution_count": null,
   "metadata": {},
   "outputs": [],
   "source": []
  },
  {
   "cell_type": "markdown",
   "metadata": {},
   "source": [
    "Bibliografía:\n",
    "Fuente: El ejercicio es una adaptación del libro *Hidráulica de tuberías y canales* de Arturo Rocha, página 58, ejemplo 2.3."
   ]
  }
 ],
 "metadata": {
  "kernelspec": {
   "display_name": "Python 3",
   "language": "python",
   "name": "python3"
  },
  "language_info": {
   "codemirror_mode": {
    "name": "ipython",
    "version": 3
   },
   "file_extension": ".py",
   "mimetype": "text/x-python",
   "name": "python",
   "nbconvert_exporter": "python",
   "pygments_lexer": "ipython3",
   "version": "3.6.9"
  }
 },
 "nbformat": 4,
 "nbformat_minor": 2
}
