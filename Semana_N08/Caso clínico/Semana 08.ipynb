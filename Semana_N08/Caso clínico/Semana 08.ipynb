{
 "cells": [
  {
   "cell_type": "markdown",
   "metadata": {},
   "source": [
    "El corazón bombea a la sangre a razón de 1.5*10**-3 m³/s , en la arteria aorta abdominal se sabe que el diámetro en la naciente de esta es de 0.025 m de diámetro. La densidad relativa de la sangre es de 1.14 y la viscosidad es de 0.01kg-s/m². ¿Si pudiesemos cuantificar la presión en un recorrido desde el ombligo a al externon como se muestra en el siguiente gráfico comprendido entre los puntos A y B mostrado en la figura?, ¿Cuál es la velocidad máxima que se presentará en esta arteria abdominal?\n",
    "Consideraciones para el problema: La persona se encuentra en un ambiente a condiciones normales , su aorta abdominal es sana de una persona joven, sin ninguna presentación de aneurisma, estamos considerando a la sangre para un instante como flujo no pulsatil, fluido no-newtoneano, con paredes de la arteria rígida sin expansión."
   ]
  },
  {
   "cell_type": "code",
   "execution_count": 3,
   "metadata": {},
   "outputs": [
    {
     "name": "stdout",
     "output_type": "stream",
     "text": [
      "El caudal es de 0.0003926990816987242 m3/s\n",
      "El caudal es de 0.3926990816987242 l/s\n"
     ]
    }
   ],
   "source": [
    "import numpy as np\n",
    "V = 0.8\n",
    "D = 0.025\n",
    "Q = V * np.pi * D * D / 4\n",
    "print(\"El caudal es de \" + str(Q) + \" m3/s\")\n",
    "Q1 = Q*1000\n",
    "print(\"El caudal es de \" + str(Q1) + \" l/s\")"
   ]
  },
  {
   "cell_type": "code",
   "execution_count": 6,
   "metadata": {},
   "outputs": [
    {
     "name": "stdout",
     "output_type": "stream",
     "text": [
      "0.0007185058593750001\n"
     ]
    }
   ],
   "source": [
    "g = 9.81\n",
    "m = 3/4\n",
    "R = D/2\n",
    "mu = (g*m*R**2) / (2*V)\n",
    "print(mu)"
   ]
  },
  {
   "cell_type": "code",
   "execution_count": 7,
   "metadata": {},
   "outputs": [
    {
     "name": "stdout",
     "output_type": "stream",
     "text": [
      "El número de Reynold es 27.835541963982333\n"
     ]
    }
   ],
   "source": [
    "Re = V * D / mu\n",
    "print(\"El número de Reynold es \" + str(Re))"
   ]
  },
  {
   "cell_type": "code",
   "execution_count": 9,
   "metadata": {},
   "outputs": [
    {
     "name": "stdout",
     "output_type": "stream",
     "text": [
      "0.7164070107108083\n"
     ]
    }
   ],
   "source": [
    "peso_espec = 10.27\n",
    "S = (2*mu*V)/(peso_espec * R**2)\n",
    "print(S)"
   ]
  },
  {
   "cell_type": "code",
   "execution_count": 10,
   "metadata": {},
   "outputs": [
    {
     "data": {
      "text/plain": [
       "0.75"
      ]
     },
     "execution_count": 10,
     "metadata": {},
     "output_type": "execute_result"
    }
   ],
   "source": [
    "3/4"
   ]
  },
  {
   "cell_type": "code",
   "execution_count": 11,
   "metadata": {},
   "outputs": [
    {
     "data": {
      "text/plain": [
       "13300"
      ]
     },
     "execution_count": 11,
     "metadata": {},
     "output_type": "execute_result"
    }
   ],
   "source": []
  },
  {
   "cell_type": "code",
   "execution_count": null,
   "metadata": {},
   "outputs": [],
   "source": []
  },
  {
   "cell_type": "code",
   "execution_count": null,
   "metadata": {},
   "outputs": [],
   "source": []
  },
  {
   "cell_type": "code",
   "execution_count": null,
   "metadata": {},
   "outputs": [],
   "source": []
  }
 ],
 "metadata": {
  "kernelspec": {
   "display_name": "Python 3",
   "language": "python",
   "name": "python3"
  },
  "language_info": {
   "codemirror_mode": {
    "name": "ipython",
    "version": 3
   },
   "file_extension": ".py",
   "mimetype": "text/x-python",
   "name": "python",
   "nbconvert_exporter": "python",
   "pygments_lexer": "ipython3",
   "version": "3.6.9"
  }
 },
 "nbformat": 4,
 "nbformat_minor": 2
}
