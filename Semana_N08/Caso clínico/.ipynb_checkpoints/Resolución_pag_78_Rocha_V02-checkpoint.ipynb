{
 "cells": [
  {
   "cell_type": "markdown",
   "metadata": {},
   "source": [
    "# SEMANA 08: Problema caso clínico \n",
    "\n",
    "## Enunciado:\n",
    "El corazón bombea a la sangre a razón de 1.5*10**-3 m³/s , en la arteria aorta abdominal se sabe que el diámetro en la naciente de esta es de 0.025 m de diámetro. La densidad relativa de la sangre es de 1.14 y la viscosidad es de 0.01kg-s/m². ¿Si pudiesemos cuantificar la presión en un recorrido desde el ombligo a al externon como se muestra en el siguiente gráfico comprendido entre los puntos A y B mostrado en la figura?, ¿Cuál es la velocidad máxima que se presentará en esta arteria abdominal?\n",
    "Consideraciones para el problema: La persona se encuentra en un ambiente a condiciones normales , su aorta abdominal es sana de una persona joven, sin ninguna presentación de aneurisma, estamos considerando a la sangre para un instante como flujo no pulsatil, fluido no-newtoneano, con paredes de la arteria rígida sin expansión.\n",
    "\n",
    "<img src=\"imagenes/bitmap.png\">\n",
    "\n",
    "Considere a la persona recostada en una camilla.\n",
    "\n",
    "<img src=\"imagenes/imagen02.png\">\n"
   ]
  },
  {
   "cell_type": "code",
   "execution_count": 1,
   "metadata": {},
   "outputs": [],
   "source": [
    "import numpy as np\n",
    "# 01. Datos:\n",
    "# 01.01. Declaración de variables:\n",
    "pho_relelativo = 0.92\n",
    "visco_cinem_m2s = 1.07 * (10**-4) # viscosidad cinemática | Unidad queda\n",
    "visco_dinam_kgs_m2 = 0.01 # viscosidad dinámica o absoluta | Convertir unidad\n",
    "Q_ls = 14 # Convertir unidad\n",
    "D_cm = 10 # Convertir unidad\n",
    "L_m = 300  # Unidad queda\n",
    "peso_especifico_n_m3 = 8.967  # Dato arficial by Jhon"
   ]
  },
  {
   "cell_type": "code",
   "execution_count": 2,
   "metadata": {},
   "outputs": [
    {
     "name": "stdout",
     "output_type": "stream",
     "text": [
      "15.600911705045363 0.01701628493822481\n",
      "hf1:, hf1'\n",
      "4680.273511513608 5.104885481467443\n"
     ]
    }
   ],
   "source": [
    "# 02. Operación:\n",
    "\n",
    "# 02.01. Cambio de unidades para:\n",
    "# 02.01.01. Viscosidad\n",
    "# 02.01.01.01. Viscosidad cinemática [m2s]\n",
    "visco_cinem_stokes = visco_cinem_m2s * (1/0.0001)\n",
    "visco_cinem_centi_stokes = visco_cinem_stokes * 100\n",
    "# 02.01.01.02. Viscosidad dinámica o absoluta [kgf.s/m2]\n",
    "visco_dinam_poise = visco_dinam_kgs_m2 * (1/0.01019)\n",
    "visco_dinam_centi_poise = visco_dinam_poise * 100\n",
    "visco_dinam_Ns_m2 = visco_dinam_kgs_m2 * 9.81\n",
    "visco_dinam_kg_sm = visco_dinam_Ns_m2\n",
    "# 02.01.02. Caudal\n",
    "Q_m3s = Q_ls/1000\n",
    "# 02.01.03. Diámetro\n",
    "D_m = D_cm/100\n",
    "\n",
    "# 02.02. Calculos:\n",
    "# 02.02.01. Área\n",
    "A_sec_m2 = np.pi * (D_m**2) / 4\n",
    "# 02.02.02. Velocidad promedio\n",
    "Velocidad_prom_m_s = Q_m3s / A_sec_m2\n",
    "# 02.02.03. Número de Reynolds\n",
    "V_m_s = Velocidad_prom_m_s\n",
    "Re = V_m_s * D_m / visco_cinem_m2s\n",
    "if Re < 2000:\n",
    "    texto_01 = \"Re = \" + str(Re) + \" y decimos entonces que es un flujo laminar.\"\n",
    "else:\n",
    "    texto_02 = \"No es un flujo laminar, la hipótesis no se cumple.\"\n",
    "# 02.02.04. Radio de la circunferencia\n",
    "R_m = D_m/2\n",
    "# 02.02.05. Radio hidraúlico para una sección circulr completamente llena\n",
    "Rh_m = D_m/4\n",
    "# 02.02.06. Calculo de la pendiente\n",
    "S1 = (2*visco_dinam_kg_sm*V_m_s)/(peso_especifico_n_m3*(R_m**2))\n",
    "S2 = (2*visco_cinem_m2s*V_m_s)/(peso_especifico_n_m3*(R_m**2))\n",
    "print(S1, S2)\n",
    "# 02.02.07. Calculo de hf\n",
    "hf1 = S1 * L_m\n",
    "hf2 = S2 * L_m\n",
    "print(\"hf1:, hf1'\")\n",
    "print(hf1, hf2)"
   ]
  },
  {
   "cell_type": "code",
   "execution_count": 3,
   "metadata": {},
   "outputs": [
    {
     "name": "stdout",
     "output_type": "stream",
     "text": [
      "01. DATOS:\n",
      "Caudal = 14 l/s\n",
      "Diámetro de la tubería = 10 cm\n"
     ]
    },
    {
     "ename": "NameError",
     "evalue": "name 'pho_rel' is not defined",
     "output_type": "error",
     "traceback": [
      "\u001b[0;31m---------------------------------------------------------------------------\u001b[0m",
      "\u001b[0;31mNameError\u001b[0m                                 Traceback (most recent call last)",
      "\u001b[0;32m<ipython-input-3-bb731bd56281>\u001b[0m in \u001b[0;36m<module>\u001b[0;34m\u001b[0m\n\u001b[1;32m      4\u001b[0m \u001b[0mprint\u001b[0m\u001b[0;34m(\u001b[0m\u001b[0;34m\"Caudal = \"\u001b[0m\u001b[0;34m+\u001b[0m\u001b[0mstr\u001b[0m\u001b[0;34m(\u001b[0m\u001b[0mQ_ls\u001b[0m\u001b[0;34m)\u001b[0m\u001b[0;34m+\u001b[0m\u001b[0;34m\" l/s\"\u001b[0m\u001b[0;34m)\u001b[0m\u001b[0;34m\u001b[0m\u001b[0;34m\u001b[0m\u001b[0m\n\u001b[1;32m      5\u001b[0m \u001b[0mprint\u001b[0m\u001b[0;34m(\u001b[0m\u001b[0;34m\"Diámetro de la tubería = \"\u001b[0m \u001b[0;34m+\u001b[0m \u001b[0mstr\u001b[0m\u001b[0;34m(\u001b[0m\u001b[0mD_cm\u001b[0m\u001b[0;34m)\u001b[0m \u001b[0;34m+\u001b[0m \u001b[0;34m\" cm\"\u001b[0m\u001b[0;34m)\u001b[0m\u001b[0;34m\u001b[0m\u001b[0;34m\u001b[0m\u001b[0m\n\u001b[0;32m----> 6\u001b[0;31m \u001b[0mprint\u001b[0m\u001b[0;34m(\u001b[0m\u001b[0;34m\"Densidad relativa = \"\u001b[0m \u001b[0;34m+\u001b[0m \u001b[0mstr\u001b[0m\u001b[0;34m(\u001b[0m\u001b[0mpho_rel\u001b[0m\u001b[0;34m)\u001b[0m\u001b[0;34m)\u001b[0m\u001b[0;34m\u001b[0m\u001b[0;34m\u001b[0m\u001b[0m\n\u001b[0m\u001b[1;32m      7\u001b[0m \u001b[0mprint\u001b[0m\u001b[0;34m(\u001b[0m\u001b[0;34m\"Viscosidad dinámica = \"\u001b[0m \u001b[0;34m+\u001b[0m \u001b[0mstr\u001b[0m\u001b[0;34m(\u001b[0m\u001b[0mvisco_kgs_m2\u001b[0m\u001b[0;34m)\u001b[0m \u001b[0;34m+\u001b[0m \u001b[0;34m\" kgf.s/m2\"\u001b[0m\u001b[0;34m)\u001b[0m\u001b[0;34m\u001b[0m\u001b[0;34m\u001b[0m\u001b[0m\n\u001b[1;32m      8\u001b[0m \u001b[0mprint\u001b[0m\u001b[0;34m(\u001b[0m\u001b[0;34m\"\\n\"\u001b[0m\u001b[0;34m)\u001b[0m\u001b[0;34m\u001b[0m\u001b[0;34m\u001b[0m\u001b[0m\n",
      "\u001b[0;31mNameError\u001b[0m: name 'pho_rel' is not defined"
     ]
    }
   ],
   "source": [
    "# Resultados\n",
    "\n",
    "print(\"01. DATOS:\")\n",
    "print(\"Caudal = \"+str(Q_ls)+\" l/s\")\n",
    "print(\"Diámetro de la tubería = \" + str(D_cm) + \" cm\")\n",
    "print(\"Densidad relativa = \" + str(pho_rel))\n",
    "print(\"Viscosidad dinámica = \" + str(visco_kgs_m2) + \" kgf.s/m2\")\n",
    "print(\"\\n\")\n",
    "\n",
    "print(\"02. OPERACIÓN:\")\n",
    "print(\"02.01. Conversión de unidades al SI:\")\n",
    "print()\n",
    "\n",
    "print(\"\\n\")\n",
    "\n",
    "print(\"03. RESPUESTA:\")\n",
    "print(\"Velocidad promedio es \"+str(Vprom) + \" m/s\")\n",
    "print(\"Viscosidad es \" + str(mu_stk) + \" Stokes\")\n",
    "print(\"Viscosidad es \" + str(mu_cstk) + \" cSt\")\n",
    "print(\"Viscosidad es \" + str(visco_poise) + \" Poise\")\n",
    "print(\"Viscosidad es \" + str(visco_cp) + \" cp\")"
   ]
  },
  {
   "cell_type": "code",
   "execution_count": null,
   "metadata": {},
   "outputs": [],
   "source": []
  }
 ],
 "metadata": {
  "kernelspec": {
   "display_name": "Python 3",
   "language": "python",
   "name": "python3"
  },
  "language_info": {
   "codemirror_mode": {
    "name": "ipython",
    "version": 3
   },
   "file_extension": ".py",
   "mimetype": "text/x-python",
   "name": "python",
   "nbconvert_exporter": "python",
   "pygments_lexer": "ipython3",
   "version": "3.6.9"
  }
 },
 "nbformat": 4,
 "nbformat_minor": 2
}
